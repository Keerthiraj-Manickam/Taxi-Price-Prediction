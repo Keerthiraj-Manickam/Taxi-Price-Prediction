{
 "cells": [
  {
   "cell_type": "markdown",
   "id": "5b728e65-3041-4d2b-ab65-c7fafe458ba1",
   "metadata": {},
   "source": [
    " # TAXI PRICE PREDICTION"
   ]
  },
  {
   "cell_type": "markdown",
   "id": "fa6f3e7c-64ff-451f-8a60-52f3f22abeb6",
   "metadata": {},
   "source": [
    "### Linear Regression Model"
   ]
  },
  {
   "cell_type": "code",
   "execution_count": 2,
   "id": "8ec85aff-2dae-4b56-976d-05874c2c9a97",
   "metadata": {},
   "outputs": [],
   "source": [
    "import pandas as pd\n",
    "import numpy as np\n",
    "import matplotlib.pyplot as plt\n",
    "import seaborn as sns\n",
    "from sklearn.model_selection import train_test_split,GridSearchCV\n",
    "from sklearn.preprocessing import StandardScaler\n",
    "from sklearn.linear_model import LinearRegression, Ridge, Lasso\n",
    "from sklearn.metrics import r2_score, mean_squared_error, mean_absolute_error"
   ]
  },
  {
   "cell_type": "code",
   "execution_count": 3,
   "id": "26563b4d-6dd4-4ca4-b085-209d49bc97c1",
   "metadata": {},
   "outputs": [
    {
     "data": {
      "text/html": [
       "<div>\n",
       "<style scoped>\n",
       "    .dataframe tbody tr th:only-of-type {\n",
       "        vertical-align: middle;\n",
       "    }\n",
       "\n",
       "    .dataframe tbody tr th {\n",
       "        vertical-align: top;\n",
       "    }\n",
       "\n",
       "    .dataframe thead th {\n",
       "        text-align: right;\n",
       "    }\n",
       "</style>\n",
       "<table border=\"1\" class=\"dataframe\">\n",
       "  <thead>\n",
       "    <tr style=\"text-align: right;\">\n",
       "      <th></th>\n",
       "      <th>Trip_Distance_km</th>\n",
       "      <th>Time_of_Day</th>\n",
       "      <th>Day_of_Week</th>\n",
       "      <th>Passenger_Count</th>\n",
       "      <th>Traffic_Conditions</th>\n",
       "      <th>Weather</th>\n",
       "      <th>Base_Fare</th>\n",
       "      <th>Per_Km_Rate</th>\n",
       "      <th>Per_Minute_Rate</th>\n",
       "      <th>Trip_Duration_Minutes</th>\n",
       "      <th>Trip_Price</th>\n",
       "    </tr>\n",
       "  </thead>\n",
       "  <tbody>\n",
       "    <tr>\n",
       "      <th>0</th>\n",
       "      <td>19.35</td>\n",
       "      <td>Morning</td>\n",
       "      <td>Weekday</td>\n",
       "      <td>3.0</td>\n",
       "      <td>Low</td>\n",
       "      <td>Clear</td>\n",
       "      <td>3.56</td>\n",
       "      <td>0.80</td>\n",
       "      <td>0.32</td>\n",
       "      <td>53.82</td>\n",
       "      <td>36.2624</td>\n",
       "    </tr>\n",
       "    <tr>\n",
       "      <th>1</th>\n",
       "      <td>47.59</td>\n",
       "      <td>Afternoon</td>\n",
       "      <td>Weekday</td>\n",
       "      <td>1.0</td>\n",
       "      <td>High</td>\n",
       "      <td>Clear</td>\n",
       "      <td>NaN</td>\n",
       "      <td>0.62</td>\n",
       "      <td>0.43</td>\n",
       "      <td>40.57</td>\n",
       "      <td>NaN</td>\n",
       "    </tr>\n",
       "    <tr>\n",
       "      <th>2</th>\n",
       "      <td>36.87</td>\n",
       "      <td>Evening</td>\n",
       "      <td>Weekend</td>\n",
       "      <td>1.0</td>\n",
       "      <td>High</td>\n",
       "      <td>Clear</td>\n",
       "      <td>2.70</td>\n",
       "      <td>1.21</td>\n",
       "      <td>0.15</td>\n",
       "      <td>37.27</td>\n",
       "      <td>52.9032</td>\n",
       "    </tr>\n",
       "    <tr>\n",
       "      <th>3</th>\n",
       "      <td>30.33</td>\n",
       "      <td>Evening</td>\n",
       "      <td>Weekday</td>\n",
       "      <td>4.0</td>\n",
       "      <td>Low</td>\n",
       "      <td>NaN</td>\n",
       "      <td>3.48</td>\n",
       "      <td>0.51</td>\n",
       "      <td>0.15</td>\n",
       "      <td>116.81</td>\n",
       "      <td>36.4698</td>\n",
       "    </tr>\n",
       "    <tr>\n",
       "      <th>4</th>\n",
       "      <td>NaN</td>\n",
       "      <td>Evening</td>\n",
       "      <td>Weekday</td>\n",
       "      <td>3.0</td>\n",
       "      <td>High</td>\n",
       "      <td>Clear</td>\n",
       "      <td>2.93</td>\n",
       "      <td>0.63</td>\n",
       "      <td>0.32</td>\n",
       "      <td>22.64</td>\n",
       "      <td>15.6180</td>\n",
       "    </tr>\n",
       "    <tr>\n",
       "      <th>...</th>\n",
       "      <td>...</td>\n",
       "      <td>...</td>\n",
       "      <td>...</td>\n",
       "      <td>...</td>\n",
       "      <td>...</td>\n",
       "      <td>...</td>\n",
       "      <td>...</td>\n",
       "      <td>...</td>\n",
       "      <td>...</td>\n",
       "      <td>...</td>\n",
       "      <td>...</td>\n",
       "    </tr>\n",
       "    <tr>\n",
       "      <th>995</th>\n",
       "      <td>5.49</td>\n",
       "      <td>Afternoon</td>\n",
       "      <td>Weekend</td>\n",
       "      <td>4.0</td>\n",
       "      <td>Medium</td>\n",
       "      <td>Clear</td>\n",
       "      <td>2.39</td>\n",
       "      <td>0.62</td>\n",
       "      <td>0.49</td>\n",
       "      <td>58.39</td>\n",
       "      <td>34.4049</td>\n",
       "    </tr>\n",
       "    <tr>\n",
       "      <th>996</th>\n",
       "      <td>45.95</td>\n",
       "      <td>Night</td>\n",
       "      <td>Weekday</td>\n",
       "      <td>4.0</td>\n",
       "      <td>Medium</td>\n",
       "      <td>Clear</td>\n",
       "      <td>3.12</td>\n",
       "      <td>0.61</td>\n",
       "      <td>NaN</td>\n",
       "      <td>61.96</td>\n",
       "      <td>62.1295</td>\n",
       "    </tr>\n",
       "    <tr>\n",
       "      <th>997</th>\n",
       "      <td>7.70</td>\n",
       "      <td>Morning</td>\n",
       "      <td>Weekday</td>\n",
       "      <td>3.0</td>\n",
       "      <td>Low</td>\n",
       "      <td>Rain</td>\n",
       "      <td>2.08</td>\n",
       "      <td>1.78</td>\n",
       "      <td>NaN</td>\n",
       "      <td>54.18</td>\n",
       "      <td>33.1236</td>\n",
       "    </tr>\n",
       "    <tr>\n",
       "      <th>998</th>\n",
       "      <td>47.56</td>\n",
       "      <td>Morning</td>\n",
       "      <td>Weekday</td>\n",
       "      <td>1.0</td>\n",
       "      <td>Low</td>\n",
       "      <td>Clear</td>\n",
       "      <td>2.67</td>\n",
       "      <td>0.82</td>\n",
       "      <td>0.17</td>\n",
       "      <td>114.94</td>\n",
       "      <td>61.2090</td>\n",
       "    </tr>\n",
       "    <tr>\n",
       "      <th>999</th>\n",
       "      <td>22.85</td>\n",
       "      <td>Morning</td>\n",
       "      <td>Weekend</td>\n",
       "      <td>3.0</td>\n",
       "      <td>Medium</td>\n",
       "      <td>Clear</td>\n",
       "      <td>4.34</td>\n",
       "      <td>NaN</td>\n",
       "      <td>0.23</td>\n",
       "      <td>29.69</td>\n",
       "      <td>45.4437</td>\n",
       "    </tr>\n",
       "  </tbody>\n",
       "</table>\n",
       "<p>1000 rows × 11 columns</p>\n",
       "</div>"
      ],
      "text/plain": [
       "     Trip_Distance_km Time_of_Day Day_of_Week  Passenger_Count  \\\n",
       "0               19.35     Morning     Weekday              3.0   \n",
       "1               47.59   Afternoon     Weekday              1.0   \n",
       "2               36.87     Evening     Weekend              1.0   \n",
       "3               30.33     Evening     Weekday              4.0   \n",
       "4                 NaN     Evening     Weekday              3.0   \n",
       "..                ...         ...         ...              ...   \n",
       "995              5.49   Afternoon     Weekend              4.0   \n",
       "996             45.95       Night     Weekday              4.0   \n",
       "997              7.70     Morning     Weekday              3.0   \n",
       "998             47.56     Morning     Weekday              1.0   \n",
       "999             22.85     Morning     Weekend              3.0   \n",
       "\n",
       "    Traffic_Conditions Weather  Base_Fare  Per_Km_Rate  Per_Minute_Rate  \\\n",
       "0                  Low   Clear       3.56         0.80             0.32   \n",
       "1                 High   Clear        NaN         0.62             0.43   \n",
       "2                 High   Clear       2.70         1.21             0.15   \n",
       "3                  Low     NaN       3.48         0.51             0.15   \n",
       "4                 High   Clear       2.93         0.63             0.32   \n",
       "..                 ...     ...        ...          ...              ...   \n",
       "995             Medium   Clear       2.39         0.62             0.49   \n",
       "996             Medium   Clear       3.12         0.61              NaN   \n",
       "997                Low    Rain       2.08         1.78              NaN   \n",
       "998                Low   Clear       2.67         0.82             0.17   \n",
       "999             Medium   Clear       4.34          NaN             0.23   \n",
       "\n",
       "     Trip_Duration_Minutes  Trip_Price  \n",
       "0                    53.82     36.2624  \n",
       "1                    40.57         NaN  \n",
       "2                    37.27     52.9032  \n",
       "3                   116.81     36.4698  \n",
       "4                    22.64     15.6180  \n",
       "..                     ...         ...  \n",
       "995                  58.39     34.4049  \n",
       "996                  61.96     62.1295  \n",
       "997                  54.18     33.1236  \n",
       "998                 114.94     61.2090  \n",
       "999                  29.69     45.4437  \n",
       "\n",
       "[1000 rows x 11 columns]"
      ]
     },
     "execution_count": 3,
     "metadata": {},
     "output_type": "execute_result"
    }
   ],
   "source": [
    "df = pd.read_csv(r\"C:\\Users\\rkeer\\Downloads\\archive (48)\\taxi_trip_pricing.csv\")\n",
    "df"
   ]
  },
  {
   "cell_type": "code",
   "execution_count": 4,
   "id": "566726be-2c0f-4606-ad89-4135bd105c5a",
   "metadata": {},
   "outputs": [
    {
     "data": {
      "text/html": [
       "<div>\n",
       "<style scoped>\n",
       "    .dataframe tbody tr th:only-of-type {\n",
       "        vertical-align: middle;\n",
       "    }\n",
       "\n",
       "    .dataframe tbody tr th {\n",
       "        vertical-align: top;\n",
       "    }\n",
       "\n",
       "    .dataframe thead th {\n",
       "        text-align: right;\n",
       "    }\n",
       "</style>\n",
       "<table border=\"1\" class=\"dataframe\">\n",
       "  <thead>\n",
       "    <tr style=\"text-align: right;\">\n",
       "      <th></th>\n",
       "      <th>Trip_Distance_km</th>\n",
       "      <th>Time_of_Day</th>\n",
       "      <th>Day_of_Week</th>\n",
       "      <th>Passenger_Count</th>\n",
       "      <th>Traffic_Conditions</th>\n",
       "      <th>Weather</th>\n",
       "      <th>Base_Fare</th>\n",
       "      <th>Per_Km_Rate</th>\n",
       "      <th>Per_Minute_Rate</th>\n",
       "      <th>Trip_Duration_Minutes</th>\n",
       "      <th>Trip_Price</th>\n",
       "    </tr>\n",
       "  </thead>\n",
       "  <tbody>\n",
       "    <tr>\n",
       "      <th>0</th>\n",
       "      <td>19.35</td>\n",
       "      <td>Morning</td>\n",
       "      <td>Weekday</td>\n",
       "      <td>3.0</td>\n",
       "      <td>Low</td>\n",
       "      <td>Clear</td>\n",
       "      <td>3.56</td>\n",
       "      <td>0.80</td>\n",
       "      <td>0.32</td>\n",
       "      <td>53.82</td>\n",
       "      <td>36.2624</td>\n",
       "    </tr>\n",
       "    <tr>\n",
       "      <th>1</th>\n",
       "      <td>47.59</td>\n",
       "      <td>Afternoon</td>\n",
       "      <td>Weekday</td>\n",
       "      <td>1.0</td>\n",
       "      <td>High</td>\n",
       "      <td>Clear</td>\n",
       "      <td>NaN</td>\n",
       "      <td>0.62</td>\n",
       "      <td>0.43</td>\n",
       "      <td>40.57</td>\n",
       "      <td>NaN</td>\n",
       "    </tr>\n",
       "    <tr>\n",
       "      <th>2</th>\n",
       "      <td>36.87</td>\n",
       "      <td>Evening</td>\n",
       "      <td>Weekend</td>\n",
       "      <td>1.0</td>\n",
       "      <td>High</td>\n",
       "      <td>Clear</td>\n",
       "      <td>2.70</td>\n",
       "      <td>1.21</td>\n",
       "      <td>0.15</td>\n",
       "      <td>37.27</td>\n",
       "      <td>52.9032</td>\n",
       "    </tr>\n",
       "    <tr>\n",
       "      <th>3</th>\n",
       "      <td>30.33</td>\n",
       "      <td>Evening</td>\n",
       "      <td>Weekday</td>\n",
       "      <td>4.0</td>\n",
       "      <td>Low</td>\n",
       "      <td>NaN</td>\n",
       "      <td>3.48</td>\n",
       "      <td>0.51</td>\n",
       "      <td>0.15</td>\n",
       "      <td>116.81</td>\n",
       "      <td>36.4698</td>\n",
       "    </tr>\n",
       "    <tr>\n",
       "      <th>4</th>\n",
       "      <td>NaN</td>\n",
       "      <td>Evening</td>\n",
       "      <td>Weekday</td>\n",
       "      <td>3.0</td>\n",
       "      <td>High</td>\n",
       "      <td>Clear</td>\n",
       "      <td>2.93</td>\n",
       "      <td>0.63</td>\n",
       "      <td>0.32</td>\n",
       "      <td>22.64</td>\n",
       "      <td>15.6180</td>\n",
       "    </tr>\n",
       "  </tbody>\n",
       "</table>\n",
       "</div>"
      ],
      "text/plain": [
       "   Trip_Distance_km Time_of_Day Day_of_Week  Passenger_Count  \\\n",
       "0             19.35     Morning     Weekday              3.0   \n",
       "1             47.59   Afternoon     Weekday              1.0   \n",
       "2             36.87     Evening     Weekend              1.0   \n",
       "3             30.33     Evening     Weekday              4.0   \n",
       "4               NaN     Evening     Weekday              3.0   \n",
       "\n",
       "  Traffic_Conditions Weather  Base_Fare  Per_Km_Rate  Per_Minute_Rate  \\\n",
       "0                Low   Clear       3.56         0.80             0.32   \n",
       "1               High   Clear        NaN         0.62             0.43   \n",
       "2               High   Clear       2.70         1.21             0.15   \n",
       "3                Low     NaN       3.48         0.51             0.15   \n",
       "4               High   Clear       2.93         0.63             0.32   \n",
       "\n",
       "   Trip_Duration_Minutes  Trip_Price  \n",
       "0                  53.82     36.2624  \n",
       "1                  40.57         NaN  \n",
       "2                  37.27     52.9032  \n",
       "3                 116.81     36.4698  \n",
       "4                  22.64     15.6180  "
      ]
     },
     "execution_count": 4,
     "metadata": {},
     "output_type": "execute_result"
    }
   ],
   "source": [
    "df.head()"
   ]
  },
  {
   "cell_type": "code",
   "execution_count": 5,
   "id": "94a6241b-7da9-403e-8c23-72d54e8ac98c",
   "metadata": {},
   "outputs": [
    {
     "data": {
      "text/plain": [
       "(1000, 11)"
      ]
     },
     "execution_count": 5,
     "metadata": {},
     "output_type": "execute_result"
    }
   ],
   "source": [
    "df.shape"
   ]
  },
  {
   "cell_type": "code",
   "execution_count": 6,
   "id": "0fba83d6-542a-4d5c-bc1b-5c040ce83187",
   "metadata": {},
   "outputs": [
    {
     "data": {
      "text/html": [
       "<div>\n",
       "<style scoped>\n",
       "    .dataframe tbody tr th:only-of-type {\n",
       "        vertical-align: middle;\n",
       "    }\n",
       "\n",
       "    .dataframe tbody tr th {\n",
       "        vertical-align: top;\n",
       "    }\n",
       "\n",
       "    .dataframe thead th {\n",
       "        text-align: right;\n",
       "    }\n",
       "</style>\n",
       "<table border=\"1\" class=\"dataframe\">\n",
       "  <thead>\n",
       "    <tr style=\"text-align: right;\">\n",
       "      <th></th>\n",
       "      <th>Trip_Distance_km</th>\n",
       "      <th>Passenger_Count</th>\n",
       "      <th>Base_Fare</th>\n",
       "      <th>Per_Km_Rate</th>\n",
       "      <th>Per_Minute_Rate</th>\n",
       "      <th>Trip_Duration_Minutes</th>\n",
       "      <th>Trip_Price</th>\n",
       "    </tr>\n",
       "  </thead>\n",
       "  <tbody>\n",
       "    <tr>\n",
       "      <th>count</th>\n",
       "      <td>950.000000</td>\n",
       "      <td>950.000000</td>\n",
       "      <td>950.000000</td>\n",
       "      <td>950.000000</td>\n",
       "      <td>950.000000</td>\n",
       "      <td>950.000000</td>\n",
       "      <td>951.000000</td>\n",
       "    </tr>\n",
       "    <tr>\n",
       "      <th>mean</th>\n",
       "      <td>27.070547</td>\n",
       "      <td>2.476842</td>\n",
       "      <td>3.502989</td>\n",
       "      <td>1.233316</td>\n",
       "      <td>0.292916</td>\n",
       "      <td>62.118116</td>\n",
       "      <td>56.874773</td>\n",
       "    </tr>\n",
       "    <tr>\n",
       "      <th>std</th>\n",
       "      <td>19.905300</td>\n",
       "      <td>1.102249</td>\n",
       "      <td>0.870162</td>\n",
       "      <td>0.429816</td>\n",
       "      <td>0.115592</td>\n",
       "      <td>32.154406</td>\n",
       "      <td>40.469791</td>\n",
       "    </tr>\n",
       "    <tr>\n",
       "      <th>min</th>\n",
       "      <td>1.230000</td>\n",
       "      <td>1.000000</td>\n",
       "      <td>2.010000</td>\n",
       "      <td>0.500000</td>\n",
       "      <td>0.100000</td>\n",
       "      <td>5.010000</td>\n",
       "      <td>6.126900</td>\n",
       "    </tr>\n",
       "    <tr>\n",
       "      <th>25%</th>\n",
       "      <td>12.632500</td>\n",
       "      <td>1.250000</td>\n",
       "      <td>2.730000</td>\n",
       "      <td>0.860000</td>\n",
       "      <td>0.190000</td>\n",
       "      <td>35.882500</td>\n",
       "      <td>33.742650</td>\n",
       "    </tr>\n",
       "    <tr>\n",
       "      <th>50%</th>\n",
       "      <td>25.830000</td>\n",
       "      <td>2.000000</td>\n",
       "      <td>3.520000</td>\n",
       "      <td>1.220000</td>\n",
       "      <td>0.290000</td>\n",
       "      <td>61.860000</td>\n",
       "      <td>50.074500</td>\n",
       "    </tr>\n",
       "    <tr>\n",
       "      <th>75%</th>\n",
       "      <td>38.405000</td>\n",
       "      <td>3.000000</td>\n",
       "      <td>4.260000</td>\n",
       "      <td>1.610000</td>\n",
       "      <td>0.390000</td>\n",
       "      <td>89.055000</td>\n",
       "      <td>69.099350</td>\n",
       "    </tr>\n",
       "    <tr>\n",
       "      <th>max</th>\n",
       "      <td>146.067047</td>\n",
       "      <td>4.000000</td>\n",
       "      <td>5.000000</td>\n",
       "      <td>2.000000</td>\n",
       "      <td>0.500000</td>\n",
       "      <td>119.840000</td>\n",
       "      <td>332.043689</td>\n",
       "    </tr>\n",
       "  </tbody>\n",
       "</table>\n",
       "</div>"
      ],
      "text/plain": [
       "       Trip_Distance_km  Passenger_Count   Base_Fare  Per_Km_Rate  \\\n",
       "count        950.000000       950.000000  950.000000   950.000000   \n",
       "mean          27.070547         2.476842    3.502989     1.233316   \n",
       "std           19.905300         1.102249    0.870162     0.429816   \n",
       "min            1.230000         1.000000    2.010000     0.500000   \n",
       "25%           12.632500         1.250000    2.730000     0.860000   \n",
       "50%           25.830000         2.000000    3.520000     1.220000   \n",
       "75%           38.405000         3.000000    4.260000     1.610000   \n",
       "max          146.067047         4.000000    5.000000     2.000000   \n",
       "\n",
       "       Per_Minute_Rate  Trip_Duration_Minutes  Trip_Price  \n",
       "count       950.000000             950.000000  951.000000  \n",
       "mean          0.292916              62.118116   56.874773  \n",
       "std           0.115592              32.154406   40.469791  \n",
       "min           0.100000               5.010000    6.126900  \n",
       "25%           0.190000              35.882500   33.742650  \n",
       "50%           0.290000              61.860000   50.074500  \n",
       "75%           0.390000              89.055000   69.099350  \n",
       "max           0.500000             119.840000  332.043689  "
      ]
     },
     "execution_count": 6,
     "metadata": {},
     "output_type": "execute_result"
    }
   ],
   "source": [
    "df.describe()"
   ]
  },
  {
   "cell_type": "code",
   "execution_count": 7,
   "id": "7e280133-7466-4d82-bb9e-acfcae2ca9b3",
   "metadata": {},
   "outputs": [
    {
     "name": "stdout",
     "output_type": "stream",
     "text": [
      "<class 'pandas.core.frame.DataFrame'>\n",
      "RangeIndex: 1000 entries, 0 to 999\n",
      "Data columns (total 11 columns):\n",
      " #   Column                 Non-Null Count  Dtype  \n",
      "---  ------                 --------------  -----  \n",
      " 0   Trip_Distance_km       950 non-null    float64\n",
      " 1   Time_of_Day            950 non-null    object \n",
      " 2   Day_of_Week            950 non-null    object \n",
      " 3   Passenger_Count        950 non-null    float64\n",
      " 4   Traffic_Conditions     950 non-null    object \n",
      " 5   Weather                950 non-null    object \n",
      " 6   Base_Fare              950 non-null    float64\n",
      " 7   Per_Km_Rate            950 non-null    float64\n",
      " 8   Per_Minute_Rate        950 non-null    float64\n",
      " 9   Trip_Duration_Minutes  950 non-null    float64\n",
      " 10  Trip_Price             951 non-null    float64\n",
      "dtypes: float64(7), object(4)\n",
      "memory usage: 86.1+ KB\n"
     ]
    }
   ],
   "source": [
    "df.info()"
   ]
  },
  {
   "cell_type": "code",
   "execution_count": 10,
   "id": "ac89e541-bde2-4caf-aa90-5b67b3786f2e",
   "metadata": {},
   "outputs": [
    {
     "data": {
      "text/plain": [
       "Trip_Distance_km         0\n",
       "Time_of_Day              0\n",
       "Day_of_Week              0\n",
       "Passenger_Count          0\n",
       "Traffic_Conditions       0\n",
       "Weather                  0\n",
       "Base_Fare                0\n",
       "Per_Km_Rate              0\n",
       "Per_Minute_Rate          0\n",
       "Trip_Duration_Minutes    0\n",
       "Trip_Price               0\n",
       "dtype: int64"
      ]
     },
     "execution_count": 10,
     "metadata": {},
     "output_type": "execute_result"
    }
   ],
   "source": [
    "df.isnull().sum()"
   ]
  },
  {
   "cell_type": "code",
   "execution_count": 9,
   "id": "e81342b5-bda6-4c85-8331-2a3cb03152b7",
   "metadata": {},
   "outputs": [],
   "source": [
    "df['Trip_Distance_km'].fillna(df['Trip_Distance_km'].mean(),inplace=True)\n",
    "df['Passenger_Count'].fillna(df['Passenger_Count'].mean(),inplace=True)\n",
    "df['Base_Fare'].fillna(df['Base_Fare'].mean(),inplace=True)\n",
    "df['Per_Km_Rate'].fillna(df['Per_Km_Rate'].mean(),inplace=True)\n",
    "df['Per_Minute_Rate'].fillna(df['Per_Minute_Rate'].mean(),inplace=True)\n",
    "df['Trip_Duration_Minutes'].fillna(df['Trip_Duration_Minutes'].mean(),inplace=True)\n",
    "df['Trip_Price'].fillna(df['Trip_Price'].mean(),inplace=True)\n",
    "df['Time_of_Day'].fillna('Unknown',inplace=True)\n",
    "df['Day_of_Week'].fillna('Unknown',inplace=True)\n",
    "df['Traffic_Conditions'].fillna('Unknown',inplace=True)\n",
    "df['Weather'].fillna('Unknown',inplace=True)"
   ]
  },
  {
   "cell_type": "code",
   "execution_count": 11,
   "id": "dc4ec3c6-5293-4f51-ba03-ec338862b8aa",
   "metadata": {},
   "outputs": [
    {
     "data": {
      "image/png": "[encoded data removed]",
      "text/plain": [
       "<Figure size 2800x400 with 7 Axes>"
      ]
     },
     "metadata": {},
     "output_type": "display_data"
    }
   ],
   "source": [
    "sns.pairplot(df, x_vars=['Trip_Distance_km', 'Time_of_Day', 'Base_Fare','Per_Km_Rate','Trip_Duration_Minutes','Per_Km_Rate','Per_Minute_Rate'], y_vars='Trip_Price', height=4)\n",
    "plt.show()"
   ]
  },
  {
   "cell_type": "code",
   "execution_count": 12,
   "id": "e030cb40-eda3-4530-98fd-0d5210fec0ad",
   "metadata": {},
   "outputs": [],
   "source": [
    "X = df['Trip_Distance_km']\n",
    "Y = df['Trip_Price']"
   ]
  },
  {
   "cell_type": "code",
   "execution_count": 13,
   "id": "7b8d3589-b073-4fa0-b24c-0e53359e7f2a",
   "metadata": {},
   "outputs": [],
   "source": [
    "X_train,X_test,Y_train,Y_test = train_test_split(X,Y,test_size = 0.20, random_state = 11)"
   ]
  },
  {
   "cell_type": "code",
   "execution_count": 18,
   "id": "e1d09e4d-d40b-407f-a7ac-3ca125324725",
   "metadata": {},
   "outputs": [
    {
     "data": {
      "text/plain": [
       "(800, 1)"
      ]
     },
     "execution_count": 18,
     "metadata": {},
     "output_type": "execute_result"
    }
   ],
   "source": [
    "X_train.shape"
   ]
  },
  {
   "cell_type": "code",
   "execution_count": 15,
   "id": "fb3bc00a-0d0d-4d1f-83dc-09ce6bc4cf81",
   "metadata": {},
   "outputs": [],
   "source": [
    "X_train = X_train.values.reshape(-1,1)"
   ]
  },
  {
   "cell_type": "code",
   "execution_count": 19,
   "id": "1b768b51-1aa5-48ff-b390-020a78941112",
   "metadata": {},
   "outputs": [
    {
     "data": {
      "text/plain": [
       "(200, 1)"
      ]
     },
     "execution_count": 19,
     "metadata": {},
     "output_type": "execute_result"
    }
   ],
   "source": [
    "X_test.shape"
   ]
  },
  {
   "cell_type": "code",
   "execution_count": 17,
   "id": "011da7d5-afa7-4d09-9620-f4301c9967d6",
   "metadata": {},
   "outputs": [],
   "source": [
    "X_test = X_test.values.reshape(-1,1)"
   ]
  },
  {
   "cell_type": "code",
   "execution_count": 16,
   "id": "d98e63de-cbc5-4730-9bd4-43957a3c3e01",
   "metadata": {},
   "outputs": [],
   "source": [
    "Model = LinearRegression()"
   ]
  },
  {
   "cell_type": "code",
   "execution_count": 17,
   "id": "57b039d7-b914-4155-944f-c83f7a736fa9",
   "metadata": {},
   "outputs": [
    {
     "data": {
      "text/html": [
       "<style>#sk-container-id-1 {color: black;background-color: white;}#sk-container-id-1 pre{padding: 0;}#sk-container-id-1 div.sk-toggleable {background-color: white;}#sk-container-id-1 label.sk-toggleable__label {cursor: pointer;display: block;width: 100%;margin-bottom: 0;padding: 0.3em;box-sizing: border-box;text-align: center;}#sk-container-id-1 label.sk-toggleable__label-arrow:before {content: \"▸\";float: left;margin-right: 0.25em;color: #696969;}#sk-container-id-1 label.sk-toggleable__label-arrow:hover:before {color: black;}#sk-container-id-1 div.sk-estimator:hover label.sk-toggleable__label-arrow:before {color: black;}#sk-container-id-1 div.sk-toggleable__content {max-height: 0;max-width: 0;overflow: hidden;text-align: left;background-color: #f0f8ff;}#sk-container-id-1 div.sk-toggleable__content pre {margin: 0.2em;color: black;border-radius: 0.25em;background-color: #f0f8ff;}#sk-container-id-1 input.sk-toggleable__control:checked~div.sk-toggleable__content {max-height: 200px;max-width: 100%;overflow: auto;}#sk-container-id-1 input.sk-toggleable__control:checked~label.sk-toggleable__label-arrow:before {content: \"▾\";}#sk-container-id-1 div.sk-estimator input.sk-toggleable__control:checked~label.sk-toggleable__label {background-color: #d4ebff;}#sk-container-id-1 div.sk-label input.sk-toggleable__control:checked~label.sk-toggleable__label {background-color: #d4ebff;}#sk-container-id-1 input.sk-hidden--visually {border: 0;clip: rect(1px 1px 1px 1px);clip: rect(1px, 1px, 1px, 1px);height: 1px;margin: -1px;overflow: hidden;padding: 0;position: absolute;width: 1px;}#sk-container-id-1 div.sk-estimator {font-family: monospace;background-color: #f0f8ff;border: 1px dotted black;border-radius: 0.25em;box-sizing: border-box;margin-bottom: 0.5em;}#sk-container-id-1 div.sk-estimator:hover {background-color: #d4ebff;}#sk-container-id-1 div.sk-parallel-item::after {content: \"\";width: 100%;border-bottom: 1px solid gray;flex-grow: 1;}#sk-container-id-1 div.sk-label:hover label.sk-toggleable__label {background-color: #d4ebff;}#sk-container-id-1 div.sk-serial::before {content: \"\";position: absolute;border-left: 1px solid gray;box-sizing: border-box;top: 0;bottom: 0;left: 50%;z-index: 0;}#sk-container-id-1 div.sk-serial {display: flex;flex-direction: column;align-items: center;background-color: white;padding-right: 0.2em;padding-left: 0.2em;position: relative;}#sk-container-id-1 div.sk-item {position: relative;z-index: 1;}#sk-container-id-1 div.sk-parallel {display: flex;align-items: stretch;justify-content: center;background-color: white;position: relative;}#sk-container-id-1 div.sk-item::before, #sk-container-id-1 div.sk-parallel-item::before {content: \"\";position: absolute;border-left: 1px solid gray;box-sizing: border-box;top: 0;bottom: 0;left: 50%;z-index: -1;}#sk-container-id-1 div.sk-parallel-item {display: flex;flex-direction: column;z-index: 1;position: relative;background-color: white;}#sk-container-id-1 div.sk-parallel-item:first-child::after {align-self: flex-end;width: 50%;}#sk-container-id-1 div.sk-parallel-item:last-child::after {align-self: flex-start;width: 50%;}#sk-container-id-1 div.sk-parallel-item:only-child::after {width: 0;}#sk-container-id-1 div.sk-dashed-wrapped {border: 1px dashed gray;margin: 0 0.4em 0.5em 0.4em;box-sizing: border-box;padding-bottom: 0.4em;background-color: white;}#sk-container-id-1 div.sk-label label {font-family: monospace;font-weight: bold;display: inline-block;line-height: 1.2em;}#sk-container-id-1 div.sk-label-container {text-align: center;}#sk-container-id-1 div.sk-container {/* jupyter's `normalize.less` sets `[hidden] { display: none; }` but bootstrap.min.css set `[hidden] { display: none !important; }` so we also need the `!important` here to be able to override the default hidden behavior on the sphinx rendered scikit-learn.org. See: https://github.com/scikit-learn/scikit-learn/issues/21755 */display: inline-block !important;position: relative;}#sk-container-id-1 div.sk-text-repr-fallback {display: none;}</style><div id=\"sk-container-id-1\" class=\"sk-top-container\"><div class=\"sk-text-repr-fallback\"><pre>LinearRegression()</pre><b>In a Jupyter environment, please rerun this cell to show the HTML representation or trust the notebook. <br />On GitHub, the HTML representation is unable to render, please try loading this page with nbviewer.org.</b></div><div class=\"sk-container\" hidden><div class=\"sk-item\"><div class=\"sk-estimator sk-toggleable\"><input class=\"sk-toggleable__control sk-hidden--visually\" id=\"sk-estimator-id-1\" type=\"checkbox\" checked><label for=\"sk-estimator-id-1\" class=\"sk-toggleable__label sk-toggleable__label-arrow\">LinearRegression</label><div class=\"sk-toggleable__content\"><pre>LinearRegression()</pre></div></div></div></div></div>"
      ],
      "text/plain": [
       "LinearRegression()"
      ]
     },
     "execution_count": 17,
     "metadata": {},
     "output_type": "execute_result"
    }
   ],
   "source": [
    "Model.fit(X_train,Y_train)"
   ]
  },
  {
   "cell_type": "code",
   "execution_count": 18,
   "id": "fc121d11-f42d-4280-b837-3d31a52e8c22",
   "metadata": {},
   "outputs": [],
   "source": [
    "Pred = Model.predict(X_test)"
   ]
  },
  {
   "cell_type": "code",
   "execution_count": 19,
   "id": "449ecac4-bfc3-4a76-ae37-c95fd78bc153",
   "metadata": {},
   "outputs": [
    {
     "name": "stdout",
     "output_type": "stream",
     "text": [
      "R2_Score: 0.3385035799304945\n",
      "Mean_Absolute_Error: 17.530150936858863\n",
      "Mean_Squared_Error: 480.7832022524579\n"
     ]
    }
   ],
   "source": [
    "print(\"R2_Score:\", r2_score(Y_test,Pred))\n",
    "print(\"Mean_Absolute_Error:\", mean_absolute_error(Y_test,Pred))\n",
    "print(\"Mean_Squared_Error:\", mean_squared_error(Y_test,Pred))"
   ]
  },
  {
   "cell_type": "code",
   "execution_count": 22,
   "id": "a0a6d3eb-b549-49a0-a2fc-d3e8443ed159",
   "metadata": {},
   "outputs": [],
   "source": [
    "param_grids = {\n",
    "    \"alpha\": np.logspace(-3,3,100)\n",
    "}"
   ]
  },
  {
   "cell_type": "markdown",
   "id": "071d1362-d679-4bf5-8196-c01a0a4b72b4",
   "metadata": {},
   "source": [
    "### RIDGE & LASSO"
   ]
  },
  {
   "cell_type": "code",
   "execution_count": 222,
   "id": "28d6d7ea-c65d-4dbe-ab3d-e829b53901ca",
   "metadata": {},
   "outputs": [],
   "source": [
    "Ridge = Ridge() \n",
    "Lasso = Lasso()"
   ]
  },
  {
   "cell_type": "markdown",
   "id": "32ca0fc5-db8f-4280-821d-1d4f31cf5546",
   "metadata": {},
   "source": [
    "### Ridge"
   ]
  },
  {
   "cell_type": "code",
   "execution_count": 223,
   "id": "865ba8eb-a5aa-48f3-9399-7043724bd5ff",
   "metadata": {},
   "outputs": [],
   "source": [
    "param_grids = {\n",
    "    \"alpha\": np.logspace(-3,3,100)\n",
    "}"
   ]
  },
  {
   "cell_type": "code",
   "execution_count": 224,
   "id": "f8928d59-6e5a-4b4b-afd7-2aa425276a33",
   "metadata": {},
   "outputs": [],
   "source": [
    "ridge_grid = GridSearchCV(Ridge, param_grid = param_grids, scoring='neg_mean_squared_error', cv=5, verbose = 3)"
   ]
  },
  {
   "cell_type": "code",
   "execution_count": 225,
   "id": "08a4e03e-2eb2-4ef1-bbd7-060f042a9f4b",
   "metadata": {},
   "outputs": [
    {
     "name": "stdout",
     "output_type": "stream",
     "text": [
      "Fitting 5 folds for each of 100 candidates, totalling 500 fits\n",
      "[CV 1/5] END ....................alpha=0.001;, score=-414.342 total time=   0.0s\n",
      "[CV 2/5] END ....................alpha=0.001;, score=-598.999 total time=   0.0s\n",
      "[CV 3/5] END ....................alpha=0.001;, score=-380.742 total time=   0.0s\n",
      "[CV 4/5] END ....................alpha=0.001;, score=-580.954 total time=   0.0s\n",
      "[CV 5/5] END ....................alpha=0.001;, score=-480.469 total time=   0.0s\n",
      "[CV 1/5] END ....alpha=0.0011497569953977356;, score=-414.342 total time=   0.0s\n",
      "[CV 2/5] END ....alpha=0.0011497569953977356;, score=-598.999 total time=   0.0s\n",
      "[CV 3/5] END ....alpha=0.0011497569953977356;, score=-380.742 total time=   0.0s\n",
      "[CV 4/5] END ....alpha=0.0011497569953977356;, score=-580.954 total time=   0.0s\n",
      "[CV 5/5] END ....alpha=0.0011497569953977356;, score=-480.469 total time=   0.0s\n",
      "[CV 1/5] END ....alpha=0.0013219411484660286;, score=-414.342 total time=   0.0s\n",
      "[CV 2/5] END ....alpha=0.0013219411484660286;, score=-598.999 total time=   0.0s\n",
      "[CV 3/5] END ....alpha=0.0013219411484660286;, score=-380.742 total time=   0.0s\n",
      "[CV 4/5] END ....alpha=0.0013219411484660286;, score=-580.954 total time=   0.0s\n",
      "[CV 5/5] END ....alpha=0.0013219411484660286;, score=-480.469 total time=   0.0s\n",
      "[CV 1/5] END ....alpha=0.0015199110829529332;, score=-414.342 total time=   0.0s\n",
      "[CV 2/5] END ....alpha=0.0015199110829529332;, score=-598.999 total time=   0.0s\n",
      "[CV 3/5] END ....alpha=0.0015199110829529332;, score=-380.742 total time=   0.0s\n",
      "[CV 4/5] END ....alpha=0.0015199110829529332;, score=-580.954 total time=   0.0s\n",
      "[CV 5/5] END ....alpha=0.0015199110829529332;, score=-480.469 total time=   0.0s\n",
      "[CV 1/5] END .....alpha=0.001747528400007683;, score=-414.342 total time=   0.0s\n",
      "[CV 2/5] END .....alpha=0.001747528400007683;, score=-598.999 total time=   0.0s\n",
      "[CV 3/5] END .....alpha=0.001747528400007683;, score=-380.742 total time=   0.0s\n",
      "[CV 4/5] END .....alpha=0.001747528400007683;, score=-580.954 total time=   0.0s\n",
      "[CV 5/5] END .....alpha=0.001747528400007683;, score=-480.469 total time=   0.0s\n",
      "[CV 1/5] END .....alpha=0.002009233002565048;, score=-414.342 total time=   0.0s\n",
      "[CV 2/5] END .....alpha=0.002009233002565048;, score=-598.999 total time=   0.0s\n",
      "[CV 3/5] END .....alpha=0.002009233002565048;, score=-380.742 total time=   0.0s\n",
      "[CV 4/5] END .....alpha=0.002009233002565048;, score=-580.954 total time=   0.0s\n",
      "[CV 5/5] END .....alpha=0.002009233002565048;, score=-480.469 total time=   0.0s\n",
      "[CV 1/5] END ....alpha=0.0023101297000831605;, score=-414.342 total time=   0.0s\n",
      "[CV 2/5] END ....alpha=0.0023101297000831605;, score=-598.999 total time=   0.0s\n",
      "[CV 3/5] END ....alpha=0.0023101297000831605;, score=-380.742 total time=   0.0s\n",
      "[CV 4/5] END ....alpha=0.0023101297000831605;, score=-580.954 total time=   0.0s\n",
      "[CV 5/5] END ....alpha=0.0023101297000831605;, score=-480.469 total time=   0.0s\n",
      "[CV 1/5] END ....alpha=0.0026560877829466868;, score=-414.342 total time=   0.0s\n",
      "[CV 2/5] END ....alpha=0.0026560877829466868;, score=-598.999 total time=   0.0s\n",
      "[CV 3/5] END ....alpha=0.0026560877829466868;, score=-380.742 total time=   0.0s\n",
      "[CV 4/5] END ....alpha=0.0026560877829466868;, score=-580.954 total time=   0.0s\n",
      "[CV 5/5] END ....alpha=0.0026560877829466868;, score=-480.469 total time=   0.0s\n",
      "[CV 1/5] END ....alpha=0.0030538555088334154;, score=-414.342 total time=   0.0s\n",
      "[CV 2/5] END ....alpha=0.0030538555088334154;, score=-598.999 total time=   0.0s\n",
      "[CV 3/5] END ....alpha=0.0030538555088334154;, score=-380.742 total time=   0.0s\n",
      "[CV 4/5] END ....alpha=0.0030538555088334154;, score=-580.954 total time=   0.0s\n",
      "[CV 5/5] END ....alpha=0.0030538555088334154;, score=-480.469 total time=   0.0s\n",
      "[CV 1/5] END .....alpha=0.003511191734215131;, score=-414.342 total time=   0.0s\n",
      "[CV 2/5] END .....alpha=0.003511191734215131;, score=-598.999 total time=   0.0s\n",
      "[CV 3/5] END .....alpha=0.003511191734215131;, score=-380.742 total time=   0.0s\n",
      "[CV 4/5] END .....alpha=0.003511191734215131;, score=-580.954 total time=   0.0s\n",
      "[CV 5/5] END .....alpha=0.003511191734215131;, score=-480.469 total time=   0.0s\n",
      "[CV 1/5] END .....alpha=0.004037017258596553;, score=-414.342 total time=   0.0s\n",
      "[CV 2/5] END .....alpha=0.004037017258596553;, score=-598.999 total time=   0.0s\n",
      "[CV 3/5] END .....alpha=0.004037017258596553;, score=-380.742 total time=   0.0s\n",
      "[CV 4/5] END .....alpha=0.004037017258596553;, score=-580.954 total time=   0.0s\n",
      "[CV 5/5] END .....alpha=0.004037017258596553;, score=-480.469 total time=   0.0s\n",
      "[CV 1/5] END .....alpha=0.004641588833612782;, score=-414.342 total time=   0.0s\n",
      "[CV 2/5] END .....alpha=0.004641588833612782;, score=-598.999 total time=   0.0s\n",
      "[CV 3/5] END .....alpha=0.004641588833612782;, score=-380.742 total time=   0.0s\n",
      "[CV 4/5] END .....alpha=0.004641588833612782;, score=-580.954 total time=   0.0s\n",
      "[CV 5/5] END .....alpha=0.004641588833612782;, score=-480.469 total time=   0.0s\n",
      "[CV 1/5] END .....alpha=0.005336699231206312;, score=-414.342 total time=   0.0s\n",
      "[CV 2/5] END .....alpha=0.005336699231206312;, score=-598.999 total time=   0.0s\n",
      "[CV 3/5] END .....alpha=0.005336699231206312;, score=-380.742 total time=   0.0s\n",
      "[CV 4/5] END .....alpha=0.005336699231206312;, score=-580.954 total time=   0.0s\n",
      "[CV 5/5] END .....alpha=0.005336699231206312;, score=-480.469 total time=   0.0s\n",
      "[CV 1/5] END .....alpha=0.006135907273413176;, score=-414.342 total time=   0.0s\n",
      "[CV 2/5] END .....alpha=0.006135907273413176;, score=-598.999 total time=   0.0s\n",
      "[CV 3/5] END .....alpha=0.006135907273413176;, score=-380.742 total time=   0.0s\n",
      "[CV 4/5] END .....alpha=0.006135907273413176;, score=-580.954 total time=   0.0s\n",
      "[CV 5/5] END .....alpha=0.006135907273413176;, score=-480.469 total time=   0.0s\n",
      "[CV 1/5] END .....alpha=0.007054802310718645;, score=-414.342 total time=   0.0s\n",
      "[CV 2/5] END .....alpha=0.007054802310718645;, score=-598.999 total time=   0.0s\n",
      "[CV 3/5] END .....alpha=0.007054802310718645;, score=-380.742 total time=   0.0s\n",
      "[CV 4/5] END .....alpha=0.007054802310718645;, score=-580.954 total time=   0.0s\n",
      "[CV 5/5] END .....alpha=0.007054802310718645;, score=-480.469 total time=   0.0s\n",
      "[CV 1/5] END .....alpha=0.008111308307896872;, score=-414.342 total time=   0.0s\n",
      "[CV 2/5] END .....alpha=0.008111308307896872;, score=-598.999 total time=   0.0s\n",
      "[CV 3/5] END .....alpha=0.008111308307896872;, score=-380.742 total time=   0.0s\n",
      "[CV 4/5] END .....alpha=0.008111308307896872;, score=-580.954 total time=   0.0s\n",
      "[CV 5/5] END .....alpha=0.008111308307896872;, score=-480.469 total time=   0.0s\n",
      "[CV 1/5] END .......alpha=0.0093260334688322;, score=-414.342 total time=   0.0s\n",
      "[CV 2/5] END .......alpha=0.0093260334688322;, score=-598.999 total time=   0.0s\n",
      "[CV 3/5] END .......alpha=0.0093260334688322;, score=-380.742 total time=   0.0s\n",
      "[CV 4/5] END .......alpha=0.0093260334688322;, score=-580.954 total time=   0.0s\n",
      "[CV 5/5] END .......alpha=0.0093260334688322;, score=-480.469 total time=   0.0s\n",
      "[CV 1/5] END .....alpha=0.010722672220103232;, score=-414.342 total time=   0.0s\n",
      "[CV 2/5] END .....alpha=0.010722672220103232;, score=-598.999 total time=   0.0s\n",
      "[CV 3/5] END .....alpha=0.010722672220103232;, score=-380.742 total time=   0.0s\n",
      "[CV 4/5] END .....alpha=0.010722672220103232;, score=-580.954 total time=   0.0s\n",
      "[CV 5/5] END .....alpha=0.010722672220103232;, score=-480.469 total time=   0.0s\n",
      "[CV 1/5] END .....alpha=0.012328467394420659;, score=-414.342 total time=   0.0s\n",
      "[CV 2/5] END .....alpha=0.012328467394420659;, score=-598.999 total time=   0.0s\n",
      "[CV 3/5] END .....alpha=0.012328467394420659;, score=-380.742 total time=   0.0s\n",
      "[CV 4/5] END .....alpha=0.012328467394420659;, score=-580.954 total time=   0.0s\n",
      "[CV 5/5] END .....alpha=0.012328467394420659;, score=-480.469 total time=   0.0s\n",
      "[CV 1/5] END .....alpha=0.014174741629268055;, score=-414.342 total time=   0.0s\n",
      "[CV 2/5] END .....alpha=0.014174741629268055;, score=-598.999 total time=   0.0s\n",
      "[CV 3/5] END .....alpha=0.014174741629268055;, score=-380.742 total time=   0.0s\n",
      "[CV 4/5] END .....alpha=0.014174741629268055;, score=-580.954 total time=   0.0s\n",
      "[CV 5/5] END .....alpha=0.014174741629268055;, score=-480.469 total time=   0.0s\n",
      "[CV 1/5] END .....alpha=0.016297508346206444;, score=-414.342 total time=   0.0s\n",
      "[CV 2/5] END .....alpha=0.016297508346206444;, score=-598.999 total time=   0.0s\n",
      "[CV 3/5] END .....alpha=0.016297508346206444;, score=-380.742 total time=   0.0s\n",
      "[CV 4/5] END .....alpha=0.016297508346206444;, score=-580.954 total time=   0.0s\n",
      "[CV 5/5] END .....alpha=0.016297508346206444;, score=-480.469 total time=   0.0s\n",
      "[CV 1/5] END ......alpha=0.01873817422860384;, score=-414.342 total time=   0.0s\n",
      "[CV 2/5] END ......alpha=0.01873817422860384;, score=-598.999 total time=   0.0s\n",
      "[CV 3/5] END ......alpha=0.01873817422860384;, score=-380.742 total time=   0.0s\n",
      "[CV 4/5] END ......alpha=0.01873817422860384;, score=-580.954 total time=   0.0s\n",
      "[CV 5/5] END ......alpha=0.01873817422860384;, score=-480.469 total time=   0.0s\n",
      "[CV 1/5] END .....alpha=0.021544346900318846;, score=-414.342 total time=   0.0s\n",
      "[CV 2/5] END .....alpha=0.021544346900318846;, score=-598.999 total time=   0.0s\n",
      "[CV 3/5] END .....alpha=0.021544346900318846;, score=-380.742 total time=   0.0s\n",
      "[CV 4/5] END .....alpha=0.021544346900318846;, score=-580.954 total time=   0.0s\n",
      "[CV 5/5] END .....alpha=0.021544346900318846;, score=-480.469 total time=   0.0s\n",
      "[CV 1/5] END .....alpha=0.024770763559917114;, score=-414.342 total time=   0.0s\n",
      "[CV 2/5] END .....alpha=0.024770763559917114;, score=-598.999 total time=   0.0s\n",
      "[CV 3/5] END .....alpha=0.024770763559917114;, score=-380.742 total time=   0.0s\n",
      "[CV 4/5] END .....alpha=0.024770763559917114;, score=-580.954 total time=   0.0s\n",
      "[CV 5/5] END .....alpha=0.024770763559917114;, score=-480.469 total time=   0.0s\n",
      "[CV 1/5] END ......alpha=0.02848035868435802;, score=-414.342 total time=   0.0s\n",
      "[CV 2/5] END ......alpha=0.02848035868435802;, score=-598.999 total time=   0.0s\n",
      "[CV 3/5] END ......alpha=0.02848035868435802;, score=-380.742 total time=   0.0s\n",
      "[CV 4/5] END ......alpha=0.02848035868435802;, score=-580.954 total time=   0.0s\n",
      "[CV 5/5] END ......alpha=0.02848035868435802;, score=-480.469 total time=   0.0s\n",
      "[CV 1/5] END ......alpha=0.03274549162877728;, score=-414.342 total time=   0.0s\n",
      "[CV 2/5] END ......alpha=0.03274549162877728;, score=-598.999 total time=   0.0s\n",
      "[CV 3/5] END ......alpha=0.03274549162877728;, score=-380.742 total time=   0.0s\n",
      "[CV 4/5] END ......alpha=0.03274549162877728;, score=-580.954 total time=   0.0s\n",
      "[CV 5/5] END ......alpha=0.03274549162877728;, score=-480.469 total time=   0.0s\n",
      "[CV 1/5] END .....alpha=0.037649358067924674;, score=-414.342 total time=   0.0s\n",
      "[CV 2/5] END .....alpha=0.037649358067924674;, score=-598.999 total time=   0.0s\n",
      "[CV 3/5] END .....alpha=0.037649358067924674;, score=-380.742 total time=   0.0s\n",
      "[CV 4/5] END .....alpha=0.037649358067924674;, score=-580.954 total time=   0.0s\n",
      "[CV 5/5] END .....alpha=0.037649358067924674;, score=-480.469 total time=   0.0s\n",
      "[CV 1/5] END ......alpha=0.04328761281083059;, score=-414.342 total time=   0.0s\n",
      "[CV 2/5] END ......alpha=0.04328761281083059;, score=-598.999 total time=   0.0s\n",
      "[CV 3/5] END ......alpha=0.04328761281083059;, score=-380.742 total time=   0.0s\n",
      "[CV 4/5] END ......alpha=0.04328761281083059;, score=-580.954 total time=   0.0s\n",
      "[CV 5/5] END ......alpha=0.04328761281083059;, score=-480.469 total time=   0.0s\n",
      "[CV 1/5] END .....alpha=0.049770235643321115;, score=-414.342 total time=   0.0s\n",
      "[CV 2/5] END .....alpha=0.049770235643321115;, score=-598.999 total time=   0.0s\n",
      "[CV 3/5] END .....alpha=0.049770235643321115;, score=-380.742 total time=   0.0s\n",
      "[CV 4/5] END .....alpha=0.049770235643321115;, score=-580.954 total time=   0.0s\n",
      "[CV 5/5] END .....alpha=0.049770235643321115;, score=-480.469 total time=   0.0s\n",
      "[CV 1/5] END ......alpha=0.05722367659350217;, score=-414.342 total time=   0.0s\n",
      "[CV 2/5] END ......alpha=0.05722367659350217;, score=-598.999 total time=   0.0s\n",
      "[CV 3/5] END ......alpha=0.05722367659350217;, score=-380.742 total time=   0.0s\n",
      "[CV 4/5] END ......alpha=0.05722367659350217;, score=-580.954 total time=   0.0s\n",
      "[CV 5/5] END ......alpha=0.05722367659350217;, score=-480.469 total time=   0.0s\n",
      "[CV 1/5] END ......alpha=0.06579332246575682;, score=-414.342 total time=   0.0s\n",
      "[CV 2/5] END ......alpha=0.06579332246575682;, score=-598.999 total time=   0.0s\n",
      "[CV 3/5] END ......alpha=0.06579332246575682;, score=-380.742 total time=   0.0s\n",
      "[CV 4/5] END ......alpha=0.06579332246575682;, score=-580.954 total time=   0.0s\n",
      "[CV 5/5] END ......alpha=0.06579332246575682;, score=-480.469 total time=   0.0s\n",
      "[CV 1/5] END ......alpha=0.07564633275546291;, score=-414.342 total time=   0.0s\n",
      "[CV 2/5] END ......alpha=0.07564633275546291;, score=-598.999 total time=   0.0s\n",
      "[CV 3/5] END ......alpha=0.07564633275546291;, score=-380.742 total time=   0.0s\n",
      "[CV 4/5] END ......alpha=0.07564633275546291;, score=-580.954 total time=   0.0s\n",
      "[CV 5/5] END ......alpha=0.07564633275546291;, score=-480.469 total time=   0.0s\n",
      "[CV 1/5] END ......alpha=0.08697490026177834;, score=-414.342 total time=   0.0s\n",
      "[CV 2/5] END ......alpha=0.08697490026177834;, score=-598.999 total time=   0.0s\n",
      "[CV 3/5] END ......alpha=0.08697490026177834;, score=-380.742 total time=   0.0s\n",
      "[CV 4/5] END ......alpha=0.08697490026177834;, score=-580.954 total time=   0.0s\n",
      "[CV 5/5] END ......alpha=0.08697490026177834;, score=-480.469 total time=   0.0s\n",
      "[CV 1/5] END ......................alpha=0.1;, score=-414.342 total time=   0.0s\n",
      "[CV 2/5] END ......................alpha=0.1;, score=-598.999 total time=   0.0s\n",
      "[CV 3/5] END ......................alpha=0.1;, score=-380.742 total time=   0.0s\n",
      "[CV 4/5] END ......................alpha=0.1;, score=-580.954 total time=   0.0s\n",
      "[CV 5/5] END ......................alpha=0.1;, score=-480.469 total time=   0.0s\n",
      "[CV 1/5] END ......alpha=0.11497569953977356;, score=-414.342 total time=   0.0s\n",
      "[CV 2/5] END ......alpha=0.11497569953977356;, score=-598.999 total time=   0.0s\n",
      "[CV 3/5] END ......alpha=0.11497569953977356;, score=-380.742 total time=   0.0s\n",
      "[CV 4/5] END ......alpha=0.11497569953977356;, score=-580.954 total time=   0.0s\n",
      "[CV 5/5] END ......alpha=0.11497569953977356;, score=-480.469 total time=   0.0s\n",
      "[CV 1/5] END ......alpha=0.13219411484660287;, score=-414.342 total time=   0.0s\n",
      "[CV 2/5] END ......alpha=0.13219411484660287;, score=-598.999 total time=   0.0s\n",
      "[CV 3/5] END ......alpha=0.13219411484660287;, score=-380.742 total time=   0.0s\n",
      "[CV 4/5] END ......alpha=0.13219411484660287;, score=-580.954 total time=   0.0s\n",
      "[CV 5/5] END ......alpha=0.13219411484660287;, score=-480.469 total time=   0.0s\n",
      "[CV 1/5] END .......alpha=0.1519911082952933;, score=-414.342 total time=   0.0s\n",
      "[CV 2/5] END .......alpha=0.1519911082952933;, score=-598.999 total time=   0.0s\n",
      "[CV 3/5] END .......alpha=0.1519911082952933;, score=-380.742 total time=   0.0s\n",
      "[CV 4/5] END .......alpha=0.1519911082952933;, score=-580.954 total time=   0.0s\n",
      "[CV 5/5] END .......alpha=0.1519911082952933;, score=-480.469 total time=   0.0s\n",
      "[CV 1/5] END .......alpha=0.1747528400007685;, score=-414.342 total time=   0.0s\n",
      "[CV 2/5] END .......alpha=0.1747528400007685;, score=-598.999 total time=   0.0s\n",
      "[CV 3/5] END .......alpha=0.1747528400007685;, score=-380.742 total time=   0.0s\n",
      "[CV 4/5] END .......alpha=0.1747528400007685;, score=-580.954 total time=   0.0s\n",
      "[CV 5/5] END .......alpha=0.1747528400007685;, score=-480.469 total time=   0.0s\n",
      "[CV 1/5] END .......alpha=0.2009233002565048;, score=-414.342 total time=   0.0s\n",
      "[CV 2/5] END .......alpha=0.2009233002565048;, score=-598.999 total time=   0.0s\n",
      "[CV 3/5] END .......alpha=0.2009233002565048;, score=-380.742 total time=   0.0s\n",
      "[CV 4/5] END .......alpha=0.2009233002565048;, score=-580.954 total time=   0.0s\n",
      "[CV 5/5] END .......alpha=0.2009233002565048;, score=-480.469 total time=   0.0s\n",
      "[CV 1/5] END ......alpha=0.23101297000831605;, score=-414.342 total time=   0.0s\n",
      "[CV 2/5] END ......alpha=0.23101297000831605;, score=-598.999 total time=   0.0s\n",
      "[CV 3/5] END ......alpha=0.23101297000831605;, score=-380.742 total time=   0.0s\n",
      "[CV 4/5] END ......alpha=0.23101297000831605;, score=-580.954 total time=   0.0s\n",
      "[CV 5/5] END ......alpha=0.23101297000831605;, score=-480.469 total time=   0.0s\n",
      "[CV 1/5] END ......alpha=0.26560877829466867;, score=-414.342 total time=   0.0s\n",
      "[CV 2/5] END ......alpha=0.26560877829466867;, score=-598.999 total time=   0.0s\n",
      "[CV 3/5] END ......alpha=0.26560877829466867;, score=-380.742 total time=   0.0s\n",
      "[CV 4/5] END ......alpha=0.26560877829466867;, score=-580.954 total time=   0.0s\n",
      "[CV 5/5] END ......alpha=0.26560877829466867;, score=-480.469 total time=   0.0s\n",
      "[CV 1/5] END ......alpha=0.30538555088334157;, score=-414.342 total time=   0.0s\n",
      "[CV 2/5] END ......alpha=0.30538555088334157;, score=-598.999 total time=   0.0s\n",
      "[CV 3/5] END ......alpha=0.30538555088334157;, score=-380.742 total time=   0.0s\n",
      "[CV 4/5] END ......alpha=0.30538555088334157;, score=-580.954 total time=   0.0s\n",
      "[CV 5/5] END ......alpha=0.30538555088334157;, score=-480.469 total time=   0.0s\n",
      "[CV 1/5] END .......alpha=0.3511191734215131;, score=-414.342 total time=   0.0s\n",
      "[CV 2/5] END .......alpha=0.3511191734215131;, score=-598.999 total time=   0.0s\n",
      "[CV 3/5] END .......alpha=0.3511191734215131;, score=-380.742 total time=   0.0s\n",
      "[CV 4/5] END .......alpha=0.3511191734215131;, score=-580.954 total time=   0.0s\n",
      "[CV 5/5] END .......alpha=0.3511191734215131;, score=-480.469 total time=   0.0s\n",
      "[CV 1/5] END ......alpha=0.40370172585965536;, score=-414.342 total time=   0.0s\n",
      "[CV 2/5] END ......alpha=0.40370172585965536;, score=-598.999 total time=   0.0s\n",
      "[CV 3/5] END ......alpha=0.40370172585965536;, score=-380.742 total time=   0.0s\n",
      "[CV 4/5] END ......alpha=0.40370172585965536;, score=-580.954 total time=   0.0s\n",
      "[CV 5/5] END ......alpha=0.40370172585965536;, score=-480.469 total time=   0.0s\n",
      "[CV 1/5] END .......alpha=0.4641588833612782;, score=-414.342 total time=   0.0s\n",
      "[CV 2/5] END .......alpha=0.4641588833612782;, score=-598.999 total time=   0.0s\n",
      "[CV 3/5] END .......alpha=0.4641588833612782;, score=-380.742 total time=   0.0s\n",
      "[CV 4/5] END .......alpha=0.4641588833612782;, score=-580.954 total time=   0.0s\n",
      "[CV 5/5] END .......alpha=0.4641588833612782;, score=-480.469 total time=   0.0s\n",
      "[CV 1/5] END .......alpha=0.5336699231206312;, score=-414.342 total time=   0.0s\n",
      "[CV 2/5] END .......alpha=0.5336699231206312;, score=-598.999 total time=   0.0s\n",
      "[CV 3/5] END .......alpha=0.5336699231206312;, score=-380.742 total time=   0.0s\n",
      "[CV 4/5] END .......alpha=0.5336699231206312;, score=-580.954 total time=   0.0s\n",
      "[CV 5/5] END .......alpha=0.5336699231206312;, score=-480.469 total time=   0.0s\n",
      "[CV 1/5] END .......alpha=0.6135907273413176;, score=-414.342 total time=   0.0s\n",
      "[CV 2/5] END .......alpha=0.6135907273413176;, score=-598.999 total time=   0.0s\n",
      "[CV 3/5] END .......alpha=0.6135907273413176;, score=-380.742 total time=   0.0s\n",
      "[CV 4/5] END .......alpha=0.6135907273413176;, score=-580.954 total time=   0.0s\n",
      "[CV 5/5] END .......alpha=0.6135907273413176;, score=-480.469 total time=   0.0s\n",
      "[CV 1/5] END .......alpha=0.7054802310718645;, score=-414.342 total time=   0.0s\n",
      "[CV 2/5] END .......alpha=0.7054802310718645;, score=-598.999 total time=   0.0s\n",
      "[CV 3/5] END .......alpha=0.7054802310718645;, score=-380.742 total time=   0.0s\n",
      "[CV 4/5] END .......alpha=0.7054802310718645;, score=-580.954 total time=   0.0s\n",
      "[CV 5/5] END .......alpha=0.7054802310718645;, score=-480.469 total time=   0.0s\n",
      "[CV 1/5] END .......alpha=0.8111308307896873;, score=-414.342 total time=   0.0s\n",
      "[CV 2/5] END .......alpha=0.8111308307896873;, score=-598.999 total time=   0.0s\n",
      "[CV 3/5] END .......alpha=0.8111308307896873;, score=-380.742 total time=   0.0s\n",
      "[CV 4/5] END .......alpha=0.8111308307896873;, score=-580.954 total time=   0.0s\n",
      "[CV 5/5] END .......alpha=0.8111308307896873;, score=-480.469 total time=   0.0s\n",
      "[CV 1/5] END .......alpha=0.9326033468832199;, score=-414.342 total time=   0.0s\n",
      "[CV 2/5] END .......alpha=0.9326033468832199;, score=-598.999 total time=   0.0s\n",
      "[CV 3/5] END .......alpha=0.9326033468832199;, score=-380.742 total time=   0.0s\n",
      "[CV 4/5] END .......alpha=0.9326033468832199;, score=-580.954 total time=   0.0s\n",
      "[CV 5/5] END .......alpha=0.9326033468832199;, score=-480.469 total time=   0.0s\n",
      "[CV 1/5] END ........alpha=1.072267222010323;, score=-414.341 total time=   0.0s\n",
      "[CV 2/5] END ........alpha=1.072267222010323;, score=-598.999 total time=   0.0s\n",
      "[CV 3/5] END ........alpha=1.072267222010323;, score=-380.742 total time=   0.0s\n",
      "[CV 4/5] END ........alpha=1.072267222010323;, score=-580.955 total time=   0.0s\n",
      "[CV 5/5] END ........alpha=1.072267222010323;, score=-480.469 total time=   0.0s\n",
      "[CV 1/5] END ........alpha=1.232846739442066;, score=-414.341 total time=   0.0s\n",
      "[CV 2/5] END ........alpha=1.232846739442066;, score=-598.999 total time=   0.0s\n",
      "[CV 3/5] END ........alpha=1.232846739442066;, score=-380.742 total time=   0.0s\n",
      "[CV 4/5] END ........alpha=1.232846739442066;, score=-580.955 total time=   0.0s\n",
      "[CV 5/5] END ........alpha=1.232846739442066;, score=-480.469 total time=   0.0s\n",
      "[CV 1/5] END .......alpha=1.4174741629268048;, score=-414.341 total time=   0.0s\n",
      "[CV 2/5] END .......alpha=1.4174741629268048;, score=-599.000 total time=   0.0s\n",
      "[CV 3/5] END .......alpha=1.4174741629268048;, score=-380.741 total time=   0.0s\n",
      "[CV 4/5] END .......alpha=1.4174741629268048;, score=-580.955 total time=   0.0s\n",
      "[CV 5/5] END .......alpha=1.4174741629268048;, score=-480.469 total time=   0.0s\n",
      "[CV 1/5] END ........alpha=1.629750834620645;, score=-414.341 total time=   0.0s\n",
      "[CV 2/5] END ........alpha=1.629750834620645;, score=-599.000 total time=   0.0s\n",
      "[CV 3/5] END ........alpha=1.629750834620645;, score=-380.741 total time=   0.0s\n",
      "[CV 4/5] END ........alpha=1.629750834620645;, score=-580.955 total time=   0.0s\n",
      "[CV 5/5] END ........alpha=1.629750834620645;, score=-480.469 total time=   0.0s\n",
      "[CV 1/5] END ........alpha=1.873817422860385;, score=-414.341 total time=   0.0s\n",
      "[CV 2/5] END ........alpha=1.873817422860385;, score=-599.000 total time=   0.0s\n",
      "[CV 3/5] END ........alpha=1.873817422860385;, score=-380.741 total time=   0.0s\n",
      "[CV 4/5] END ........alpha=1.873817422860385;, score=-580.955 total time=   0.0s\n",
      "[CV 5/5] END ........alpha=1.873817422860385;, score=-480.469 total time=   0.0s\n",
      "[CV 1/5] END .......alpha=2.1544346900318843;, score=-414.340 total time=   0.0s\n",
      "[CV 2/5] END .......alpha=2.1544346900318843;, score=-599.000 total time=   0.0s\n",
      "[CV 3/5] END .......alpha=2.1544346900318843;, score=-380.741 total time=   0.0s\n",
      "[CV 4/5] END .......alpha=2.1544346900318843;, score=-580.956 total time=   0.0s\n",
      "[CV 5/5] END .......alpha=2.1544346900318843;, score=-480.469 total time=   0.0s\n",
      "[CV 1/5] END .......alpha=2.4770763559917115;, score=-414.340 total time=   0.0s\n",
      "[CV 2/5] END .......alpha=2.4770763559917115;, score=-599.000 total time=   0.0s\n",
      "[CV 3/5] END .......alpha=2.4770763559917115;, score=-380.741 total time=   0.0s\n",
      "[CV 4/5] END .......alpha=2.4770763559917115;, score=-580.956 total time=   0.0s\n",
      "[CV 5/5] END .......alpha=2.4770763559917115;, score=-480.469 total time=   0.0s\n",
      "[CV 1/5] END ........alpha=2.848035868435802;, score=-414.340 total time=   0.0s\n",
      "[CV 2/5] END ........alpha=2.848035868435802;, score=-599.001 total time=   0.0s\n",
      "[CV 3/5] END ........alpha=2.848035868435802;, score=-380.740 total time=   0.0s\n",
      "[CV 4/5] END ........alpha=2.848035868435802;, score=-580.956 total time=   0.0s\n",
      "[CV 5/5] END ........alpha=2.848035868435802;, score=-480.469 total time=   0.0s\n",
      "[CV 1/5] END .......alpha=3.2745491628777286;, score=-414.339 total time=   0.0s\n",
      "[CV 2/5] END .......alpha=3.2745491628777286;, score=-599.001 total time=   0.0s\n",
      "[CV 3/5] END .......alpha=3.2745491628777286;, score=-380.740 total time=   0.0s\n",
      "[CV 4/5] END .......alpha=3.2745491628777286;, score=-580.957 total time=   0.0s\n",
      "[CV 5/5] END .......alpha=3.2745491628777286;, score=-480.469 total time=   0.0s\n",
      "[CV 1/5] END .......alpha=3.7649358067924674;, score=-414.339 total time=   0.0s\n",
      "[CV 2/5] END .......alpha=3.7649358067924674;, score=-599.001 total time=   0.0s\n",
      "[CV 3/5] END .......alpha=3.7649358067924674;, score=-380.740 total time=   0.0s\n",
      "[CV 4/5] END .......alpha=3.7649358067924674;, score=-580.957 total time=   0.0s\n",
      "[CV 5/5] END .......alpha=3.7649358067924674;, score=-480.469 total time=   0.0s\n",
      "[CV 1/5] END ........alpha=4.328761281083062;, score=-414.338 total time=   0.0s\n",
      "[CV 2/5] END ........alpha=4.328761281083062;, score=-599.002 total time=   0.0s\n",
      "[CV 3/5] END ........alpha=4.328761281083062;, score=-380.739 total time=   0.0s\n",
      "[CV 4/5] END ........alpha=4.328761281083062;, score=-580.958 total time=   0.0s\n",
      "[CV 5/5] END ........alpha=4.328761281083062;, score=-480.469 total time=   0.0s\n",
      "[CV 1/5] END .......alpha=4.9770235643321135;, score=-414.338 total time=   0.0s\n",
      "[CV 2/5] END .......alpha=4.9770235643321135;, score=-599.002 total time=   0.0s\n",
      "[CV 3/5] END .......alpha=4.9770235643321135;, score=-380.739 total time=   0.0s\n",
      "[CV 4/5] END .......alpha=4.9770235643321135;, score=-580.958 total time=   0.0s\n",
      "[CV 5/5] END .......alpha=4.9770235643321135;, score=-480.469 total time=   0.0s\n",
      "[CV 1/5] END .........alpha=5.72236765935022;, score=-414.337 total time=   0.0s\n",
      "[CV 2/5] END .........alpha=5.72236765935022;, score=-599.003 total time=   0.0s\n",
      "[CV 3/5] END .........alpha=5.72236765935022;, score=-380.738 total time=   0.0s\n",
      "[CV 4/5] END .........alpha=5.72236765935022;, score=-580.959 total time=   0.0s\n",
      "[CV 5/5] END .........alpha=5.72236765935022;, score=-480.469 total time=   0.0s\n",
      "[CV 1/5] END .......alpha=6.5793322465756825;, score=-414.336 total time=   0.0s\n",
      "[CV 2/5] END .......alpha=6.5793322465756825;, score=-599.004 total time=   0.0s\n",
      "[CV 3/5] END .......alpha=6.5793322465756825;, score=-380.738 total time=   0.0s\n",
      "[CV 4/5] END .......alpha=6.5793322465756825;, score=-580.960 total time=   0.0s\n",
      "[CV 5/5] END .......alpha=6.5793322465756825;, score=-480.469 total time=   0.0s\n",
      "[CV 1/5] END .........alpha=7.56463327554629;, score=-414.335 total time=   0.0s\n",
      "[CV 2/5] END .........alpha=7.56463327554629;, score=-599.004 total time=   0.0s\n",
      "[CV 3/5] END .........alpha=7.56463327554629;, score=-380.737 total time=   0.0s\n",
      "[CV 4/5] END .........alpha=7.56463327554629;, score=-580.960 total time=   0.0s\n",
      "[CV 5/5] END .........alpha=7.56463327554629;, score=-480.469 total time=   0.0s\n",
      "[CV 1/5] END ........alpha=8.697490026177835;, score=-414.334 total time=   0.0s\n",
      "[CV 2/5] END ........alpha=8.697490026177835;, score=-599.005 total time=   0.0s\n",
      "[CV 3/5] END ........alpha=8.697490026177835;, score=-380.736 total time=   0.0s\n",
      "[CV 4/5] END ........alpha=8.697490026177835;, score=-580.961 total time=   0.0s\n",
      "[CV 5/5] END ........alpha=8.697490026177835;, score=-480.469 total time=   0.0s\n",
      "[CV 1/5] END .....................alpha=10.0;, score=-414.333 total time=   0.0s\n",
      "[CV 2/5] END .....................alpha=10.0;, score=-599.006 total time=   0.0s\n",
      "[CV 3/5] END .....................alpha=10.0;, score=-380.735 total time=   0.0s\n",
      "[CV 4/5] END .....................alpha=10.0;, score=-580.963 total time=   0.0s\n",
      "[CV 5/5] END .....................alpha=10.0;, score=-480.469 total time=   0.0s\n",
      "[CV 1/5] END .......alpha=11.497569953977356;, score=-414.332 total time=   0.0s\n",
      "[CV 2/5] END .......alpha=11.497569953977356;, score=-599.007 total time=   0.0s\n",
      "[CV 3/5] END .......alpha=11.497569953977356;, score=-380.734 total time=   0.0s\n",
      "[CV 4/5] END .......alpha=11.497569953977356;, score=-580.964 total time=   0.0s\n",
      "[CV 5/5] END .......alpha=11.497569953977356;, score=-480.469 total time=   0.0s\n",
      "[CV 1/5] END .......alpha=13.219411484660288;, score=-414.330 total time=   0.0s\n",
      "[CV 2/5] END .......alpha=13.219411484660288;, score=-599.009 total time=   0.0s\n",
      "[CV 3/5] END .......alpha=13.219411484660288;, score=-380.733 total time=   0.0s\n",
      "[CV 4/5] END .......alpha=13.219411484660288;, score=-580.966 total time=   0.0s\n",
      "[CV 5/5] END .......alpha=13.219411484660288;, score=-480.469 total time=   0.0s\n",
      "[CV 1/5] END .......alpha=15.199110829529332;, score=-414.328 total time=   0.0s\n",
      "[CV 2/5] END .......alpha=15.199110829529332;, score=-599.010 total time=   0.0s\n",
      "[CV 3/5] END .......alpha=15.199110829529332;, score=-380.732 total time=   0.0s\n",
      "[CV 4/5] END .......alpha=15.199110829529332;, score=-580.967 total time=   0.0s\n",
      "[CV 5/5] END .......alpha=15.199110829529332;, score=-480.469 total time=   0.0s\n",
      "[CV 1/5] END ........alpha=17.47528400007683;, score=-414.326 total time=   0.0s\n",
      "[CV 2/5] END ........alpha=17.47528400007683;, score=-599.012 total time=   0.0s\n",
      "[CV 3/5] END ........alpha=17.47528400007683;, score=-380.730 total time=   0.0s\n",
      "[CV 4/5] END ........alpha=17.47528400007683;, score=-580.969 total time=   0.0s\n",
      "[CV 5/5] END ........alpha=17.47528400007683;, score=-480.469 total time=   0.0s\n",
      "[CV 1/5] END ........alpha=20.09233002565046;, score=-414.323 total time=   0.0s\n",
      "[CV 2/5] END ........alpha=20.09233002565046;, score=-599.014 total time=   0.0s\n",
      "[CV 3/5] END ........alpha=20.09233002565046;, score=-380.729 total time=   0.0s\n",
      "[CV 4/5] END ........alpha=20.09233002565046;, score=-580.972 total time=   0.0s\n",
      "[CV 5/5] END ........alpha=20.09233002565046;, score=-480.469 total time=   0.0s\n",
      "[CV 1/5] END ........alpha=23.10129700083158;, score=-414.320 total time=   0.0s\n",
      "[CV 2/5] END ........alpha=23.10129700083158;, score=-599.016 total time=   0.0s\n",
      "[CV 3/5] END ........alpha=23.10129700083158;, score=-380.726 total time=   0.0s\n",
      "[CV 4/5] END ........alpha=23.10129700083158;, score=-580.975 total time=   0.0s\n",
      "[CV 5/5] END ........alpha=23.10129700083158;, score=-480.470 total time=   0.0s\n",
      "[CV 1/5] END .......alpha=26.560877829466893;, score=-414.317 total time=   0.0s\n",
      "[CV 2/5] END .......alpha=26.560877829466893;, score=-599.019 total time=   0.0s\n",
      "[CV 3/5] END .......alpha=26.560877829466893;, score=-380.724 total time=   0.0s\n",
      "[CV 4/5] END .......alpha=26.560877829466893;, score=-580.978 total time=   0.0s\n",
      "[CV 5/5] END .......alpha=26.560877829466893;, score=-480.470 total time=   0.0s\n",
      "[CV 1/5] END .......alpha=30.538555088334185;, score=-414.313 total time=   0.0s\n",
      "[CV 2/5] END .......alpha=30.538555088334185;, score=-599.022 total time=   0.0s\n",
      "[CV 3/5] END .......alpha=30.538555088334185;, score=-380.721 total time=   0.0s\n",
      "[CV 4/5] END .......alpha=30.538555088334185;, score=-580.981 total time=   0.0s\n",
      "[CV 5/5] END .......alpha=30.538555088334185;, score=-480.470 total time=   0.0s\n",
      "[CV 1/5] END .......alpha=35.111917342151344;, score=-414.309 total time=   0.0s\n",
      "[CV 2/5] END .......alpha=35.111917342151344;, score=-599.026 total time=   0.0s\n",
      "[CV 3/5] END .......alpha=35.111917342151344;, score=-380.718 total time=   0.0s\n",
      "[CV 4/5] END .......alpha=35.111917342151344;, score=-580.986 total time=   0.0s\n",
      "[CV 5/5] END .......alpha=35.111917342151344;, score=-480.470 total time=   0.0s\n",
      "[CV 1/5] END ........alpha=40.37017258596558;, score=-414.304 total time=   0.0s\n",
      "[CV 2/5] END ........alpha=40.37017258596558;, score=-599.030 total time=   0.0s\n",
      "[CV 3/5] END ........alpha=40.37017258596558;, score=-380.715 total time=   0.0s\n",
      "[CV 4/5] END ........alpha=40.37017258596558;, score=-580.990 total time=   0.0s\n",
      "[CV 5/5] END ........alpha=40.37017258596558;, score=-480.470 total time=   0.0s\n",
      "[CV 1/5] END ........alpha=46.41588833612782;, score=-414.298 total time=   0.0s\n",
      "[CV 2/5] END ........alpha=46.41588833612782;, score=-599.034 total time=   0.0s\n",
      "[CV 3/5] END ........alpha=46.41588833612782;, score=-380.710 total time=   0.0s\n",
      "[CV 4/5] END ........alpha=46.41588833612782;, score=-580.996 total time=   0.0s\n",
      "[CV 5/5] END ........alpha=46.41588833612782;, score=-480.471 total time=   0.0s\n",
      "[CV 1/5] END .......alpha=53.366992312063125;, score=-414.292 total time=   0.0s\n",
      "[CV 2/5] END .......alpha=53.366992312063125;, score=-599.040 total time=   0.0s\n",
      "[CV 3/5] END .......alpha=53.366992312063125;, score=-380.706 total time=   0.0s\n",
      "[CV 4/5] END .......alpha=53.366992312063125;, score=-581.002 total time=   0.0s\n",
      "[CV 5/5] END .......alpha=53.366992312063125;, score=-480.471 total time=   0.0s\n",
      "[CV 1/5] END ........alpha=61.35907273413176;, score=-414.284 total time=   0.0s\n",
      "[CV 2/5] END ........alpha=61.35907273413176;, score=-599.046 total time=   0.0s\n",
      "[CV 3/5] END ........alpha=61.35907273413176;, score=-380.700 total time=   0.0s\n",
      "[CV 4/5] END ........alpha=61.35907273413176;, score=-581.009 total time=   0.0s\n",
      "[CV 5/5] END ........alpha=61.35907273413176;, score=-480.471 total time=   0.0s\n",
      "[CV 1/5] END ........alpha=70.54802310718645;, score=-414.275 total time=   0.0s\n",
      "[CV 2/5] END ........alpha=70.54802310718645;, score=-599.053 total time=   0.0s\n",
      "[CV 3/5] END ........alpha=70.54802310718645;, score=-380.694 total time=   0.0s\n",
      "[CV 4/5] END ........alpha=70.54802310718645;, score=-581.018 total time=   0.0s\n",
      "[CV 5/5] END ........alpha=70.54802310718645;, score=-480.472 total time=   0.0s\n",
      "[CV 1/5] END ........alpha=81.11308307896873;, score=-414.265 total time=   0.0s\n",
      "[CV 2/5] END ........alpha=81.11308307896873;, score=-599.061 total time=   0.0s\n",
      "[CV 3/5] END ........alpha=81.11308307896873;, score=-380.686 total time=   0.0s\n",
      "[CV 4/5] END ........alpha=81.11308307896873;, score=-581.027 total time=   0.0s\n",
      "[CV 5/5] END ........alpha=81.11308307896873;, score=-480.472 total time=   0.0s\n",
      "[CV 1/5] END ........alpha=93.26033468832199;, score=-414.254 total time=   0.0s\n",
      "[CV 2/5] END ........alpha=93.26033468832199;, score=-599.070 total time=   0.0s\n",
      "[CV 3/5] END ........alpha=93.26033468832199;, score=-380.678 total time=   0.0s\n",
      "[CV 4/5] END ........alpha=93.26033468832199;, score=-581.039 total time=   0.0s\n",
      "[CV 5/5] END ........alpha=93.26033468832199;, score=-480.473 total time=   0.0s\n",
      "[CV 1/5] END .......alpha=107.22672220103232;, score=-414.240 total time=   0.0s\n",
      "[CV 2/5] END .......alpha=107.22672220103232;, score=-599.081 total time=   0.0s\n",
      "[CV 3/5] END .......alpha=107.22672220103232;, score=-380.668 total time=   0.0s\n",
      "[CV 4/5] END .......alpha=107.22672220103232;, score=-581.051 total time=   0.0s\n",
      "[CV 5/5] END .......alpha=107.22672220103232;, score=-480.473 total time=   0.0s\n",
      "[CV 1/5] END .......alpha=123.28467394420659;, score=-414.225 total time=   0.0s\n",
      "[CV 2/5] END .......alpha=123.28467394420659;, score=-599.093 total time=   0.0s\n",
      "[CV 3/5] END .......alpha=123.28467394420659;, score=-380.657 total time=   0.0s\n",
      "[CV 4/5] END .......alpha=123.28467394420659;, score=-581.066 total time=   0.0s\n",
      "[CV 5/5] END .......alpha=123.28467394420659;, score=-480.474 total time=   0.0s\n",
      "[CV 1/5] END .......alpha=141.74741629268047;, score=-414.208 total time=   0.0s\n",
      "[CV 2/5] END .......alpha=141.74741629268047;, score=-599.108 total time=   0.0s\n",
      "[CV 3/5] END .......alpha=141.74741629268047;, score=-380.645 total time=   0.0s\n",
      "[CV 4/5] END .......alpha=141.74741629268047;, score=-581.083 total time=   0.0s\n",
      "[CV 5/5] END .......alpha=141.74741629268047;, score=-480.475 total time=   0.0s\n",
      "[CV 1/5] END .......alpha=162.97508346206433;, score=-414.187 total time=   0.0s\n",
      "[CV 2/5] END .......alpha=162.97508346206433;, score=-599.124 total time=   0.0s\n",
      "[CV 3/5] END .......alpha=162.97508346206433;, score=-380.630 total time=   0.0s\n",
      "[CV 4/5] END .......alpha=162.97508346206433;, score=-581.102 total time=   0.0s\n",
      "[CV 5/5] END .......alpha=162.97508346206433;, score=-480.476 total time=   0.0s\n",
      "[CV 1/5] END ........alpha=187.3817422860383;, score=-414.164 total time=   0.0s\n",
      "[CV 2/5] END ........alpha=187.3817422860383;, score=-599.143 total time=   0.0s\n",
      "[CV 3/5] END ........alpha=187.3817422860383;, score=-380.613 total time=   0.0s\n",
      "[CV 4/5] END ........alpha=187.3817422860383;, score=-581.125 total time=   0.0s\n",
      "[CV 5/5] END ........alpha=187.3817422860383;, score=-480.477 total time=   0.0s\n",
      "[CV 1/5] END .......alpha=215.44346900318865;, score=-414.138 total time=   0.0s\n",
      "[CV 2/5] END .......alpha=215.44346900318865;, score=-599.165 total time=   0.0s\n",
      "[CV 3/5] END .......alpha=215.44346900318865;, score=-380.594 total time=   0.0s\n",
      "[CV 4/5] END .......alpha=215.44346900318865;, score=-581.150 total time=   0.0s\n",
      "[CV 5/5] END .......alpha=215.44346900318865;, score=-480.479 total time=   0.0s\n",
      "[CV 1/5] END ........alpha=247.7076355991714;, score=-414.107 total time=   0.0s\n",
      "[CV 2/5] END ........alpha=247.7076355991714;, score=-599.190 total time=   0.0s\n",
      "[CV 3/5] END ........alpha=247.7076355991714;, score=-380.572 total time=   0.0s\n",
      "[CV 4/5] END ........alpha=247.7076355991714;, score=-581.180 total time=   0.0s\n",
      "[CV 5/5] END ........alpha=247.7076355991714;, score=-480.480 total time=   0.0s\n",
      "[CV 1/5] END ........alpha=284.8035868435805;, score=-414.072 total time=   0.0s\n",
      "[CV 2/5] END ........alpha=284.8035868435805;, score=-599.219 total time=   0.0s\n",
      "[CV 3/5] END ........alpha=284.8035868435805;, score=-380.547 total time=   0.0s\n",
      "[CV 4/5] END ........alpha=284.8035868435805;, score=-581.214 total time=   0.0s\n",
      "[CV 5/5] END ........alpha=284.8035868435805;, score=-480.482 total time=   0.0s\n",
      "[CV 1/5] END ........alpha=327.4549162877732;, score=-414.032 total time=   0.0s\n",
      "[CV 2/5] END ........alpha=327.4549162877732;, score=-599.252 total time=   0.0s\n",
      "[CV 3/5] END ........alpha=327.4549162877732;, score=-380.517 total time=   0.0s\n",
      "[CV 4/5] END ........alpha=327.4549162877732;, score=-581.253 total time=   0.0s\n",
      "[CV 5/5] END ........alpha=327.4549162877732;, score=-480.484 total time=   0.0s\n",
      "[CV 1/5] END .......alpha=376.49358067924715;, score=-413.986 total time=   0.0s\n",
      "[CV 2/5] END .......alpha=376.49358067924715;, score=-599.290 total time=   0.0s\n",
      "[CV 3/5] END .......alpha=376.49358067924715;, score=-380.484 total time=   0.0s\n",
      "[CV 4/5] END .......alpha=376.49358067924715;, score=-581.298 total time=   0.0s\n",
      "[CV 5/5] END .......alpha=376.49358067924715;, score=-480.487 total time=   0.0s\n",
      "[CV 1/5] END .......alpha=432.87612810830615;, score=-413.934 total time=   0.0s\n",
      "[CV 2/5] END .......alpha=432.87612810830615;, score=-599.334 total time=   0.0s\n",
      "[CV 3/5] END .......alpha=432.87612810830615;, score=-380.446 total time=   0.0s\n",
      "[CV 4/5] END .......alpha=432.87612810830615;, score=-581.350 total time=   0.0s\n",
      "[CV 5/5] END .......alpha=432.87612810830615;, score=-480.490 total time=   0.0s\n",
      "[CV 1/5] END ........alpha=497.7023564332114;, score=-413.873 total time=   0.0s\n",
      "[CV 2/5] END ........alpha=497.7023564332114;, score=-599.385 total time=   0.0s\n",
      "[CV 3/5] END ........alpha=497.7023564332114;, score=-380.402 total time=   0.0s\n",
      "[CV 4/5] END ........alpha=497.7023564332114;, score=-581.410 total time=   0.0s\n",
      "[CV 5/5] END ........alpha=497.7023564332114;, score=-480.494 total time=   0.0s\n",
      "[CV 1/5] END .........alpha=572.236765935022;, score=-413.804 total time=   0.0s\n",
      "[CV 2/5] END .........alpha=572.236765935022;, score=-599.444 total time=   0.0s\n",
      "[CV 3/5] END .........alpha=572.236765935022;, score=-380.351 total time=   0.0s\n",
      "[CV 4/5] END .........alpha=572.236765935022;, score=-581.479 total time=   0.0s\n",
      "[CV 5/5] END .........alpha=572.236765935022;, score=-480.499 total time=   0.0s\n",
      "[CV 1/5] END ........alpha=657.9332246575682;, score=-413.725 total time=   0.0s\n",
      "[CV 2/5] END ........alpha=657.9332246575682;, score=-599.511 total time=   0.0s\n",
      "[CV 3/5] END ........alpha=657.9332246575682;, score=-380.293 total time=   0.0s\n",
      "[CV 4/5] END ........alpha=657.9332246575682;, score=-581.558 total time=   0.0s\n",
      "[CV 5/5] END ........alpha=657.9332246575682;, score=-480.505 total time=   0.0s\n",
      "[CV 1/5] END .........alpha=756.463327554629;, score=-413.635 total time=   0.0s\n",
      "[CV 2/5] END .........alpha=756.463327554629;, score=-599.589 total time=   0.0s\n",
      "[CV 3/5] END .........alpha=756.463327554629;, score=-380.227 total time=   0.0s\n",
      "[CV 4/5] END .........alpha=756.463327554629;, score=-581.650 total time=   0.0s\n",
      "[CV 5/5] END .........alpha=756.463327554629;, score=-480.512 total time=   0.0s\n",
      "[CV 1/5] END ........alpha=869.7490026177834;, score=-413.531 total time=   0.0s\n",
      "[CV 2/5] END ........alpha=869.7490026177834;, score=-599.679 total time=   0.0s\n",
      "[CV 3/5] END ........alpha=869.7490026177834;, score=-380.151 total time=   0.0s\n",
      "[CV 4/5] END ........alpha=869.7490026177834;, score=-581.756 total time=   0.0s\n",
      "[CV 5/5] END ........alpha=869.7490026177834;, score=-480.520 total time=   0.0s\n",
      "[CV 1/5] END ...................alpha=1000.0;, score=-413.413 total time=   0.0s\n",
      "[CV 2/5] END ...................alpha=1000.0;, score=-599.783 total time=   0.0s\n",
      "[CV 3/5] END ...................alpha=1000.0;, score=-380.064 total time=   0.0s\n",
      "[CV 4/5] END ...................alpha=1000.0;, score=-581.878 total time=   0.0s\n",
      "[CV 5/5] END ...................alpha=1000.0;, score=-480.530 total time=   0.0s\n"
     ]
    },
    {
     "data": {
      "text/html": [
       "<style>#sk-container-id-22 {color: black;background-color: white;}#sk-container-id-22 pre{padding: 0;}#sk-container-id-22 div.sk-toggleable {background-color: white;}#sk-container-id-22 label.sk-toggleable__label {cursor: pointer;display: block;width: 100%;margin-bottom: 0;padding: 0.3em;box-sizing: border-box;text-align: center;}#sk-container-id-22 label.sk-toggleable__label-arrow:before {content: \"▸\";float: left;margin-right: 0.25em;color: #696969;}#sk-container-id-22 label.sk-toggleable__label-arrow:hover:before {color: black;}#sk-container-id-22 div.sk-estimator:hover label.sk-toggleable__label-arrow:before {color: black;}#sk-container-id-22 div.sk-toggleable__content {max-height: 0;max-width: 0;overflow: hidden;text-align: left;background-color: #f0f8ff;}#sk-container-id-22 div.sk-toggleable__content pre {margin: 0.2em;color: black;border-radius: 0.25em;background-color: #f0f8ff;}#sk-container-id-22 input.sk-toggleable__control:checked~div.sk-toggleable__content {max-height: 200px;max-width: 100%;overflow: auto;}#sk-container-id-22 input.sk-toggleable__control:checked~label.sk-toggleable__label-arrow:before {content: \"▾\";}#sk-container-id-22 div.sk-estimator input.sk-toggleable__control:checked~label.sk-toggleable__label {background-color: #d4ebff;}#sk-container-id-22 div.sk-label input.sk-toggleable__control:checked~label.sk-toggleable__label {background-color: #d4ebff;}#sk-container-id-22 input.sk-hidden--visually {border: 0;clip: rect(1px 1px 1px 1px);clip: rect(1px, 1px, 1px, 1px);height: 1px;margin: -1px;overflow: hidden;padding: 0;position: absolute;width: 1px;}#sk-container-id-22 div.sk-estimator {font-family: monospace;background-color: #f0f8ff;border: 1px dotted black;border-radius: 0.25em;box-sizing: border-box;margin-bottom: 0.5em;}#sk-container-id-22 div.sk-estimator:hover {background-color: #d4ebff;}#sk-container-id-22 div.sk-parallel-item::after {content: \"\";width: 100%;border-bottom: 1px solid gray;flex-grow: 1;}#sk-container-id-22 div.sk-label:hover label.sk-toggleable__label {background-color: #d4ebff;}#sk-container-id-22 div.sk-serial::before {content: \"\";position: absolute;border-left: 1px solid gray;box-sizing: border-box;top: 0;bottom: 0;left: 50%;z-index: 0;}#sk-container-id-22 div.sk-serial {display: flex;flex-direction: column;align-items: center;background-color: white;padding-right: 0.2em;padding-left: 0.2em;position: relative;}#sk-container-id-22 div.sk-item {position: relative;z-index: 1;}#sk-container-id-22 div.sk-parallel {display: flex;align-items: stretch;justify-content: center;background-color: white;position: relative;}#sk-container-id-22 div.sk-item::before, #sk-container-id-22 div.sk-parallel-item::before {content: \"\";position: absolute;border-left: 1px solid gray;box-sizing: border-box;top: 0;bottom: 0;left: 50%;z-index: -1;}#sk-container-id-22 div.sk-parallel-item {display: flex;flex-direction: column;z-index: 1;position: relative;background-color: white;}#sk-container-id-22 div.sk-parallel-item:first-child::after {align-self: flex-end;width: 50%;}#sk-container-id-22 div.sk-parallel-item:last-child::after {align-self: flex-start;width: 50%;}#sk-container-id-22 div.sk-parallel-item:only-child::after {width: 0;}#sk-container-id-22 div.sk-dashed-wrapped {border: 1px dashed gray;margin: 0 0.4em 0.5em 0.4em;box-sizing: border-box;padding-bottom: 0.4em;background-color: white;}#sk-container-id-22 div.sk-label label {font-family: monospace;font-weight: bold;display: inline-block;line-height: 1.2em;}#sk-container-id-22 div.sk-label-container {text-align: center;}#sk-container-id-22 div.sk-container {/* jupyter's `normalize.less` sets `[hidden] { display: none; }` but bootstrap.min.css set `[hidden] { display: none !important; }` so we also need the `!important` here to be able to override the default hidden behavior on the sphinx rendered scikit-learn.org. See: https://github.com/scikit-learn/scikit-learn/issues/21755 */display: inline-block !important;position: relative;}#sk-container-id-22 div.sk-text-repr-fallback {display: none;}</style><div id=\"sk-container-id-22\" class=\"sk-top-container\"><div class=\"sk-text-repr-fallback\"><pre>GridSearchCV(cv=5, estimator=Ridge(),\n",
       "             param_grid={&#x27;alpha&#x27;: array([1.00000000e-03, 1.14975700e-03, 1.32194115e-03, 1.51991108e-03,\n",
       "       1.74752840e-03, 2.00923300e-03, 2.31012970e-03, 2.65608778e-03,\n",
       "       3.05385551e-03, 3.51119173e-03, 4.03701726e-03, 4.64158883e-03,\n",
       "       5.33669923e-03, 6.13590727e-03, 7.05480231e-03, 8.11130831e-03,\n",
       "       9.32603347e-03, 1.07226722e-02, 1.23284674e-02, 1....\n",
       "       4.03701726e+01, 4.64158883e+01, 5.33669923e+01, 6.13590727e+01,\n",
       "       7.05480231e+01, 8.11130831e+01, 9.32603347e+01, 1.07226722e+02,\n",
       "       1.23284674e+02, 1.41747416e+02, 1.62975083e+02, 1.87381742e+02,\n",
       "       2.15443469e+02, 2.47707636e+02, 2.84803587e+02, 3.27454916e+02,\n",
       "       3.76493581e+02, 4.32876128e+02, 4.97702356e+02, 5.72236766e+02,\n",
       "       6.57933225e+02, 7.56463328e+02, 8.69749003e+02, 1.00000000e+03])},\n",
       "             scoring=&#x27;neg_mean_squared_error&#x27;, verbose=3)</pre><b>In a Jupyter environment, please rerun this cell to show the HTML representation or trust the notebook. <br />On GitHub, the HTML representation is unable to render, please try loading this page with nbviewer.org.</b></div><div class=\"sk-container\" hidden><div class=\"sk-item sk-dashed-wrapped\"><div class=\"sk-label-container\"><div class=\"sk-label sk-toggleable\"><input class=\"sk-toggleable__control sk-hidden--visually\" id=\"sk-estimator-id-38\" type=\"checkbox\" ><label for=\"sk-estimator-id-38\" class=\"sk-toggleable__label sk-toggleable__label-arrow\">GridSearchCV</label><div class=\"sk-toggleable__content\"><pre>GridSearchCV(cv=5, estimator=Ridge(),\n",
       "             param_grid={&#x27;alpha&#x27;: array([1.00000000e-03, 1.14975700e-03, 1.32194115e-03, 1.51991108e-03,\n",
       "       1.74752840e-03, 2.00923300e-03, 2.31012970e-03, 2.65608778e-03,\n",
       "       3.05385551e-03, 3.51119173e-03, 4.03701726e-03, 4.64158883e-03,\n",
       "       5.33669923e-03, 6.13590727e-03, 7.05480231e-03, 8.11130831e-03,\n",
       "       9.32603347e-03, 1.07226722e-02, 1.23284674e-02, 1....\n",
       "       4.03701726e+01, 4.64158883e+01, 5.33669923e+01, 6.13590727e+01,\n",
       "       7.05480231e+01, 8.11130831e+01, 9.32603347e+01, 1.07226722e+02,\n",
       "       1.23284674e+02, 1.41747416e+02, 1.62975083e+02, 1.87381742e+02,\n",
       "       2.15443469e+02, 2.47707636e+02, 2.84803587e+02, 3.27454916e+02,\n",
       "       3.76493581e+02, 4.32876128e+02, 4.97702356e+02, 5.72236766e+02,\n",
       "       6.57933225e+02, 7.56463328e+02, 8.69749003e+02, 1.00000000e+03])},\n",
       "             scoring=&#x27;neg_mean_squared_error&#x27;, verbose=3)</pre></div></div></div><div class=\"sk-parallel\"><div class=\"sk-parallel-item\"><div class=\"sk-item\"><div class=\"sk-label-container\"><div class=\"sk-label sk-toggleable\"><input class=\"sk-toggleable__control sk-hidden--visually\" id=\"sk-estimator-id-39\" type=\"checkbox\" ><label for=\"sk-estimator-id-39\" class=\"sk-toggleable__label sk-toggleable__label-arrow\">estimator: Ridge</label><div class=\"sk-toggleable__content\"><pre>Ridge()</pre></div></div></div><div class=\"sk-serial\"><div class=\"sk-item\"><div class=\"sk-estimator sk-toggleable\"><input class=\"sk-toggleable__control sk-hidden--visually\" id=\"sk-estimator-id-40\" type=\"checkbox\" ><label for=\"sk-estimator-id-40\" class=\"sk-toggleable__label sk-toggleable__label-arrow\">Ridge</label><div class=\"sk-toggleable__content\"><pre>Ridge()</pre></div></div></div></div></div></div></div></div></div></div>"
      ],
      "text/plain": [
       "GridSearchCV(cv=5, estimator=Ridge(),\n",
       "             param_grid={'alpha': array([1.00000000e-03, 1.14975700e-03, 1.32194115e-03, 1.51991108e-03,\n",
       "       1.74752840e-03, 2.00923300e-03, 2.31012970e-03, 2.65608778e-03,\n",
       "       3.05385551e-03, 3.51119173e-03, 4.03701726e-03, 4.64158883e-03,\n",
       "       5.33669923e-03, 6.13590727e-03, 7.05480231e-03, 8.11130831e-03,\n",
       "       9.32603347e-03, 1.07226722e-02, 1.23284674e-02, 1....\n",
       "       4.03701726e+01, 4.64158883e+01, 5.33669923e+01, 6.13590727e+01,\n",
       "       7.05480231e+01, 8.11130831e+01, 9.32603347e+01, 1.07226722e+02,\n",
       "       1.23284674e+02, 1.41747416e+02, 1.62975083e+02, 1.87381742e+02,\n",
       "       2.15443469e+02, 2.47707636e+02, 2.84803587e+02, 3.27454916e+02,\n",
       "       3.76493581e+02, 4.32876128e+02, 4.97702356e+02, 5.72236766e+02,\n",
       "       6.57933225e+02, 7.56463328e+02, 8.69749003e+02, 1.00000000e+03])},\n",
       "             scoring='neg_mean_squared_error', verbose=3)"
      ]
     },
     "execution_count": 225,
     "metadata": {},
     "output_type": "execute_result"
    }
   ],
   "source": [
    "ridge_grid.fit(X_train,Y_train)"
   ]
  },
  {
   "cell_type": "code",
   "execution_count": 226,
   "id": "ec390ae1-e2d8-428f-a4b5-6424375a517c",
   "metadata": {},
   "outputs": [
    {
     "data": {
      "text/html": [
       "<style>#sk-container-id-23 {color: black;background-color: white;}#sk-container-id-23 pre{padding: 0;}#sk-container-id-23 div.sk-toggleable {background-color: white;}#sk-container-id-23 label.sk-toggleable__label {cursor: pointer;display: block;width: 100%;margin-bottom: 0;padding: 0.3em;box-sizing: border-box;text-align: center;}#sk-container-id-23 label.sk-toggleable__label-arrow:before {content: \"▸\";float: left;margin-right: 0.25em;color: #696969;}#sk-container-id-23 label.sk-toggleable__label-arrow:hover:before {color: black;}#sk-container-id-23 div.sk-estimator:hover label.sk-toggleable__label-arrow:before {color: black;}#sk-container-id-23 div.sk-toggleable__content {max-height: 0;max-width: 0;overflow: hidden;text-align: left;background-color: #f0f8ff;}#sk-container-id-23 div.sk-toggleable__content pre {margin: 0.2em;color: black;border-radius: 0.25em;background-color: #f0f8ff;}#sk-container-id-23 input.sk-toggleable__control:checked~div.sk-toggleable__content {max-height: 200px;max-width: 100%;overflow: auto;}#sk-container-id-23 input.sk-toggleable__control:checked~label.sk-toggleable__label-arrow:before {content: \"▾\";}#sk-container-id-23 div.sk-estimator input.sk-toggleable__control:checked~label.sk-toggleable__label {background-color: #d4ebff;}#sk-container-id-23 div.sk-label input.sk-toggleable__control:checked~label.sk-toggleable__label {background-color: #d4ebff;}#sk-container-id-23 input.sk-hidden--visually {border: 0;clip: rect(1px 1px 1px 1px);clip: rect(1px, 1px, 1px, 1px);height: 1px;margin: -1px;overflow: hidden;padding: 0;position: absolute;width: 1px;}#sk-container-id-23 div.sk-estimator {font-family: monospace;background-color: #f0f8ff;border: 1px dotted black;border-radius: 0.25em;box-sizing: border-box;margin-bottom: 0.5em;}#sk-container-id-23 div.sk-estimator:hover {background-color: #d4ebff;}#sk-container-id-23 div.sk-parallel-item::after {content: \"\";width: 100%;border-bottom: 1px solid gray;flex-grow: 1;}#sk-container-id-23 div.sk-label:hover label.sk-toggleable__label {background-color: #d4ebff;}#sk-container-id-23 div.sk-serial::before {content: \"\";position: absolute;border-left: 1px solid gray;box-sizing: border-box;top: 0;bottom: 0;left: 50%;z-index: 0;}#sk-container-id-23 div.sk-serial {display: flex;flex-direction: column;align-items: center;background-color: white;padding-right: 0.2em;padding-left: 0.2em;position: relative;}#sk-container-id-23 div.sk-item {position: relative;z-index: 1;}#sk-container-id-23 div.sk-parallel {display: flex;align-items: stretch;justify-content: center;background-color: white;position: relative;}#sk-container-id-23 div.sk-item::before, #sk-container-id-23 div.sk-parallel-item::before {content: \"\";position: absolute;border-left: 1px solid gray;box-sizing: border-box;top: 0;bottom: 0;left: 50%;z-index: -1;}#sk-container-id-23 div.sk-parallel-item {display: flex;flex-direction: column;z-index: 1;position: relative;background-color: white;}#sk-container-id-23 div.sk-parallel-item:first-child::after {align-self: flex-end;width: 50%;}#sk-container-id-23 div.sk-parallel-item:last-child::after {align-self: flex-start;width: 50%;}#sk-container-id-23 div.sk-parallel-item:only-child::after {width: 0;}#sk-container-id-23 div.sk-dashed-wrapped {border: 1px dashed gray;margin: 0 0.4em 0.5em 0.4em;box-sizing: border-box;padding-bottom: 0.4em;background-color: white;}#sk-container-id-23 div.sk-label label {font-family: monospace;font-weight: bold;display: inline-block;line-height: 1.2em;}#sk-container-id-23 div.sk-label-container {text-align: center;}#sk-container-id-23 div.sk-container {/* jupyter's `normalize.less` sets `[hidden] { display: none; }` but bootstrap.min.css set `[hidden] { display: none !important; }` so we also need the `!important` here to be able to override the default hidden behavior on the sphinx rendered scikit-learn.org. See: https://github.com/scikit-learn/scikit-learn/issues/21755 */display: inline-block !important;position: relative;}#sk-container-id-23 div.sk-text-repr-fallback {display: none;}</style><div id=\"sk-container-id-23\" class=\"sk-top-container\"><div class=\"sk-text-repr-fallback\"><pre>Ridge(alpha=0.001)</pre><b>In a Jupyter environment, please rerun this cell to show the HTML representation or trust the notebook. <br />On GitHub, the HTML representation is unable to render, please try loading this page with nbviewer.org.</b></div><div class=\"sk-container\" hidden><div class=\"sk-item\"><div class=\"sk-estimator sk-toggleable\"><input class=\"sk-toggleable__control sk-hidden--visually\" id=\"sk-estimator-id-41\" type=\"checkbox\" checked><label for=\"sk-estimator-id-41\" class=\"sk-toggleable__label sk-toggleable__label-arrow\">Ridge</label><div class=\"sk-toggleable__content\"><pre>Ridge(alpha=0.001)</pre></div></div></div></div></div>"
      ],
      "text/plain": [
       "Ridge(alpha=0.001)"
      ]
     },
     "execution_count": 226,
     "metadata": {},
     "output_type": "execute_result"
    }
   ],
   "source": [
    "ridge_grid.best_estimator_"
   ]
  },
  {
   "cell_type": "code",
   "execution_count": 227,
   "id": "abedd669-106b-4ca6-95d6-336cee778cf4",
   "metadata": {},
   "outputs": [],
   "source": [
    "new_model = ridge_grid.best_estimator_"
   ]
  },
  {
   "cell_type": "code",
   "execution_count": 228,
   "id": "269df8ff-c0c5-4d0d-8462-83c921683c9e",
   "metadata": {},
   "outputs": [],
   "source": [
    "pred = new_model.predict(X_test)"
   ]
  },
  {
   "cell_type": "code",
   "execution_count": 229,
   "id": "b73923de-6094-408c-858a-7b87833b8653",
   "metadata": {},
   "outputs": [
    {
     "name": "stdout",
     "output_type": "stream",
     "text": [
      "Best Parameters: {'alpha': 0.001}\n",
      "Best Score: -491.10111396507364\n"
     ]
    }
   ],
   "source": [
    "print(\"Best Parameters:\", ridge_grid.best_params_)\n",
    "print(\"Best Score:\", ridge_grid.best_score_)"
   ]
  },
  {
   "cell_type": "code",
   "execution_count": 230,
   "id": "d96262f1-5743-42e0-9630-4651aa4ec371",
   "metadata": {},
   "outputs": [
    {
     "name": "stdout",
     "output_type": "stream",
     "text": [
      "R2_Score: 0.33850358147844795\n",
      "Mean_Absolute_Error: 17.530150911106468\n",
      "Mean_Squared_Error: 480.7832011273876\n"
     ]
    }
   ],
   "source": [
    "print(\"R2_Score:\",r2_score(Y_test,pred))\n",
    "print(\"Mean_Absolute_Error:\",mean_absolute_error(Y_test,pred))\n",
    "print(\"Mean_Squared_Error:\",mean_squared_error(Y_test,pred))"
   ]
  },
  {
   "cell_type": "markdown",
   "id": "969cd633-4875-4921-8950-7a759f5938ca",
   "metadata": {},
   "source": [
    "### Lasso"
   ]
  },
  {
   "cell_type": "code",
   "execution_count": 231,
   "id": "01c69b6c-aaf6-4529-8c47-f44dcea8642e",
   "metadata": {},
   "outputs": [],
   "source": [
    "param_grids = {\n",
    "    \"alpha\": np.logspace(-3,3,100)\n",
    "}"
   ]
  },
  {
   "cell_type": "code",
   "execution_count": 232,
   "id": "bebb21f5-327d-425a-859e-174f507d225c",
   "metadata": {},
   "outputs": [],
   "source": [
    "Lasso_grid = GridSearchCV(Lasso, param_grid = param_grids, scoring='neg_mean_squared_error', cv=5, verbose = 3)"
   ]
  },
  {
   "cell_type": "code",
   "execution_count": 233,
   "id": "3fcca72c-31f6-4b3e-abf8-d242ce2005c7",
   "metadata": {},
   "outputs": [
    {
     "name": "stdout",
     "output_type": "stream",
     "text": [
      "Fitting 5 folds for each of 100 candidates, totalling 500 fits\n",
      "[CV 1/5] END ....................alpha=0.001;, score=-414.342 total time=   0.0s\n",
      "[CV 2/5] END ....................alpha=0.001;, score=-598.999 total time=   0.0s\n",
      "[CV 3/5] END ....................alpha=0.001;, score=-380.742 total time=   0.0s\n",
      "[CV 4/5] END ....................alpha=0.001;, score=-580.954 total time=   0.0s\n",
      "[CV 5/5] END ....................alpha=0.001;, score=-480.469 total time=   0.0s\n",
      "[CV 1/5] END ....alpha=0.0011497569953977356;, score=-414.342 total time=   0.0s\n",
      "[CV 2/5] END ....alpha=0.0011497569953977356;, score=-598.999 total time=   0.0s\n",
      "[CV 3/5] END ....alpha=0.0011497569953977356;, score=-380.742 total time=   0.0s\n",
      "[CV 4/5] END ....alpha=0.0011497569953977356;, score=-580.954 total time=   0.0s\n",
      "[CV 5/5] END ....alpha=0.0011497569953977356;, score=-480.469 total time=   0.0s\n",
      "[CV 1/5] END ....alpha=0.0013219411484660286;, score=-414.342 total time=   0.0s\n",
      "[CV 2/5] END ....alpha=0.0013219411484660286;, score=-598.999 total time=   0.0s\n",
      "[CV 3/5] END ....alpha=0.0013219411484660286;, score=-380.742 total time=   0.0s\n",
      "[CV 4/5] END ....alpha=0.0013219411484660286;, score=-580.954 total time=   0.0s\n",
      "[CV 5/5] END ....alpha=0.0013219411484660286;, score=-480.469 total time=   0.0s\n",
      "[CV 1/5] END ....alpha=0.0015199110829529332;, score=-414.342 total time=   0.0s\n",
      "[CV 2/5] END ....alpha=0.0015199110829529332;, score=-598.999 total time=   0.0s\n",
      "[CV 3/5] END ....alpha=0.0015199110829529332;, score=-380.742 total time=   0.0s\n",
      "[CV 4/5] END ....alpha=0.0015199110829529332;, score=-580.954 total time=   0.0s\n",
      "[CV 5/5] END ....alpha=0.0015199110829529332;, score=-480.469 total time=   0.0s\n",
      "[CV 1/5] END .....alpha=0.001747528400007683;, score=-414.342 total time=   0.0s\n",
      "[CV 2/5] END .....alpha=0.001747528400007683;, score=-598.999 total time=   0.0s\n",
      "[CV 3/5] END .....alpha=0.001747528400007683;, score=-380.742 total time=   0.0s\n",
      "[CV 4/5] END .....alpha=0.001747528400007683;, score=-580.954 total time=   0.0s\n",
      "[CV 5/5] END .....alpha=0.001747528400007683;, score=-480.469 total time=   0.0s\n",
      "[CV 1/5] END .....alpha=0.002009233002565048;, score=-414.342 total time=   0.0s\n",
      "[CV 2/5] END .....alpha=0.002009233002565048;, score=-598.999 total time=   0.0s\n",
      "[CV 3/5] END .....alpha=0.002009233002565048;, score=-380.742 total time=   0.0s\n",
      "[CV 4/5] END .....alpha=0.002009233002565048;, score=-580.954 total time=   0.0s\n",
      "[CV 5/5] END .....alpha=0.002009233002565048;, score=-480.469 total time=   0.0s\n",
      "[CV 1/5] END ....alpha=0.0023101297000831605;, score=-414.342 total time=   0.0s\n",
      "[CV 2/5] END ....alpha=0.0023101297000831605;, score=-598.999 total time=   0.0s\n",
      "[CV 3/5] END ....alpha=0.0023101297000831605;, score=-380.742 total time=   0.0s\n",
      "[CV 4/5] END ....alpha=0.0023101297000831605;, score=-580.954 total time=   0.0s\n",
      "[CV 5/5] END ....alpha=0.0023101297000831605;, score=-480.469 total time=   0.0s\n",
      "[CV 1/5] END ....alpha=0.0026560877829466868;, score=-414.342 total time=   0.0s\n",
      "[CV 2/5] END ....alpha=0.0026560877829466868;, score=-598.999 total time=   0.0s\n",
      "[CV 3/5] END ....alpha=0.0026560877829466868;, score=-380.742 total time=   0.0s\n",
      "[CV 4/5] END ....alpha=0.0026560877829466868;, score=-580.954 total time=   0.0s\n",
      "[CV 5/5] END ....alpha=0.0026560877829466868;, score=-480.469 total time=   0.0s\n",
      "[CV 1/5] END ....alpha=0.0030538555088334154;, score=-414.341 total time=   0.0s\n",
      "[CV 2/5] END ....alpha=0.0030538555088334154;, score=-598.999 total time=   0.0s\n",
      "[CV 3/5] END ....alpha=0.0030538555088334154;, score=-380.742 total time=   0.0s\n",
      "[CV 4/5] END ....alpha=0.0030538555088334154;, score=-580.955 total time=   0.0s\n",
      "[CV 5/5] END ....alpha=0.0030538555088334154;, score=-480.469 total time=   0.0s\n",
      "[CV 1/5] END .....alpha=0.003511191734215131;, score=-414.341 total time=   0.0s\n",
      "[CV 2/5] END .....alpha=0.003511191734215131;, score=-599.000 total time=   0.0s\n",
      "[CV 3/5] END .....alpha=0.003511191734215131;, score=-380.742 total time=   0.0s\n",
      "[CV 4/5] END .....alpha=0.003511191734215131;, score=-580.955 total time=   0.0s\n",
      "[CV 5/5] END .....alpha=0.003511191734215131;, score=-480.469 total time=   0.0s\n",
      "[CV 1/5] END .....alpha=0.004037017258596553;, score=-414.341 total time=   0.0s\n",
      "[CV 2/5] END .....alpha=0.004037017258596553;, score=-599.000 total time=   0.0s\n",
      "[CV 3/5] END .....alpha=0.004037017258596553;, score=-380.741 total time=   0.0s\n",
      "[CV 4/5] END .....alpha=0.004037017258596553;, score=-580.955 total time=   0.0s\n",
      "[CV 5/5] END .....alpha=0.004037017258596553;, score=-480.469 total time=   0.0s\n",
      "[CV 1/5] END .....alpha=0.004641588833612782;, score=-414.341 total time=   0.0s\n",
      "[CV 2/5] END .....alpha=0.004641588833612782;, score=-599.000 total time=   0.0s\n",
      "[CV 3/5] END .....alpha=0.004641588833612782;, score=-380.741 total time=   0.0s\n",
      "[CV 4/5] END .....alpha=0.004641588833612782;, score=-580.955 total time=   0.0s\n",
      "[CV 5/5] END .....alpha=0.004641588833612782;, score=-480.469 total time=   0.0s\n",
      "[CV 1/5] END .....alpha=0.005336699231206312;, score=-414.341 total time=   0.0s\n",
      "[CV 2/5] END .....alpha=0.005336699231206312;, score=-599.000 total time=   0.0s\n",
      "[CV 3/5] END .....alpha=0.005336699231206312;, score=-380.741 total time=   0.0s\n",
      "[CV 4/5] END .....alpha=0.005336699231206312;, score=-580.955 total time=   0.0s\n",
      "[CV 5/5] END .....alpha=0.005336699231206312;, score=-480.469 total time=   0.0s\n",
      "[CV 1/5] END .....alpha=0.006135907273413176;, score=-414.340 total time=   0.0s\n",
      "[CV 2/5] END .....alpha=0.006135907273413176;, score=-599.000 total time=   0.0s\n",
      "[CV 3/5] END .....alpha=0.006135907273413176;, score=-380.741 total time=   0.0s\n",
      "[CV 4/5] END .....alpha=0.006135907273413176;, score=-580.956 total time=   0.0s\n",
      "[CV 5/5] END .....alpha=0.006135907273413176;, score=-480.469 total time=   0.0s\n",
      "[CV 1/5] END .....alpha=0.007054802310718645;, score=-414.340 total time=   0.0s\n",
      "[CV 2/5] END .....alpha=0.007054802310718645;, score=-599.001 total time=   0.0s\n",
      "[CV 3/5] END .....alpha=0.007054802310718645;, score=-380.741 total time=   0.0s\n",
      "[CV 4/5] END .....alpha=0.007054802310718645;, score=-580.956 total time=   0.0s\n",
      "[CV 5/5] END .....alpha=0.007054802310718645;, score=-480.469 total time=   0.0s\n",
      "[CV 1/5] END .....alpha=0.008111308307896872;, score=-414.340 total time=   0.0s\n",
      "[CV 2/5] END .....alpha=0.008111308307896872;, score=-599.001 total time=   0.0s\n",
      "[CV 3/5] END .....alpha=0.008111308307896872;, score=-380.740 total time=   0.0s\n",
      "[CV 4/5] END .....alpha=0.008111308307896872;, score=-580.956 total time=   0.0s\n",
      "[CV 5/5] END .....alpha=0.008111308307896872;, score=-480.469 total time=   0.0s\n",
      "[CV 1/5] END .......alpha=0.0093260334688322;, score=-414.339 total time=   0.0s\n",
      "[CV 2/5] END .......alpha=0.0093260334688322;, score=-599.001 total time=   0.0s\n",
      "[CV 3/5] END .......alpha=0.0093260334688322;, score=-380.740 total time=   0.0s\n",
      "[CV 4/5] END .......alpha=0.0093260334688322;, score=-580.957 total time=   0.0s\n",
      "[CV 5/5] END .......alpha=0.0093260334688322;, score=-480.469 total time=   0.0s\n",
      "[CV 1/5] END .....alpha=0.010722672220103232;, score=-414.339 total time=   0.0s\n",
      "[CV 2/5] END .....alpha=0.010722672220103232;, score=-599.002 total time=   0.0s\n",
      "[CV 3/5] END .....alpha=0.010722672220103232;, score=-380.740 total time=   0.0s\n",
      "[CV 4/5] END .....alpha=0.010722672220103232;, score=-580.957 total time=   0.0s\n",
      "[CV 5/5] END .....alpha=0.010722672220103232;, score=-480.469 total time=   0.0s\n",
      "[CV 1/5] END .....alpha=0.012328467394420659;, score=-414.338 total time=   0.0s\n",
      "[CV 2/5] END .....alpha=0.012328467394420659;, score=-599.002 total time=   0.0s\n",
      "[CV 3/5] END .....alpha=0.012328467394420659;, score=-380.739 total time=   0.0s\n",
      "[CV 4/5] END .....alpha=0.012328467394420659;, score=-580.958 total time=   0.0s\n",
      "[CV 5/5] END .....alpha=0.012328467394420659;, score=-480.469 total time=   0.0s\n",
      "[CV 1/5] END .....alpha=0.014174741629268055;, score=-414.338 total time=   0.0s\n",
      "[CV 2/5] END .....alpha=0.014174741629268055;, score=-599.003 total time=   0.0s\n",
      "[CV 3/5] END .....alpha=0.014174741629268055;, score=-380.739 total time=   0.0s\n",
      "[CV 4/5] END .....alpha=0.014174741629268055;, score=-580.958 total time=   0.0s\n",
      "[CV 5/5] END .....alpha=0.014174741629268055;, score=-480.469 total time=   0.0s\n",
      "[CV 1/5] END .....alpha=0.016297508346206444;, score=-414.337 total time=   0.0s\n",
      "[CV 2/5] END .....alpha=0.016297508346206444;, score=-599.003 total time=   0.0s\n",
      "[CV 3/5] END .....alpha=0.016297508346206444;, score=-380.738 total time=   0.0s\n",
      "[CV 4/5] END .....alpha=0.016297508346206444;, score=-580.959 total time=   0.0s\n",
      "[CV 5/5] END .....alpha=0.016297508346206444;, score=-480.469 total time=   0.0s\n",
      "[CV 1/5] END ......alpha=0.01873817422860384;, score=-414.336 total time=   0.0s\n",
      "[CV 2/5] END ......alpha=0.01873817422860384;, score=-599.004 total time=   0.0s\n",
      "[CV 3/5] END ......alpha=0.01873817422860384;, score=-380.738 total time=   0.0s\n",
      "[CV 4/5] END ......alpha=0.01873817422860384;, score=-580.960 total time=   0.0s\n",
      "[CV 5/5] END ......alpha=0.01873817422860384;, score=-480.469 total time=   0.0s\n",
      "[CV 1/5] END .....alpha=0.021544346900318846;, score=-414.335 total time=   0.0s\n",
      "[CV 2/5] END .....alpha=0.021544346900318846;, score=-599.005 total time=   0.0s\n",
      "[CV 3/5] END .....alpha=0.021544346900318846;, score=-380.737 total time=   0.0s\n",
      "[CV 4/5] END .....alpha=0.021544346900318846;, score=-580.961 total time=   0.0s\n",
      "[CV 5/5] END .....alpha=0.021544346900318846;, score=-480.469 total time=   0.0s\n",
      "[CV 1/5] END .....alpha=0.024770763559917114;, score=-414.334 total time=   0.0s\n",
      "[CV 2/5] END .....alpha=0.024770763559917114;, score=-599.006 total time=   0.0s\n",
      "[CV 3/5] END .....alpha=0.024770763559917114;, score=-380.736 total time=   0.0s\n",
      "[CV 4/5] END .....alpha=0.024770763559917114;, score=-580.962 total time=   0.0s\n",
      "[CV 5/5] END .....alpha=0.024770763559917114;, score=-480.469 total time=   0.0s\n",
      "[CV 1/5] END ......alpha=0.02848035868435802;, score=-414.333 total time=   0.0s\n",
      "[CV 2/5] END ......alpha=0.02848035868435802;, score=-599.007 total time=   0.0s\n",
      "[CV 3/5] END ......alpha=0.02848035868435802;, score=-380.735 total time=   0.0s\n",
      "[CV 4/5] END ......alpha=0.02848035868435802;, score=-580.963 total time=   0.0s\n",
      "[CV 5/5] END ......alpha=0.02848035868435802;, score=-480.469 total time=   0.0s\n",
      "[CV 1/5] END ......alpha=0.03274549162877728;, score=-414.331 total time=   0.0s\n",
      "[CV 2/5] END ......alpha=0.03274549162877728;, score=-599.008 total time=   0.0s\n",
      "[CV 3/5] END ......alpha=0.03274549162877728;, score=-380.734 total time=   0.0s\n",
      "[CV 4/5] END ......alpha=0.03274549162877728;, score=-580.965 total time=   0.0s\n",
      "[CV 5/5] END ......alpha=0.03274549162877728;, score=-480.469 total time=   0.0s\n",
      "[CV 1/5] END .....alpha=0.037649358067924674;, score=-414.330 total time=   0.0s\n",
      "[CV 2/5] END .....alpha=0.037649358067924674;, score=-599.009 total time=   0.0s\n",
      "[CV 3/5] END .....alpha=0.037649358067924674;, score=-380.733 total time=   0.0s\n",
      "[CV 4/5] END .....alpha=0.037649358067924674;, score=-580.966 total time=   0.0s\n",
      "[CV 5/5] END .....alpha=0.037649358067924674;, score=-480.469 total time=   0.0s\n",
      "[CV 1/5] END ......alpha=0.04328761281083059;, score=-414.328 total time=   0.0s\n",
      "[CV 2/5] END ......alpha=0.04328761281083059;, score=-599.011 total time=   0.0s\n",
      "[CV 3/5] END ......alpha=0.04328761281083059;, score=-380.732 total time=   0.0s\n",
      "[CV 4/5] END ......alpha=0.04328761281083059;, score=-580.968 total time=   0.0s\n",
      "[CV 5/5] END ......alpha=0.04328761281083059;, score=-480.469 total time=   0.0s\n",
      "[CV 1/5] END .....alpha=0.049770235643321115;, score=-414.325 total time=   0.0s\n",
      "[CV 2/5] END .....alpha=0.049770235643321115;, score=-599.013 total time=   0.0s\n",
      "[CV 3/5] END .....alpha=0.049770235643321115;, score=-380.730 total time=   0.0s\n",
      "[CV 4/5] END .....alpha=0.049770235643321115;, score=-580.971 total time=   0.0s\n",
      "[CV 5/5] END .....alpha=0.049770235643321115;, score=-480.469 total time=   0.0s\n",
      "[CV 1/5] END ......alpha=0.05722367659350217;, score=-414.323 total time=   0.0s\n",
      "[CV 2/5] END ......alpha=0.05722367659350217;, score=-599.015 total time=   0.0s\n",
      "[CV 3/5] END ......alpha=0.05722367659350217;, score=-380.728 total time=   0.0s\n",
      "[CV 4/5] END ......alpha=0.05722367659350217;, score=-580.973 total time=   0.0s\n",
      "[CV 5/5] END ......alpha=0.05722367659350217;, score=-480.469 total time=   0.0s\n",
      "[CV 1/5] END ......alpha=0.06579332246575682;, score=-414.320 total time=   0.0s\n",
      "[CV 2/5] END ......alpha=0.06579332246575682;, score=-599.017 total time=   0.0s\n",
      "[CV 3/5] END ......alpha=0.06579332246575682;, score=-380.726 total time=   0.0s\n",
      "[CV 4/5] END ......alpha=0.06579332246575682;, score=-580.976 total time=   0.0s\n",
      "[CV 5/5] END ......alpha=0.06579332246575682;, score=-480.470 total time=   0.0s\n",
      "[CV 1/5] END ......alpha=0.07564633275546291;, score=-414.316 total time=   0.0s\n",
      "[CV 2/5] END ......alpha=0.07564633275546291;, score=-599.020 total time=   0.0s\n",
      "[CV 3/5] END ......alpha=0.07564633275546291;, score=-380.724 total time=   0.0s\n",
      "[CV 4/5] END ......alpha=0.07564633275546291;, score=-580.979 total time=   0.0s\n",
      "[CV 5/5] END ......alpha=0.07564633275546291;, score=-480.470 total time=   0.0s\n",
      "[CV 1/5] END ......alpha=0.08697490026177834;, score=-414.313 total time=   0.0s\n",
      "[CV 2/5] END ......alpha=0.08697490026177834;, score=-599.023 total time=   0.0s\n",
      "[CV 3/5] END ......alpha=0.08697490026177834;, score=-380.721 total time=   0.0s\n",
      "[CV 4/5] END ......alpha=0.08697490026177834;, score=-580.983 total time=   0.0s\n",
      "[CV 5/5] END ......alpha=0.08697490026177834;, score=-480.470 total time=   0.0s\n",
      "[CV 1/5] END ......................alpha=0.1;, score=-414.308 total time=   0.0s\n",
      "[CV 2/5] END ......................alpha=0.1;, score=-599.027 total time=   0.0s\n",
      "[CV 3/5] END ......................alpha=0.1;, score=-380.717 total time=   0.0s\n",
      "[CV 4/5] END ......................alpha=0.1;, score=-580.988 total time=   0.0s\n",
      "[CV 5/5] END ......................alpha=0.1;, score=-480.470 total time=   0.0s\n",
      "[CV 1/5] END ......alpha=0.11497569953977356;, score=-414.303 total time=   0.0s\n",
      "[CV 2/5] END ......alpha=0.11497569953977356;, score=-599.031 total time=   0.0s\n",
      "[CV 3/5] END ......alpha=0.11497569953977356;, score=-380.714 total time=   0.0s\n",
      "[CV 4/5] END ......alpha=0.11497569953977356;, score=-580.993 total time=   0.0s\n",
      "[CV 5/5] END ......alpha=0.11497569953977356;, score=-480.470 total time=   0.0s\n",
      "[CV 1/5] END ......alpha=0.13219411484660287;, score=-414.297 total time=   0.0s\n",
      "[CV 2/5] END ......alpha=0.13219411484660287;, score=-599.036 total time=   0.0s\n",
      "[CV 3/5] END ......alpha=0.13219411484660287;, score=-380.709 total time=   0.0s\n",
      "[CV 4/5] END ......alpha=0.13219411484660287;, score=-580.999 total time=   0.0s\n",
      "[CV 5/5] END ......alpha=0.13219411484660287;, score=-480.471 total time=   0.0s\n",
      "[CV 1/5] END .......alpha=0.1519911082952933;, score=-414.290 total time=   0.0s\n",
      "[CV 2/5] END .......alpha=0.1519911082952933;, score=-599.042 total time=   0.0s\n",
      "[CV 3/5] END .......alpha=0.1519911082952933;, score=-380.704 total time=   0.0s\n",
      "[CV 4/5] END .......alpha=0.1519911082952933;, score=-581.005 total time=   0.0s\n",
      "[CV 5/5] END .......alpha=0.1519911082952933;, score=-480.471 total time=   0.0s\n",
      "[CV 1/5] END .......alpha=0.1747528400007685;, score=-414.282 total time=   0.0s\n",
      "[CV 2/5] END .......alpha=0.1747528400007685;, score=-599.049 total time=   0.0s\n",
      "[CV 3/5] END .......alpha=0.1747528400007685;, score=-380.699 total time=   0.0s\n",
      "[CV 4/5] END .......alpha=0.1747528400007685;, score=-581.013 total time=   0.0s\n",
      "[CV 5/5] END .......alpha=0.1747528400007685;, score=-480.471 total time=   0.0s\n",
      "[CV 1/5] END .......alpha=0.2009233002565048;, score=-414.274 total time=   0.0s\n",
      "[CV 2/5] END .......alpha=0.2009233002565048;, score=-599.056 total time=   0.0s\n",
      "[CV 3/5] END .......alpha=0.2009233002565048;, score=-380.692 total time=   0.0s\n",
      "[CV 4/5] END .......alpha=0.2009233002565048;, score=-581.022 total time=   0.0s\n",
      "[CV 5/5] END .......alpha=0.2009233002565048;, score=-480.472 total time=   0.0s\n",
      "[CV 1/5] END ......alpha=0.23101297000831605;, score=-414.263 total time=   0.0s\n",
      "[CV 2/5] END ......alpha=0.23101297000831605;, score=-599.065 total time=   0.0s\n",
      "[CV 3/5] END ......alpha=0.23101297000831605;, score=-380.685 total time=   0.0s\n",
      "[CV 4/5] END ......alpha=0.23101297000831605;, score=-581.032 total time=   0.0s\n",
      "[CV 5/5] END ......alpha=0.23101297000831605;, score=-480.472 total time=   0.0s\n",
      "[CV 1/5] END ......alpha=0.26560877829466867;, score=-414.251 total time=   0.0s\n",
      "[CV 2/5] END ......alpha=0.26560877829466867;, score=-599.075 total time=   0.0s\n",
      "[CV 3/5] END ......alpha=0.26560877829466867;, score=-380.676 total time=   0.0s\n",
      "[CV 4/5] END ......alpha=0.26560877829466867;, score=-581.044 total time=   0.0s\n",
      "[CV 5/5] END ......alpha=0.26560877829466867;, score=-480.473 total time=   0.0s\n",
      "[CV 1/5] END ......alpha=0.30538555088334157;, score=-414.238 total time=   0.0s\n",
      "[CV 2/5] END ......alpha=0.30538555088334157;, score=-599.086 total time=   0.0s\n",
      "[CV 3/5] END ......alpha=0.30538555088334157;, score=-380.666 total time=   0.0s\n",
      "[CV 4/5] END ......alpha=0.30538555088334157;, score=-581.058 total time=   0.0s\n",
      "[CV 5/5] END ......alpha=0.30538555088334157;, score=-480.474 total time=   0.0s\n",
      "[CV 1/5] END .......alpha=0.3511191734215131;, score=-414.222 total time=   0.0s\n",
      "[CV 2/5] END .......alpha=0.3511191734215131;, score=-599.099 total time=   0.0s\n",
      "[CV 3/5] END .......alpha=0.3511191734215131;, score=-380.655 total time=   0.0s\n",
      "[CV 4/5] END .......alpha=0.3511191734215131;, score=-581.073 total time=   0.0s\n",
      "[CV 5/5] END .......alpha=0.3511191734215131;, score=-480.474 total time=   0.0s\n",
      "[CV 1/5] END ......alpha=0.40370172585965536;, score=-414.204 total time=   0.0s\n",
      "[CV 2/5] END ......alpha=0.40370172585965536;, score=-599.115 total time=   0.0s\n",
      "[CV 3/5] END ......alpha=0.40370172585965536;, score=-380.642 total time=   0.0s\n",
      "[CV 4/5] END ......alpha=0.40370172585965536;, score=-581.091 total time=   0.0s\n",
      "[CV 5/5] END ......alpha=0.40370172585965536;, score=-480.475 total time=   0.0s\n",
      "[CV 1/5] END .......alpha=0.4641588833612782;, score=-414.183 total time=   0.0s\n",
      "[CV 2/5] END .......alpha=0.4641588833612782;, score=-599.132 total time=   0.0s\n",
      "[CV 3/5] END .......alpha=0.4641588833612782;, score=-380.627 total time=   0.0s\n",
      "[CV 4/5] END .......alpha=0.4641588833612782;, score=-581.112 total time=   0.0s\n",
      "[CV 5/5] END .......alpha=0.4641588833612782;, score=-480.476 total time=   0.0s\n",
      "[CV 1/5] END .......alpha=0.5336699231206312;, score=-414.160 total time=   0.0s\n",
      "[CV 2/5] END .......alpha=0.5336699231206312;, score=-599.152 total time=   0.0s\n",
      "[CV 3/5] END .......alpha=0.5336699231206312;, score=-380.610 total time=   0.0s\n",
      "[CV 4/5] END .......alpha=0.5336699231206312;, score=-581.136 total time=   0.0s\n",
      "[CV 5/5] END .......alpha=0.5336699231206312;, score=-480.478 total time=   0.0s\n",
      "[CV 1/5] END .......alpha=0.6135907273413176;, score=-414.133 total time=   0.0s\n",
      "[CV 2/5] END .......alpha=0.6135907273413176;, score=-599.175 total time=   0.0s\n",
      "[CV 3/5] END .......alpha=0.6135907273413176;, score=-380.590 total time=   0.0s\n",
      "[CV 4/5] END .......alpha=0.6135907273413176;, score=-581.163 total time=   0.0s\n",
      "[CV 5/5] END .......alpha=0.6135907273413176;, score=-480.479 total time=   0.0s\n",
      "[CV 1/5] END .......alpha=0.7054802310718645;, score=-414.101 total time=   0.0s\n",
      "[CV 2/5] END .......alpha=0.7054802310718645;, score=-599.202 total time=   0.0s\n",
      "[CV 3/5] END .......alpha=0.7054802310718645;, score=-380.567 total time=   0.0s\n",
      "[CV 4/5] END .......alpha=0.7054802310718645;, score=-581.195 total time=   0.0s\n",
      "[CV 5/5] END .......alpha=0.7054802310718645;, score=-480.481 total time=   0.0s\n",
      "[CV 1/5] END .......alpha=0.8111308307896873;, score=-414.065 total time=   0.0s\n",
      "[CV 2/5] END .......alpha=0.8111308307896873;, score=-599.233 total time=   0.0s\n",
      "[CV 3/5] END .......alpha=0.8111308307896873;, score=-380.541 total time=   0.0s\n",
      "[CV 4/5] END .......alpha=0.8111308307896873;, score=-581.231 total time=   0.0s\n",
      "[CV 5/5] END .......alpha=0.8111308307896873;, score=-480.483 total time=   0.0s\n",
      "[CV 1/5] END .......alpha=0.9326033468832199;, score=-414.024 total time=   0.0s\n",
      "[CV 2/5] END .......alpha=0.9326033468832199;, score=-599.268 total time=   0.0s\n",
      "[CV 3/5] END .......alpha=0.9326033468832199;, score=-380.511 total time=   0.0s\n",
      "[CV 4/5] END .......alpha=0.9326033468832199;, score=-581.273 total time=   0.0s\n",
      "[CV 5/5] END .......alpha=0.9326033468832199;, score=-480.485 total time=   0.0s\n",
      "[CV 1/5] END ........alpha=1.072267222010323;, score=-413.977 total time=   0.0s\n",
      "[CV 2/5] END ........alpha=1.072267222010323;, score=-599.309 total time=   0.0s\n",
      "[CV 3/5] END ........alpha=1.072267222010323;, score=-380.476 total time=   0.0s\n",
      "[CV 4/5] END ........alpha=1.072267222010323;, score=-581.321 total time=   0.0s\n",
      "[CV 5/5] END ........alpha=1.072267222010323;, score=-480.488 total time=   0.0s\n",
      "[CV 1/5] END ........alpha=1.232846739442066;, score=-413.923 total time=   0.0s\n",
      "[CV 2/5] END ........alpha=1.232846739442066;, score=-599.356 total time=   0.0s\n",
      "[CV 3/5] END ........alpha=1.232846739442066;, score=-380.437 total time=   0.0s\n",
      "[CV 4/5] END ........alpha=1.232846739442066;, score=-581.377 total time=   0.0s\n",
      "[CV 5/5] END ........alpha=1.232846739442066;, score=-480.492 total time=   0.0s\n",
      "[CV 1/5] END .......alpha=1.4174741629268048;, score=-413.861 total time=   0.0s\n",
      "[CV 2/5] END .......alpha=1.4174741629268048;, score=-599.410 total time=   0.0s\n",
      "[CV 3/5] END .......alpha=1.4174741629268048;, score=-380.391 total time=   0.0s\n",
      "[CV 4/5] END .......alpha=1.4174741629268048;, score=-581.441 total time=   0.0s\n",
      "[CV 5/5] END .......alpha=1.4174741629268048;, score=-480.496 total time=   0.0s\n",
      "[CV 1/5] END ........alpha=1.629750834620645;, score=-413.790 total time=   0.0s\n",
      "[CV 2/5] END ........alpha=1.629750834620645;, score=-599.472 total time=   0.0s\n",
      "[CV 3/5] END ........alpha=1.629750834620645;, score=-380.339 total time=   0.0s\n",
      "[CV 4/5] END ........alpha=1.629750834620645;, score=-581.515 total time=   0.0s\n",
      "[CV 5/5] END ........alpha=1.629750834620645;, score=-480.501 total time=   0.0s\n",
      "[CV 1/5] END ........alpha=1.873817422860385;, score=-413.708 total time=   0.0s\n",
      "[CV 2/5] END ........alpha=1.873817422860385;, score=-599.545 total time=   0.0s\n",
      "[CV 3/5] END ........alpha=1.873817422860385;, score=-380.279 total time=   0.0s\n",
      "[CV 4/5] END ........alpha=1.873817422860385;, score=-581.600 total time=   0.0s\n",
      "[CV 5/5] END ........alpha=1.873817422860385;, score=-480.507 total time=   0.0s\n",
      "[CV 1/5] END .......alpha=2.1544346900318843;, score=-413.615 total time=   0.0s\n",
      "[CV 2/5] END .......alpha=2.1544346900318843;, score=-599.628 total time=   0.0s\n",
      "[CV 3/5] END .......alpha=2.1544346900318843;, score=-380.211 total time=   0.0s\n",
      "[CV 4/5] END .......alpha=2.1544346900318843;, score=-581.698 total time=   0.0s\n",
      "[CV 5/5] END .......alpha=2.1544346900318843;, score=-480.514 total time=   0.0s\n",
      "[CV 1/5] END .......alpha=2.4770763559917115;, score=-413.508 total time=   0.0s\n",
      "[CV 2/5] END .......alpha=2.4770763559917115;, score=-599.724 total time=   0.0s\n",
      "[CV 3/5] END .......alpha=2.4770763559917115;, score=-380.132 total time=   0.0s\n",
      "[CV 4/5] END .......alpha=2.4770763559917115;, score=-581.812 total time=   0.0s\n",
      "[CV 5/5] END .......alpha=2.4770763559917115;, score=-480.523 total time=   0.0s\n",
      "[CV 1/5] END ........alpha=2.848035868435802;, score=-413.387 total time=   0.0s\n",
      "[CV 2/5] END ........alpha=2.848035868435802;, score=-599.836 total time=   0.0s\n",
      "[CV 3/5] END ........alpha=2.848035868435802;, score=-380.042 total time=   0.0s\n",
      "[CV 4/5] END ........alpha=2.848035868435802;, score=-581.943 total time=   0.0s\n",
      "[CV 5/5] END ........alpha=2.848035868435802;, score=-480.534 total time=   0.0s\n",
      "[CV 1/5] END .......alpha=3.2745491628777286;, score=-413.247 total time=   0.0s\n",
      "[CV 2/5] END .......alpha=3.2745491628777286;, score=-599.965 total time=   0.0s\n",
      "[CV 3/5] END .......alpha=3.2745491628777286;, score=-379.939 total time=   0.0s\n",
      "[CV 4/5] END .......alpha=3.2745491628777286;, score=-582.095 total time=   0.0s\n",
      "[CV 5/5] END .......alpha=3.2745491628777286;, score=-480.548 total time=   0.0s\n",
      "[CV 1/5] END .......alpha=3.7649358067924674;, score=-413.089 total time=   0.0s\n",
      "[CV 2/5] END .......alpha=3.7649358067924674;, score=-600.115 total time=   0.0s\n",
      "[CV 3/5] END .......alpha=3.7649358067924674;, score=-379.822 total time=   0.0s\n",
      "[CV 4/5] END .......alpha=3.7649358067924674;, score=-582.271 total time=   0.0s\n",
      "[CV 5/5] END .......alpha=3.7649358067924674;, score=-480.565 total time=   0.0s\n",
      "[CV 1/5] END ........alpha=4.328761281083062;, score=-412.908 total time=   0.0s\n",
      "[CV 2/5] END ........alpha=4.328761281083062;, score=-600.289 total time=   0.0s\n",
      "[CV 3/5] END ........alpha=4.328761281083062;, score=-379.687 total time=   0.0s\n",
      "[CV 4/5] END ........alpha=4.328761281083062;, score=-582.474 total time=   0.0s\n",
      "[CV 5/5] END ........alpha=4.328761281083062;, score=-480.586 total time=   0.0s\n",
      "[CV 1/5] END .......alpha=4.9770235643321135;, score=-412.702 total time=   0.0s\n",
      "[CV 2/5] END .......alpha=4.9770235643321135;, score=-600.491 total time=   0.0s\n",
      "[CV 3/5] END .......alpha=4.9770235643321135;, score=-379.533 total time=   0.0s\n",
      "[CV 4/5] END .......alpha=4.9770235643321135;, score=-582.710 total time=   0.0s\n",
      "[CV 5/5] END .......alpha=4.9770235643321135;, score=-480.612 total time=   0.0s\n",
      "[CV 1/5] END .........alpha=5.72236765935022;, score=-412.469 total time=   0.0s\n",
      "[CV 2/5] END .........alpha=5.72236765935022;, score=-600.727 total time=   0.0s\n",
      "[CV 3/5] END .........alpha=5.72236765935022;, score=-379.358 total time=   0.0s\n",
      "[CV 4/5] END .........alpha=5.72236765935022;, score=-582.984 total time=   0.0s\n",
      "[CV 5/5] END .........alpha=5.72236765935022;, score=-480.645 total time=   0.0s\n",
      "[CV 1/5] END .......alpha=6.5793322465756825;, score=-412.205 total time=   0.0s\n",
      "[CV 2/5] END .......alpha=6.5793322465756825;, score=-601.001 total time=   0.0s\n",
      "[CV 3/5] END .......alpha=6.5793322465756825;, score=-379.158 total time=   0.0s\n",
      "[CV 4/5] END .......alpha=6.5793322465756825;, score=-583.303 total time=   0.0s\n",
      "[CV 5/5] END .......alpha=6.5793322465756825;, score=-480.686 total time=   0.0s\n",
      "[CV 1/5] END .........alpha=7.56463327554629;, score=-411.906 total time=   0.0s\n",
      "[CV 2/5] END .........alpha=7.56463327554629;, score=-601.321 total time=   0.0s\n",
      "[CV 3/5] END .........alpha=7.56463327554629;, score=-378.931 total time=   0.0s\n",
      "[CV 4/5] END .........alpha=7.56463327554629;, score=-583.674 total time=   0.0s\n",
      "[CV 5/5] END .........alpha=7.56463327554629;, score=-480.739 total time=   0.0s\n",
      "[CV 1/5] END ........alpha=8.697490026177835;, score=-411.570 total time=   0.0s\n",
      "[CV 2/5] END ........alpha=8.697490026177835;, score=-601.696 total time=   0.0s\n",
      "[CV 3/5] END ........alpha=8.697490026177835;, score=-378.673 total time=   0.0s\n",
      "[CV 4/5] END ........alpha=8.697490026177835;, score=-584.106 total time=   0.0s\n",
      "[CV 5/5] END ........alpha=8.697490026177835;, score=-480.805 total time=   0.0s\n",
      "[CV 1/5] END .....................alpha=10.0;, score=-411.192 total time=   0.0s\n",
      "[CV 2/5] END .....................alpha=10.0;, score=-602.136 total time=   0.0s\n",
      "[CV 3/5] END .....................alpha=10.0;, score=-378.381 total time=   0.0s\n",
      "[CV 4/5] END .....................alpha=10.0;, score=-584.612 total time=   0.0s\n",
      "[CV 5/5] END .....................alpha=10.0;, score=-480.891 total time=   0.0s\n",
      "[CV 1/5] END .......alpha=11.497569953977356;, score=-410.770 total time=   0.0s\n",
      "[CV 2/5] END .......alpha=11.497569953977356;, score=-602.653 total time=   0.0s\n",
      "[CV 3/5] END .......alpha=11.497569953977356;, score=-378.050 total time=   0.0s\n",
      "[CV 4/5] END .......alpha=11.497569953977356;, score=-585.204 total time=   0.0s\n",
      "[CV 5/5] END .......alpha=11.497569953977356;, score=-481.000 total time=   0.0s\n",
      "[CV 1/5] END .......alpha=13.219411484660288;, score=-410.301 total time=   0.0s\n",
      "[CV 2/5] END .......alpha=13.219411484660288;, score=-603.263 total time=   0.0s\n",
      "[CV 3/5] END .......alpha=13.219411484660288;, score=-377.677 total time=   0.0s\n",
      "[CV 4/5] END .......alpha=13.219411484660288;, score=-585.898 total time=   0.0s\n",
      "[CV 5/5] END .......alpha=13.219411484660288;, score=-481.141 total time=   0.0s\n",
      "[CV 1/5] END .......alpha=15.199110829529332;, score=-409.782 total time=   0.0s\n",
      "[CV 2/5] END .......alpha=15.199110829529332;, score=-603.985 total time=   0.0s\n",
      "[CV 3/5] END .......alpha=15.199110829529332;, score=-377.259 total time=   0.0s\n",
      "[CV 4/5] END .......alpha=15.199110829529332;, score=-586.716 total time=   0.0s\n",
      "[CV 5/5] END .......alpha=15.199110829529332;, score=-481.322 total time=   0.0s\n",
      "[CV 1/5] END ........alpha=17.47528400007683;, score=-409.214 total time=   0.0s\n",
      "[CV 2/5] END ........alpha=17.47528400007683;, score=-604.841 total time=   0.0s\n",
      "[CV 3/5] END ........alpha=17.47528400007683;, score=-376.791 total time=   0.0s\n",
      "[CV 4/5] END ........alpha=17.47528400007683;, score=-587.681 total time=   0.0s\n",
      "[CV 5/5] END ........alpha=17.47528400007683;, score=-481.557 total time=   0.0s\n",
      "[CV 1/5] END ........alpha=20.09233002565046;, score=-408.598 total time=   0.0s\n",
      "[CV 2/5] END ........alpha=20.09233002565046;, score=-605.860 total time=   0.0s\n",
      "[CV 3/5] END ........alpha=20.09233002565046;, score=-376.270 total time=   0.0s\n",
      "[CV 4/5] END ........alpha=20.09233002565046;, score=-588.823 total time=   0.0s\n",
      "[CV 5/5] END ........alpha=20.09233002565046;, score=-481.861 total time=   0.0s\n",
      "[CV 1/5] END ........alpha=23.10129700083158;, score=-407.938 total time=   0.0s\n",
      "[CV 2/5] END ........alpha=23.10129700083158;, score=-607.079 total time=   0.0s\n",
      "[CV 3/5] END ........alpha=23.10129700083158;, score=-375.693 total time=   0.0s\n",
      "[CV 4/5] END ........alpha=23.10129700083158;, score=-590.179 total time=   0.0s\n",
      "[CV 5/5] END ........alpha=23.10129700083158;, score=-482.256 total time=   0.0s\n",
      "[CV 1/5] END .......alpha=26.560877829466893;, score=-407.244 total time=   0.0s\n",
      "[CV 2/5] END .......alpha=26.560877829466893;, score=-608.542 total time=   0.0s\n",
      "[CV 3/5] END .......alpha=26.560877829466893;, score=-375.061 total time=   0.0s\n",
      "[CV 4/5] END .......alpha=26.560877829466893;, score=-591.796 total time=   0.0s\n",
      "[CV 5/5] END .......alpha=26.560877829466893;, score=-482.770 total time=   0.0s\n",
      "[CV 1/5] END .......alpha=30.538555088334185;, score=-406.531 total time=   0.0s\n",
      "[CV 2/5] END .......alpha=30.538555088334185;, score=-610.306 total time=   0.0s\n",
      "[CV 3/5] END .......alpha=30.538555088334185;, score=-374.373 total time=   0.0s\n",
      "[CV 4/5] END .......alpha=30.538555088334185;, score=-593.730 total time=   0.0s\n",
      "[CV 5/5] END .......alpha=30.538555088334185;, score=-483.440 total time=   0.0s\n",
      "[CV 1/5] END .......alpha=35.111917342151344;, score=-405.825 total time=   0.0s\n",
      "[CV 2/5] END .......alpha=35.111917342151344;, score=-612.441 total time=   0.0s\n",
      "[CV 3/5] END .......alpha=35.111917342151344;, score=-373.636 total time=   0.0s\n",
      "[CV 4/5] END .......alpha=35.111917342151344;, score=-596.055 total time=   0.0s\n",
      "[CV 5/5] END .......alpha=35.111917342151344;, score=-484.316 total time=   0.0s\n",
      "[CV 1/5] END ........alpha=40.37017258596558;, score=-405.161 total time=   0.0s\n",
      "[CV 2/5] END ........alpha=40.37017258596558;, score=-615.038 total time=   0.0s\n",
      "[CV 3/5] END ........alpha=40.37017258596558;, score=-372.857 total time=   0.0s\n",
      "[CV 4/5] END ........alpha=40.37017258596558;, score=-598.860 total time=   0.0s\n",
      "[CV 5/5] END ........alpha=40.37017258596558;, score=-485.461 total time=   0.0s\n",
      "[CV 1/5] END ........alpha=46.41588833612782;, score=-404.596 total time=   0.0s\n",
      "[CV 2/5] END ........alpha=46.41588833612782;, score=-618.212 total time=   0.0s\n",
      "[CV 3/5] END ........alpha=46.41588833612782;, score=-372.054 total time=   0.0s\n",
      "[CV 4/5] END ........alpha=46.41588833612782;, score=-602.260 total time=   0.0s\n",
      "[CV 5/5] END ........alpha=46.41588833612782;, score=-486.961 total time=   0.0s\n",
      "[CV 1/5] END .......alpha=53.366992312063125;, score=-404.206 total time=   0.0s\n",
      "[CV 2/5] END .......alpha=53.366992312063125;, score=-622.110 total time=   0.0s\n",
      "[CV 3/5] END .......alpha=53.366992312063125;, score=-371.252 total time=   0.0s\n",
      "[CV 4/5] END .......alpha=53.366992312063125;, score=-606.400 total time=   0.0s\n",
      "[CV 5/5] END .......alpha=53.366992312063125;, score=-488.929 total time=   0.0s\n",
      "[CV 1/5] END ........alpha=61.35907273413176;, score=-404.103 total time=   0.0s\n",
      "[CV 2/5] END ........alpha=61.35907273413176;, score=-626.920 total time=   0.0s\n",
      "[CV 3/5] END ........alpha=61.35907273413176;, score=-370.490 total time=   0.0s\n",
      "[CV 4/5] END ........alpha=61.35907273413176;, score=-611.466 total time=   0.0s\n",
      "[CV 5/5] END ........alpha=61.35907273413176;, score=-491.510 total time=   0.0s\n",
      "[CV 1/5] END ........alpha=70.54802310718645;, score=-404.439 total time=   0.0s\n",
      "[CV 2/5] END ........alpha=70.54802310718645;, score=-632.884 total time=   0.0s\n",
      "[CV 3/5] END ........alpha=70.54802310718645;, score=-369.827 total time=   0.0s\n",
      "[CV 4/5] END ........alpha=70.54802310718645;, score=-617.695 total time=   0.0s\n",
      "[CV 5/5] END ........alpha=70.54802310718645;, score=-494.902 total time=   0.0s\n",
      "[CV 1/5] END ........alpha=81.11308307896873;, score=-405.428 total time=   0.0s\n",
      "[CV 2/5] END ........alpha=81.11308307896873;, score=-640.317 total time=   0.0s\n",
      "[CV 3/5] END ........alpha=81.11308307896873;, score=-369.345 total time=   0.0s\n",
      "[CV 4/5] END ........alpha=81.11308307896873;, score=-625.391 total time=   0.0s\n",
      "[CV 5/5] END ........alpha=81.11308307896873;, score=-499.362 total time=   0.0s\n",
      "[CV 1/5] END ........alpha=93.26033468832199;, score=-407.361 total time=   0.0s\n",
      "[CV 2/5] END ........alpha=93.26033468832199;, score=-649.621 total time=   0.0s\n",
      "[CV 3/5] END ........alpha=93.26033468832199;, score=-369.163 total time=   0.0s\n",
      "[CV 4/5] END ........alpha=93.26033468832199;, score=-634.946 total time=   0.0s\n",
      "[CV 5/5] END ........alpha=93.26033468832199;, score=-505.229 total time=   0.0s\n",
      "[CV 1/5] END .......alpha=107.22672220103232;, score=-410.635 total time=   0.0s\n",
      "[CV 2/5] END .......alpha=107.22672220103232;, score=-661.322 total time=   0.0s\n",
      "[CV 3/5] END .......alpha=107.22672220103232;, score=-369.443 total time=   0.0s\n",
      "[CV 4/5] END .......alpha=107.22672220103232;, score=-646.865 total time=   0.0s\n",
      "[CV 5/5] END .......alpha=107.22672220103232;, score=-512.953 total time=   0.0s\n",
      "[CV 1/5] END .......alpha=123.28467394420659;, score=-415.791 total time=   0.0s\n",
      "[CV 2/5] END .......alpha=123.28467394420659;, score=-676.101 total time=   0.0s\n",
      "[CV 3/5] END .......alpha=123.28467394420659;, score=-370.415 total time=   0.0s\n",
      "[CV 4/5] END .......alpha=123.28467394420659;, score=-661.803 total time=   0.0s\n",
      "[CV 5/5] END .......alpha=123.28467394420659;, score=-523.127 total time=   0.0s\n",
      "[CV 1/5] END .......alpha=141.74741629268047;, score=-423.557 total time=   0.0s\n",
      "[CV 2/5] END .......alpha=141.74741629268047;, score=-694.847 total time=   0.0s\n",
      "[CV 3/5] END .......alpha=141.74741629268047;, score=-372.389 total time=   0.0s\n",
      "[CV 4/5] END .......alpha=141.74741629268047;, score=-680.610 total time=   0.0s\n",
      "[CV 5/5] END .......alpha=141.74741629268047;, score=-536.533 total time=   0.0s\n",
      "[CV 1/5] END .......alpha=162.97508346206433;, score=-434.916 total time=   0.0s\n",
      "[CV 2/5] END .......alpha=162.97508346206433;, score=-718.718 total time=   0.0s\n",
      "[CV 3/5] END .......alpha=162.97508346206433;, score=-375.793 total time=   0.0s\n",
      "[CV 4/5] END .......alpha=162.97508346206433;, score=-704.390 total time=   0.0s\n",
      "[CV 5/5] END .......alpha=162.97508346206433;, score=-554.207 total time=   0.0s\n",
      "[CV 1/5] END ........alpha=187.3817422860383;, score=-451.190 total time=   0.0s\n",
      "[CV 2/5] END ........alpha=187.3817422860383;, score=-749.228 total time=   0.0s\n",
      "[CV 3/5] END ........alpha=187.3817422860383;, score=-381.205 total time=   0.0s\n",
      "[CV 4/5] END ........alpha=187.3817422860383;, score=-734.583 total time=   0.0s\n",
      "[CV 5/5] END ........alpha=187.3817422860383;, score=-577.513 total time=   0.0s\n",
      "[CV 1/5] END .......alpha=215.44346900318865;, score=-474.147 total time=   0.0s\n",
      "[CV 2/5] END .......alpha=215.44346900318865;, score=-788.358 total time=   0.0s\n",
      "[CV 3/5] END .......alpha=215.44346900318865;, score=-389.409 total time=   0.0s\n",
      "[CV 4/5] END .......alpha=215.44346900318865;, score=-773.065 total time=   0.0s\n",
      "[CV 5/5] END .......alpha=215.44346900318865;, score=-608.259 total time=   0.0s\n",
      "[CV 1/5] END ........alpha=247.7076355991714;, score=-506.157 total time=   0.0s\n",
      "[CV 2/5] END ........alpha=247.7076355991714;, score=-838.702 total time=   0.0s\n",
      "[CV 3/5] END ........alpha=247.7076355991714;, score=-401.459 total time=   0.0s\n",
      "[CV 4/5] END ........alpha=247.7076355991714;, score=-822.293 total time=   0.0s\n",
      "[CV 5/5] END ........alpha=247.7076355991714;, score=-648.828 total time=   0.0s\n",
      "[CV 1/5] END ........alpha=284.8035868435805;, score=-550.383 total time=   0.0s\n",
      "[CV 2/5] END ........alpha=284.8035868435805;, score=-903.663 total time=   0.0s\n",
      "[CV 3/5] END ........alpha=284.8035868435805;, score=-418.777 total time=   0.0s\n",
      "[CV 4/5] END ........alpha=284.8035868435805;, score=-885.480 total time=   0.0s\n",
      "[CV 5/5] END ........alpha=284.8035868435805;, score=-702.373 total time=   0.0s\n",
      "[CV 1/5] END ........alpha=327.4549162877732;, score=-611.043 total time=   0.0s\n",
      "[CV 2/5] END ........alpha=327.4549162877732;, score=-987.710 total time=   0.0s\n",
      "[CV 3/5] END ........alpha=327.4549162877732;, score=-443.264 total time=   0.0s\n",
      "[CV 4/5] END ........alpha=327.4549162877732;, score=-966.836 total time=   0.0s\n",
      "[CV 5/5] END ........alpha=327.4549162877732;, score=-773.057 total time=   0.0s\n",
      "[CV 1/5] END .......alpha=376.49358067924715;, score=-693.758 total time=   0.0s\n",
      "[CV 2/5] END ......alpha=376.49358067924715;, score=-1096.713 total time=   0.0s\n",
      "[CV 3/5] END .......alpha=376.49358067924715;, score=-477.467 total time=   0.0s\n",
      "[CV 4/5] END ......alpha=376.49358067924715;, score=-1071.886 total time=   0.0s\n",
      "[CV 5/5] END .......alpha=376.49358067924715;, score=-866.384 total time=   0.0s\n",
      "[CV 1/5] END .......alpha=432.87612810830615;, score=-806.005 total time=   0.0s\n",
      "[CV 2/5] END ......alpha=432.87612810830615;, score=-1238.392 total time=   0.0s\n",
      "[CV 3/5] END .......alpha=432.87612810830615;, score=-524.791 total time=   0.0s\n",
      "[CV 4/5] END ......alpha=432.87612810830615;, score=-1207.882 total time=   0.0s\n",
      "[CV 5/5] END .......alpha=432.87612810830615;, score=-989.626 total time=   0.0s\n",
      "[CV 1/5] END ........alpha=497.7023564332114;, score=-957.728 total time=   0.0s\n",
      "[CV 2/5] END .......alpha=497.7023564332114;, score=-1422.904 total time=   0.0s\n",
      "[CV 3/5] END ........alpha=497.7023564332114;, score=-589.773 total time=   0.0s\n",
      "[CV 4/5] END .......alpha=497.7023564332114;, score=-1384.359 total time=   0.0s\n",
      "[CV 5/5] END .......alpha=497.7023564332114;, score=-1152.396 total time=   0.0s\n",
      "[CV 1/5] END ........alpha=572.236765935022;, score=-1162.136 total time=   0.0s\n",
      "[CV 2/5] END ........alpha=572.236765935022;, score=-1663.622 total time=   0.0s\n",
      "[CV 3/5] END .........alpha=572.236765935022;, score=-678.462 total time=   0.0s\n",
      "[CV 4/5] END ........alpha=572.236765935022;, score=-1613.853 total time=   0.0s\n",
      "[CV 5/5] END ........alpha=572.236765935022;, score=-1367.397 total time=   0.0s\n",
      "[CV 1/5] END .......alpha=657.9332246575682;, score=-1436.763 total time=   0.0s\n",
      "[CV 2/5] END .......alpha=657.9332246575682;, score=-1978.164 total time=   0.0s\n",
      "[CV 3/5] END ........alpha=657.9332246575682;, score=-798.907 total time=   0.0s\n",
      "[CV 4/5] END .......alpha=657.9332246575682;, score=-1912.864 total time=   0.0s\n",
      "[CV 5/5] END .......alpha=657.9332246575682;, score=-1651.417 total time=   0.0s\n",
      "[CV 1/5] END ........alpha=756.463327554629;, score=-1657.235 total time=   0.0s\n",
      "[CV 2/5] END ........alpha=756.463327554629;, score=-2147.824 total time=   0.0s\n",
      "[CV 3/5] END .........alpha=756.463327554629;, score=-961.812 total time=   0.0s\n",
      "[CV 4/5] END ........alpha=756.463327554629;, score=-2099.931 total time=   0.0s\n",
      "[CV 5/5] END ........alpha=756.463327554629;, score=-1858.559 total time=   0.0s\n",
      "[CV 1/5] END .......alpha=869.7490026177834;, score=-1657.235 total time=   0.0s\n",
      "[CV 2/5] END .......alpha=869.7490026177834;, score=-2147.824 total time=   0.0s\n",
      "[CV 3/5] END .......alpha=869.7490026177834;, score=-1047.957 total time=   0.0s\n",
      "[CV 4/5] END .......alpha=869.7490026177834;, score=-2099.931 total time=   0.0s\n",
      "[CV 5/5] END .......alpha=869.7490026177834;, score=-1858.559 total time=   0.0s\n",
      "[CV 1/5] END ..................alpha=1000.0;, score=-1657.235 total time=   0.0s\n",
      "[CV 2/5] END ..................alpha=1000.0;, score=-2147.824 total time=   0.0s\n",
      "[CV 3/5] END ..................alpha=1000.0;, score=-1047.957 total time=   0.0s\n",
      "[CV 4/5] END ..................alpha=1000.0;, score=-2099.931 total time=   0.0s\n",
      "[CV 5/5] END ..................alpha=1000.0;, score=-1858.559 total time=   0.0s\n"
     ]
    },
    {
     "data": {
      "text/html": [
       "<style>#sk-container-id-24 {color: black;background-color: white;}#sk-container-id-24 pre{padding: 0;}#sk-container-id-24 div.sk-toggleable {background-color: white;}#sk-container-id-24 label.sk-toggleable__label {cursor: pointer;display: block;width: 100%;margin-bottom: 0;padding: 0.3em;box-sizing: border-box;text-align: center;}#sk-container-id-24 label.sk-toggleable__label-arrow:before {content: \"▸\";float: left;margin-right: 0.25em;color: #696969;}#sk-container-id-24 label.sk-toggleable__label-arrow:hover:before {color: black;}#sk-container-id-24 div.sk-estimator:hover label.sk-toggleable__label-arrow:before {color: black;}#sk-container-id-24 div.sk-toggleable__content {max-height: 0;max-width: 0;overflow: hidden;text-align: left;background-color: #f0f8ff;}#sk-container-id-24 div.sk-toggleable__content pre {margin: 0.2em;color: black;border-radius: 0.25em;background-color: #f0f8ff;}#sk-container-id-24 input.sk-toggleable__control:checked~div.sk-toggleable__content {max-height: 200px;max-width: 100%;overflow: auto;}#sk-container-id-24 input.sk-toggleable__control:checked~label.sk-toggleable__label-arrow:before {content: \"▾\";}#sk-container-id-24 div.sk-estimator input.sk-toggleable__control:checked~label.sk-toggleable__label {background-color: #d4ebff;}#sk-container-id-24 div.sk-label input.sk-toggleable__control:checked~label.sk-toggleable__label {background-color: #d4ebff;}#sk-container-id-24 input.sk-hidden--visually {border: 0;clip: rect(1px 1px 1px 1px);clip: rect(1px, 1px, 1px, 1px);height: 1px;margin: -1px;overflow: hidden;padding: 0;position: absolute;width: 1px;}#sk-container-id-24 div.sk-estimator {font-family: monospace;background-color: #f0f8ff;border: 1px dotted black;border-radius: 0.25em;box-sizing: border-box;margin-bottom: 0.5em;}#sk-container-id-24 div.sk-estimator:hover {background-color: #d4ebff;}#sk-container-id-24 div.sk-parallel-item::after {content: \"\";width: 100%;border-bottom: 1px solid gray;flex-grow: 1;}#sk-container-id-24 div.sk-label:hover label.sk-toggleable__label {background-color: #d4ebff;}#sk-container-id-24 div.sk-serial::before {content: \"\";position: absolute;border-left: 1px solid gray;box-sizing: border-box;top: 0;bottom: 0;left: 50%;z-index: 0;}#sk-container-id-24 div.sk-serial {display: flex;flex-direction: column;align-items: center;background-color: white;padding-right: 0.2em;padding-left: 0.2em;position: relative;}#sk-container-id-24 div.sk-item {position: relative;z-index: 1;}#sk-container-id-24 div.sk-parallel {display: flex;align-items: stretch;justify-content: center;background-color: white;position: relative;}#sk-container-id-24 div.sk-item::before, #sk-container-id-24 div.sk-parallel-item::before {content: \"\";position: absolute;border-left: 1px solid gray;box-sizing: border-box;top: 0;bottom: 0;left: 50%;z-index: -1;}#sk-container-id-24 div.sk-parallel-item {display: flex;flex-direction: column;z-index: 1;position: relative;background-color: white;}#sk-container-id-24 div.sk-parallel-item:first-child::after {align-self: flex-end;width: 50%;}#sk-container-id-24 div.sk-parallel-item:last-child::after {align-self: flex-start;width: 50%;}#sk-container-id-24 div.sk-parallel-item:only-child::after {width: 0;}#sk-container-id-24 div.sk-dashed-wrapped {border: 1px dashed gray;margin: 0 0.4em 0.5em 0.4em;box-sizing: border-box;padding-bottom: 0.4em;background-color: white;}#sk-container-id-24 div.sk-label label {font-family: monospace;font-weight: bold;display: inline-block;line-height: 1.2em;}#sk-container-id-24 div.sk-label-container {text-align: center;}#sk-container-id-24 div.sk-container {/* jupyter's `normalize.less` sets `[hidden] { display: none; }` but bootstrap.min.css set `[hidden] { display: none !important; }` so we also need the `!important` here to be able to override the default hidden behavior on the sphinx rendered scikit-learn.org. See: https://github.com/scikit-learn/scikit-learn/issues/21755 */display: inline-block !important;position: relative;}#sk-container-id-24 div.sk-text-repr-fallback {display: none;}</style><div id=\"sk-container-id-24\" class=\"sk-top-container\"><div class=\"sk-text-repr-fallback\"><pre>GridSearchCV(cv=5, estimator=Lasso(),\n",
       "             param_grid={&#x27;alpha&#x27;: array([1.00000000e-03, 1.14975700e-03, 1.32194115e-03, 1.51991108e-03,\n",
       "       1.74752840e-03, 2.00923300e-03, 2.31012970e-03, 2.65608778e-03,\n",
       "       3.05385551e-03, 3.51119173e-03, 4.03701726e-03, 4.64158883e-03,\n",
       "       5.33669923e-03, 6.13590727e-03, 7.05480231e-03, 8.11130831e-03,\n",
       "       9.32603347e-03, 1.07226722e-02, 1.23284674e-02, 1....\n",
       "       4.03701726e+01, 4.64158883e+01, 5.33669923e+01, 6.13590727e+01,\n",
       "       7.05480231e+01, 8.11130831e+01, 9.32603347e+01, 1.07226722e+02,\n",
       "       1.23284674e+02, 1.41747416e+02, 1.62975083e+02, 1.87381742e+02,\n",
       "       2.15443469e+02, 2.47707636e+02, 2.84803587e+02, 3.27454916e+02,\n",
       "       3.76493581e+02, 4.32876128e+02, 4.97702356e+02, 5.72236766e+02,\n",
       "       6.57933225e+02, 7.56463328e+02, 8.69749003e+02, 1.00000000e+03])},\n",
       "             scoring=&#x27;neg_mean_squared_error&#x27;, verbose=3)</pre><b>In a Jupyter environment, please rerun this cell to show the HTML representation or trust the notebook. <br />On GitHub, the HTML representation is unable to render, please try loading this page with nbviewer.org.</b></div><div class=\"sk-container\" hidden><div class=\"sk-item sk-dashed-wrapped\"><div class=\"sk-label-container\"><div class=\"sk-label sk-toggleable\"><input class=\"sk-toggleable__control sk-hidden--visually\" id=\"sk-estimator-id-42\" type=\"checkbox\" ><label for=\"sk-estimator-id-42\" class=\"sk-toggleable__label sk-toggleable__label-arrow\">GridSearchCV</label><div class=\"sk-toggleable__content\"><pre>GridSearchCV(cv=5, estimator=Lasso(),\n",
       "             param_grid={&#x27;alpha&#x27;: array([1.00000000e-03, 1.14975700e-03, 1.32194115e-03, 1.51991108e-03,\n",
       "       1.74752840e-03, 2.00923300e-03, 2.31012970e-03, 2.65608778e-03,\n",
       "       3.05385551e-03, 3.51119173e-03, 4.03701726e-03, 4.64158883e-03,\n",
       "       5.33669923e-03, 6.13590727e-03, 7.05480231e-03, 8.11130831e-03,\n",
       "       9.32603347e-03, 1.07226722e-02, 1.23284674e-02, 1....\n",
       "       4.03701726e+01, 4.64158883e+01, 5.33669923e+01, 6.13590727e+01,\n",
       "       7.05480231e+01, 8.11130831e+01, 9.32603347e+01, 1.07226722e+02,\n",
       "       1.23284674e+02, 1.41747416e+02, 1.62975083e+02, 1.87381742e+02,\n",
       "       2.15443469e+02, 2.47707636e+02, 2.84803587e+02, 3.27454916e+02,\n",
       "       3.76493581e+02, 4.32876128e+02, 4.97702356e+02, 5.72236766e+02,\n",
       "       6.57933225e+02, 7.56463328e+02, 8.69749003e+02, 1.00000000e+03])},\n",
       "             scoring=&#x27;neg_mean_squared_error&#x27;, verbose=3)</pre></div></div></div><div class=\"sk-parallel\"><div class=\"sk-parallel-item\"><div class=\"sk-item\"><div class=\"sk-label-container\"><div class=\"sk-label sk-toggleable\"><input class=\"sk-toggleable__control sk-hidden--visually\" id=\"sk-estimator-id-43\" type=\"checkbox\" ><label for=\"sk-estimator-id-43\" class=\"sk-toggleable__label sk-toggleable__label-arrow\">estimator: Lasso</label><div class=\"sk-toggleable__content\"><pre>Lasso()</pre></div></div></div><div class=\"sk-serial\"><div class=\"sk-item\"><div class=\"sk-estimator sk-toggleable\"><input class=\"sk-toggleable__control sk-hidden--visually\" id=\"sk-estimator-id-44\" type=\"checkbox\" ><label for=\"sk-estimator-id-44\" class=\"sk-toggleable__label sk-toggleable__label-arrow\">Lasso</label><div class=\"sk-toggleable__content\"><pre>Lasso()</pre></div></div></div></div></div></div></div></div></div></div>"
      ],
      "text/plain": [
       "GridSearchCV(cv=5, estimator=Lasso(),\n",
       "             param_grid={'alpha': array([1.00000000e-03, 1.14975700e-03, 1.32194115e-03, 1.51991108e-03,\n",
       "       1.74752840e-03, 2.00923300e-03, 2.31012970e-03, 2.65608778e-03,\n",
       "       3.05385551e-03, 3.51119173e-03, 4.03701726e-03, 4.64158883e-03,\n",
       "       5.33669923e-03, 6.13590727e-03, 7.05480231e-03, 8.11130831e-03,\n",
       "       9.32603347e-03, 1.07226722e-02, 1.23284674e-02, 1....\n",
       "       4.03701726e+01, 4.64158883e+01, 5.33669923e+01, 6.13590727e+01,\n",
       "       7.05480231e+01, 8.11130831e+01, 9.32603347e+01, 1.07226722e+02,\n",
       "       1.23284674e+02, 1.41747416e+02, 1.62975083e+02, 1.87381742e+02,\n",
       "       2.15443469e+02, 2.47707636e+02, 2.84803587e+02, 3.27454916e+02,\n",
       "       3.76493581e+02, 4.32876128e+02, 4.97702356e+02, 5.72236766e+02,\n",
       "       6.57933225e+02, 7.56463328e+02, 8.69749003e+02, 1.00000000e+03])},\n",
       "             scoring='neg_mean_squared_error', verbose=3)"
      ]
     },
     "execution_count": 233,
     "metadata": {},
     "output_type": "execute_result"
    }
   ],
   "source": [
    "Lasso_grid.fit(X_train,Y_train)"
   ]
  },
  {
   "cell_type": "code",
   "execution_count": 234,
   "id": "3e66472d-bc76-48f0-bd12-f52b3718d6be",
   "metadata": {},
   "outputs": [],
   "source": [
    "NewModel_ = Lasso_grid.best_estimator_"
   ]
  },
  {
   "cell_type": "code",
   "execution_count": 235,
   "id": "c7a42782-56c0-4388-990f-4957b137e782",
   "metadata": {},
   "outputs": [],
   "source": [
    "Prediction = NewModel_.predict(X_test)"
   ]
  },
  {
   "cell_type": "code",
   "execution_count": 236,
   "id": "d360c480-a642-41c8-8117-cbcae9900993",
   "metadata": {},
   "outputs": [
    {
     "name": "stdout",
     "output_type": "stream",
     "text": [
      "Best Parameters: {'alpha': 0.001}\n",
      "Best Score: -491.1011236239072\n"
     ]
    }
   ],
   "source": [
    "print(\"Best Parameters:\", Lasso_grid.best_params_)\n",
    "print(\"Best Score:\", Lasso_grid.best_score_)"
   ]
  },
  {
   "cell_type": "code",
   "execution_count": 237,
   "id": "7e3f3339-0e1f-4aa6-a1b9-2ed2a3214211",
   "metadata": {},
   "outputs": [
    {
     "name": "stdout",
     "output_type": "stream",
     "text": [
      "R2_Score: 0.3385042896601933\n",
      "Mean_Absolute_Error: 17.53013912947056\n",
      "Mean_Squared_Error: 480.7826864127543\n"
     ]
    }
   ],
   "source": [
    "print(\"R2_Score:\",r2_score(Y_test,Prediction))\n",
    "print(\"Mean_Absolute_Error:\",mean_absolute_error(Y_test,Prediction))\n",
    "print(\"Mean_Squared_Error:\",mean_squared_error(Y_test,Prediction))"
   ]
  },
  {
   "cell_type": "markdown",
   "id": "728bb13b-7c1f-4a40-a5bf-9b83305008af",
   "metadata": {},
   "source": [
    "### KNN Algorithm Model"
   ]
  },
  {
   "cell_type": "code",
   "execution_count": 258,
   "id": "6e2e884c-fe56-4854-af37-97d30c95326a",
   "metadata": {},
   "outputs": [],
   "source": [
    "import pandas as pd\n",
    "import numpy as np\n",
    "import matplotlib.pyplot as mlt\n",
    "import seaborn as sns\n",
    "from sklearn.model_selection import train_test_split,GridSearchCV\n",
    "from sklearn.preprocessing import StandardScaler\n",
    "from sklearn.neighbors import KNeighborsRegressor\n",
    "from sklearn.metrics import r2_score, mean_squared_error, mean_absolute_error"
   ]
  },
  {
   "cell_type": "code",
   "execution_count": 259,
   "id": "54e89302-f1ec-462c-ad1e-f7157dbc305b",
   "metadata": {},
   "outputs": [],
   "source": [
    "X_train,X_test,Y_train,Y_test = train_test_split(X,Y,test_size = 0.20, random_state = 42)"
   ]
  },
  {
   "cell_type": "code",
   "execution_count": 263,
   "id": "6fdcc74f-f7ec-4efc-8c54-26c15db58b71",
   "metadata": {},
   "outputs": [
    {
     "data": {
      "text/plain": [
       "(800, 1)"
      ]
     },
     "execution_count": 263,
     "metadata": {},
     "output_type": "execute_result"
    }
   ],
   "source": [
    "X_train.shape"
   ]
  },
  {
   "cell_type": "code",
   "execution_count": 261,
   "id": "83a8b71b-b7d2-4f4b-a670-a135d9ab9e19",
   "metadata": {},
   "outputs": [],
   "source": [
    "X_train = X_train.values.reshape(-1,1)"
   ]
  },
  {
   "cell_type": "code",
   "execution_count": 266,
   "id": "b668e421-f5a9-4595-b061-873e85d478c4",
   "metadata": {},
   "outputs": [
    {
     "data": {
      "text/plain": [
       "(200, 1)"
      ]
     },
     "execution_count": 266,
     "metadata": {},
     "output_type": "execute_result"
    }
   ],
   "source": [
    "X_test.shape"
   ]
  },
  {
   "cell_type": "code",
   "execution_count": 265,
   "id": "da870b80-f2c1-4741-9b8d-449184f896a3",
   "metadata": {},
   "outputs": [],
   "source": [
    "X_test = X_test.values.reshape(-1,1)"
   ]
  },
  {
   "cell_type": "code",
   "execution_count": 267,
   "id": "ad99e6ac-d4be-46bc-a7b1-43da29f8b1e2",
   "metadata": {},
   "outputs": [],
   "source": [
    "KNN = KNeighborsRegressor(n_neighbors=1)"
   ]
  },
  {
   "cell_type": "code",
   "execution_count": 268,
   "id": "cd51455b-f40e-4a14-86d2-8db90c32cf2a",
   "metadata": {},
   "outputs": [
    {
     "data": {
      "text/html": [
       "<style>#sk-container-id-27 {color: black;background-color: white;}#sk-container-id-27 pre{padding: 0;}#sk-container-id-27 div.sk-toggleable {background-color: white;}#sk-container-id-27 label.sk-toggleable__label {cursor: pointer;display: block;width: 100%;margin-bottom: 0;padding: 0.3em;box-sizing: border-box;text-align: center;}#sk-container-id-27 label.sk-toggleable__label-arrow:before {content: \"▸\";float: left;margin-right: 0.25em;color: #696969;}#sk-container-id-27 label.sk-toggleable__label-arrow:hover:before {color: black;}#sk-container-id-27 div.sk-estimator:hover label.sk-toggleable__label-arrow:before {color: black;}#sk-container-id-27 div.sk-toggleable__content {max-height: 0;max-width: 0;overflow: hidden;text-align: left;background-color: #f0f8ff;}#sk-container-id-27 div.sk-toggleable__content pre {margin: 0.2em;color: black;border-radius: 0.25em;background-color: #f0f8ff;}#sk-container-id-27 input.sk-toggleable__control:checked~div.sk-toggleable__content {max-height: 200px;max-width: 100%;overflow: auto;}#sk-container-id-27 input.sk-toggleable__control:checked~label.sk-toggleable__label-arrow:before {content: \"▾\";}#sk-container-id-27 div.sk-estimator input.sk-toggleable__control:checked~label.sk-toggleable__label {background-color: #d4ebff;}#sk-container-id-27 div.sk-label input.sk-toggleable__control:checked~label.sk-toggleable__label {background-color: #d4ebff;}#sk-container-id-27 input.sk-hidden--visually {border: 0;clip: rect(1px 1px 1px 1px);clip: rect(1px, 1px, 1px, 1px);height: 1px;margin: -1px;overflow: hidden;padding: 0;position: absolute;width: 1px;}#sk-container-id-27 div.sk-estimator {font-family: monospace;background-color: #f0f8ff;border: 1px dotted black;border-radius: 0.25em;box-sizing: border-box;margin-bottom: 0.5em;}#sk-container-id-27 div.sk-estimator:hover {background-color: #d4ebff;}#sk-container-id-27 div.sk-parallel-item::after {content: \"\";width: 100%;border-bottom: 1px solid gray;flex-grow: 1;}#sk-container-id-27 div.sk-label:hover label.sk-toggleable__label {background-color: #d4ebff;}#sk-container-id-27 div.sk-serial::before {content: \"\";position: absolute;border-left: 1px solid gray;box-sizing: border-box;top: 0;bottom: 0;left: 50%;z-index: 0;}#sk-container-id-27 div.sk-serial {display: flex;flex-direction: column;align-items: center;background-color: white;padding-right: 0.2em;padding-left: 0.2em;position: relative;}#sk-container-id-27 div.sk-item {position: relative;z-index: 1;}#sk-container-id-27 div.sk-parallel {display: flex;align-items: stretch;justify-content: center;background-color: white;position: relative;}#sk-container-id-27 div.sk-item::before, #sk-container-id-27 div.sk-parallel-item::before {content: \"\";position: absolute;border-left: 1px solid gray;box-sizing: border-box;top: 0;bottom: 0;left: 50%;z-index: -1;}#sk-container-id-27 div.sk-parallel-item {display: flex;flex-direction: column;z-index: 1;position: relative;background-color: white;}#sk-container-id-27 div.sk-parallel-item:first-child::after {align-self: flex-end;width: 50%;}#sk-container-id-27 div.sk-parallel-item:last-child::after {align-self: flex-start;width: 50%;}#sk-container-id-27 div.sk-parallel-item:only-child::after {width: 0;}#sk-container-id-27 div.sk-dashed-wrapped {border: 1px dashed gray;margin: 0 0.4em 0.5em 0.4em;box-sizing: border-box;padding-bottom: 0.4em;background-color: white;}#sk-container-id-27 div.sk-label label {font-family: monospace;font-weight: bold;display: inline-block;line-height: 1.2em;}#sk-container-id-27 div.sk-label-container {text-align: center;}#sk-container-id-27 div.sk-container {/* jupyter's `normalize.less` sets `[hidden] { display: none; }` but bootstrap.min.css set `[hidden] { display: none !important; }` so we also need the `!important` here to be able to override the default hidden behavior on the sphinx rendered scikit-learn.org. See: https://github.com/scikit-learn/scikit-learn/issues/21755 */display: inline-block !important;position: relative;}#sk-container-id-27 div.sk-text-repr-fallback {display: none;}</style><div id=\"sk-container-id-27\" class=\"sk-top-container\"><div class=\"sk-text-repr-fallback\"><pre>KNeighborsRegressor(n_neighbors=1)</pre><b>In a Jupyter environment, please rerun this cell to show the HTML representation or trust the notebook. <br />On GitHub, the HTML representation is unable to render, please try loading this page with nbviewer.org.</b></div><div class=\"sk-container\" hidden><div class=\"sk-item\"><div class=\"sk-estimator sk-toggleable\"><input class=\"sk-toggleable__control sk-hidden--visually\" id=\"sk-estimator-id-49\" type=\"checkbox\" checked><label for=\"sk-estimator-id-49\" class=\"sk-toggleable__label sk-toggleable__label-arrow\">KNeighborsRegressor</label><div class=\"sk-toggleable__content\"><pre>KNeighborsRegressor(n_neighbors=1)</pre></div></div></div></div></div>"
      ],
      "text/plain": [
       "KNeighborsRegressor(n_neighbors=1)"
      ]
     },
     "execution_count": 268,
     "metadata": {},
     "output_type": "execute_result"
    }
   ],
   "source": [
    "KNN.fit(X_train,Y_train)"
   ]
  },
  {
   "cell_type": "code",
   "execution_count": 269,
   "id": "6e738179-c0d1-465d-86c3-2debf92365e7",
   "metadata": {},
   "outputs": [],
   "source": [
    "Pred3 = KNN.predict(X_test)"
   ]
  },
  {
   "cell_type": "code",
   "execution_count": 270,
   "id": "c1819b43-926e-4704-9094-8d8de91c9a75",
   "metadata": {},
   "outputs": [
    {
     "name": "stdout",
     "output_type": "stream",
     "text": [
      "R2_Score: 0.1319357956241235\n",
      "Mean_Absolute_Error: 21.160441540772712\n",
      "Mean_Squared_Error: 720.8092996593446\n"
     ]
    }
   ],
   "source": [
    "print(\"R2_Score:\",r2_score(Y_test,Pred3))\n",
    "print(\"Mean_Absolute_Error:\",mean_absolute_error(Y_test,Pred3))\n",
    "print(\"Mean_Squared_Error:\",mean_squared_error(Y_test,Pred3))"
   ]
  },
  {
   "cell_type": "code",
   "execution_count": 271,
   "id": "d6fe4773-b545-425a-ab49-db596b24a7d3",
   "metadata": {},
   "outputs": [],
   "source": [
    "param_grids = {\n",
    "    'n_neighbors': [3, 5, 7, 9, 11],  # Values for k\n",
    "    'metric': ['euclidean', 'manhattan', 'minkowski']  # Distance metrics\n",
    "}"
   ]
  },
  {
   "cell_type": "code",
   "execution_count": 272,
   "id": "656d1707-fdd2-4a37-910b-cf3666ca52bf",
   "metadata": {},
   "outputs": [],
   "source": [
    "grid_search = GridSearchCV(estimator=KNN, param_grid=param_grids, cv=5, scoring = 'neg_mean_squared_error', n_jobs=-1)"
   ]
  },
  {
   "cell_type": "code",
   "execution_count": 273,
   "id": "f92ec556-0ff0-405d-8f79-ae8f5c0d9a99",
   "metadata": {},
   "outputs": [
    {
     "data": {
      "text/html": [
       "<style>#sk-container-id-28 {color: black;background-color: white;}#sk-container-id-28 pre{padding: 0;}#sk-container-id-28 div.sk-toggleable {background-color: white;}#sk-container-id-28 label.sk-toggleable__label {cursor: pointer;display: block;width: 100%;margin-bottom: 0;padding: 0.3em;box-sizing: border-box;text-align: center;}#sk-container-id-28 label.sk-toggleable__label-arrow:before {content: \"▸\";float: left;margin-right: 0.25em;color: #696969;}#sk-container-id-28 label.sk-toggleable__label-arrow:hover:before {color: black;}#sk-container-id-28 div.sk-estimator:hover label.sk-toggleable__label-arrow:before {color: black;}#sk-container-id-28 div.sk-toggleable__content {max-height: 0;max-width: 0;overflow: hidden;text-align: left;background-color: #f0f8ff;}#sk-container-id-28 div.sk-toggleable__content pre {margin: 0.2em;color: black;border-radius: 0.25em;background-color: #f0f8ff;}#sk-container-id-28 input.sk-toggleable__control:checked~div.sk-toggleable__content {max-height: 200px;max-width: 100%;overflow: auto;}#sk-container-id-28 input.sk-toggleable__control:checked~label.sk-toggleable__label-arrow:before {content: \"▾\";}#sk-container-id-28 div.sk-estimator input.sk-toggleable__control:checked~label.sk-toggleable__label {background-color: #d4ebff;}#sk-container-id-28 div.sk-label input.sk-toggleable__control:checked~label.sk-toggleable__label {background-color: #d4ebff;}#sk-container-id-28 input.sk-hidden--visually {border: 0;clip: rect(1px 1px 1px 1px);clip: rect(1px, 1px, 1px, 1px);height: 1px;margin: -1px;overflow: hidden;padding: 0;position: absolute;width: 1px;}#sk-container-id-28 div.sk-estimator {font-family: monospace;background-color: #f0f8ff;border: 1px dotted black;border-radius: 0.25em;box-sizing: border-box;margin-bottom: 0.5em;}#sk-container-id-28 div.sk-estimator:hover {background-color: #d4ebff;}#sk-container-id-28 div.sk-parallel-item::after {content: \"\";width: 100%;border-bottom: 1px solid gray;flex-grow: 1;}#sk-container-id-28 div.sk-label:hover label.sk-toggleable__label {background-color: #d4ebff;}#sk-container-id-28 div.sk-serial::before {content: \"\";position: absolute;border-left: 1px solid gray;box-sizing: border-box;top: 0;bottom: 0;left: 50%;z-index: 0;}#sk-container-id-28 div.sk-serial {display: flex;flex-direction: column;align-items: center;background-color: white;padding-right: 0.2em;padding-left: 0.2em;position: relative;}#sk-container-id-28 div.sk-item {position: relative;z-index: 1;}#sk-container-id-28 div.sk-parallel {display: flex;align-items: stretch;justify-content: center;background-color: white;position: relative;}#sk-container-id-28 div.sk-item::before, #sk-container-id-28 div.sk-parallel-item::before {content: \"\";position: absolute;border-left: 1px solid gray;box-sizing: border-box;top: 0;bottom: 0;left: 50%;z-index: -1;}#sk-container-id-28 div.sk-parallel-item {display: flex;flex-direction: column;z-index: 1;position: relative;background-color: white;}#sk-container-id-28 div.sk-parallel-item:first-child::after {align-self: flex-end;width: 50%;}#sk-container-id-28 div.sk-parallel-item:last-child::after {align-self: flex-start;width: 50%;}#sk-container-id-28 div.sk-parallel-item:only-child::after {width: 0;}#sk-container-id-28 div.sk-dashed-wrapped {border: 1px dashed gray;margin: 0 0.4em 0.5em 0.4em;box-sizing: border-box;padding-bottom: 0.4em;background-color: white;}#sk-container-id-28 div.sk-label label {font-family: monospace;font-weight: bold;display: inline-block;line-height: 1.2em;}#sk-container-id-28 div.sk-label-container {text-align: center;}#sk-container-id-28 div.sk-container {/* jupyter's `normalize.less` sets `[hidden] { display: none; }` but bootstrap.min.css set `[hidden] { display: none !important; }` so we also need the `!important` here to be able to override the default hidden behavior on the sphinx rendered scikit-learn.org. See: https://github.com/scikit-learn/scikit-learn/issues/21755 */display: inline-block !important;position: relative;}#sk-container-id-28 div.sk-text-repr-fallback {display: none;}</style><div id=\"sk-container-id-28\" class=\"sk-top-container\"><div class=\"sk-text-repr-fallback\"><pre>GridSearchCV(cv=5, estimator=KNeighborsRegressor(n_neighbors=1), n_jobs=-1,\n",
       "             param_grid={&#x27;metric&#x27;: [&#x27;euclidean&#x27;, &#x27;manhattan&#x27;, &#x27;minkowski&#x27;],\n",
       "                         &#x27;n_neighbors&#x27;: [3, 5, 7, 9, 11]},\n",
       "             scoring=&#x27;neg_mean_squared_error&#x27;)</pre><b>In a Jupyter environment, please rerun this cell to show the HTML representation or trust the notebook. <br />On GitHub, the HTML representation is unable to render, please try loading this page with nbviewer.org.</b></div><div class=\"sk-container\" hidden><div class=\"sk-item sk-dashed-wrapped\"><div class=\"sk-label-container\"><div class=\"sk-label sk-toggleable\"><input class=\"sk-toggleable__control sk-hidden--visually\" id=\"sk-estimator-id-50\" type=\"checkbox\" ><label for=\"sk-estimator-id-50\" class=\"sk-toggleable__label sk-toggleable__label-arrow\">GridSearchCV</label><div class=\"sk-toggleable__content\"><pre>GridSearchCV(cv=5, estimator=KNeighborsRegressor(n_neighbors=1), n_jobs=-1,\n",
       "             param_grid={&#x27;metric&#x27;: [&#x27;euclidean&#x27;, &#x27;manhattan&#x27;, &#x27;minkowski&#x27;],\n",
       "                         &#x27;n_neighbors&#x27;: [3, 5, 7, 9, 11]},\n",
       "             scoring=&#x27;neg_mean_squared_error&#x27;)</pre></div></div></div><div class=\"sk-parallel\"><div class=\"sk-parallel-item\"><div class=\"sk-item\"><div class=\"sk-label-container\"><div class=\"sk-label sk-toggleable\"><input class=\"sk-toggleable__control sk-hidden--visually\" id=\"sk-estimator-id-51\" type=\"checkbox\" ><label for=\"sk-estimator-id-51\" class=\"sk-toggleable__label sk-toggleable__label-arrow\">estimator: KNeighborsRegressor</label><div class=\"sk-toggleable__content\"><pre>KNeighborsRegressor(n_neighbors=1)</pre></div></div></div><div class=\"sk-serial\"><div class=\"sk-item\"><div class=\"sk-estimator sk-toggleable\"><input class=\"sk-toggleable__control sk-hidden--visually\" id=\"sk-estimator-id-52\" type=\"checkbox\" ><label for=\"sk-estimator-id-52\" class=\"sk-toggleable__label sk-toggleable__label-arrow\">KNeighborsRegressor</label><div class=\"sk-toggleable__content\"><pre>KNeighborsRegressor(n_neighbors=1)</pre></div></div></div></div></div></div></div></div></div></div>"
      ],
      "text/plain": [
       "GridSearchCV(cv=5, estimator=KNeighborsRegressor(n_neighbors=1), n_jobs=-1,\n",
       "             param_grid={'metric': ['euclidean', 'manhattan', 'minkowski'],\n",
       "                         'n_neighbors': [3, 5, 7, 9, 11]},\n",
       "             scoring='neg_mean_squared_error')"
      ]
     },
     "execution_count": 273,
     "metadata": {},
     "output_type": "execute_result"
    }
   ],
   "source": [
    "grid_search.fit(X_train, Y_train)"
   ]
  },
  {
   "cell_type": "code",
   "execution_count": 274,
   "id": "5b3d0135-f8f2-420d-82ac-12920c28f1cb",
   "metadata": {},
   "outputs": [],
   "source": [
    "_New_Model_ = grid_search.best_estimator_"
   ]
  },
  {
   "cell_type": "code",
   "execution_count": 275,
   "id": "3d9fa796-6095-4d42-88d0-3247f25084a4",
   "metadata": {},
   "outputs": [],
   "source": [
    "pred3 = _New_Model_.predict(X_test)"
   ]
  },
  {
   "cell_type": "code",
   "execution_count": 276,
   "id": "7a005b4b-ab74-447c-b44f-ca02ac9d9a2d",
   "metadata": {},
   "outputs": [
    {
     "name": "stdout",
     "output_type": "stream",
     "text": [
      "Best Parameters: {'metric': 'euclidean', 'n_neighbors': 11}\n",
      "Best Score: 397.31513473416834\n"
     ]
    }
   ],
   "source": [
    "print(\"Best Parameters:\", grid_search.best_params_)\n",
    "print(\"Best Score:\", -grid_search.best_score_)"
   ]
  },
  {
   "cell_type": "code",
   "execution_count": 277,
   "id": "3577e564-dfee-4985-95f4-c345e9070093",
   "metadata": {},
   "outputs": [
    {
     "name": "stdout",
     "output_type": "stream",
     "text": [
      "R2_Score: 0.5357131774495435\n",
      "Mean_Absolute_Error: 16.14028625977669\n",
      "Mean_Squared_Error: 385.527081656677\n"
     ]
    }
   ],
   "source": [
    "print(\"R2_Score:\",r2_score(Y_test,pred3))\n",
    "print(\"Mean_Absolute_Error:\",mean_absolute_error(Y_test,pred3))\n",
    "print(\"Mean_Squared_Error:\",mean_squared_error(Y_test,pred3))"
   ]
  },
  {
   "cell_type": "markdown",
   "id": "03bce221-e23d-416f-946b-bacd7f2e2c6d",
   "metadata": {},
   "source": [
    "### SVM Algorithm Model"
   ]
  },
  {
   "cell_type": "code",
   "execution_count": 278,
   "id": "db02318e-828f-402f-b0f4-e9a590ccc426",
   "metadata": {},
   "outputs": [],
   "source": [
    "import pandas as pd\n",
    "import numpy as np\n",
    "import matplotlib.pyplot as plt\n",
    "import seaborn as sns\n",
    "from sklearn.svm import SVR\n",
    "from sklearn.metrics import r2_score, mean_squared_error, mean_absolute_error\n",
    "from sklearn.model_selection import train_test_split, GridSearchCV"
   ]
  },
  {
   "cell_type": "code",
   "execution_count": 279,
   "id": "4fd4e0f6-0adc-4891-b4be-4ee1f12154b4",
   "metadata": {},
   "outputs": [],
   "source": [
    "X_train,X_test,Y_train,Y_test = train_test_split(X,Y,test_size = 0.20, random_state = 42)"
   ]
  },
  {
   "cell_type": "code",
   "execution_count": 284,
   "id": "5ba0e050-dbf5-464c-95a5-953148be0503",
   "metadata": {},
   "outputs": [
    {
     "data": {
      "text/plain": [
       "(800, 1)"
      ]
     },
     "execution_count": 284,
     "metadata": {},
     "output_type": "execute_result"
    }
   ],
   "source": [
    "X_train.shape"
   ]
  },
  {
   "cell_type": "code",
   "execution_count": 281,
   "id": "f1bbc85c-b542-45d9-ac8f-52eba4b49e9a",
   "metadata": {},
   "outputs": [],
   "source": [
    "X_train = X_train.values.reshape(-1,1)"
   ]
  },
  {
   "cell_type": "code",
   "execution_count": 285,
   "id": "d2dee63a-20b4-4e8b-b3cf-a5cee60cb4be",
   "metadata": {},
   "outputs": [
    {
     "data": {
      "text/plain": [
       "(200, 1)"
      ]
     },
     "execution_count": 285,
     "metadata": {},
     "output_type": "execute_result"
    }
   ],
   "source": [
    "X_test.shape"
   ]
  },
  {
   "cell_type": "code",
   "execution_count": 283,
   "id": "334196df-5044-46e2-8a50-751203f0aa9c",
   "metadata": {},
   "outputs": [],
   "source": [
    "X_test = X_test.values.reshape(-1,1)"
   ]
  },
  {
   "cell_type": "code",
   "execution_count": 286,
   "id": "a36398a5-2e84-4339-85c2-bf6d38495d4f",
   "metadata": {},
   "outputs": [],
   "source": [
    "SVM = SVR(C=11,kernel='rbf',gamma=1)"
   ]
  },
  {
   "cell_type": "code",
   "execution_count": 287,
   "id": "2fdc6ced-e899-49a0-887c-d610a7d62414",
   "metadata": {},
   "outputs": [
    {
     "data": {
      "text/html": [
       "<style>#sk-container-id-29 {color: black;background-color: white;}#sk-container-id-29 pre{padding: 0;}#sk-container-id-29 div.sk-toggleable {background-color: white;}#sk-container-id-29 label.sk-toggleable__label {cursor: pointer;display: block;width: 100%;margin-bottom: 0;padding: 0.3em;box-sizing: border-box;text-align: center;}#sk-container-id-29 label.sk-toggleable__label-arrow:before {content: \"▸\";float: left;margin-right: 0.25em;color: #696969;}#sk-container-id-29 label.sk-toggleable__label-arrow:hover:before {color: black;}#sk-container-id-29 div.sk-estimator:hover label.sk-toggleable__label-arrow:before {color: black;}#sk-container-id-29 div.sk-toggleable__content {max-height: 0;max-width: 0;overflow: hidden;text-align: left;background-color: #f0f8ff;}#sk-container-id-29 div.sk-toggleable__content pre {margin: 0.2em;color: black;border-radius: 0.25em;background-color: #f0f8ff;}#sk-container-id-29 input.sk-toggleable__control:checked~div.sk-toggleable__content {max-height: 200px;max-width: 100%;overflow: auto;}#sk-container-id-29 input.sk-toggleable__control:checked~label.sk-toggleable__label-arrow:before {content: \"▾\";}#sk-container-id-29 div.sk-estimator input.sk-toggleable__control:checked~label.sk-toggleable__label {background-color: #d4ebff;}#sk-container-id-29 div.sk-label input.sk-toggleable__control:checked~label.sk-toggleable__label {background-color: #d4ebff;}#sk-container-id-29 input.sk-hidden--visually {border: 0;clip: rect(1px 1px 1px 1px);clip: rect(1px, 1px, 1px, 1px);height: 1px;margin: -1px;overflow: hidden;padding: 0;position: absolute;width: 1px;}#sk-container-id-29 div.sk-estimator {font-family: monospace;background-color: #f0f8ff;border: 1px dotted black;border-radius: 0.25em;box-sizing: border-box;margin-bottom: 0.5em;}#sk-container-id-29 div.sk-estimator:hover {background-color: #d4ebff;}#sk-container-id-29 div.sk-parallel-item::after {content: \"\";width: 100%;border-bottom: 1px solid gray;flex-grow: 1;}#sk-container-id-29 div.sk-label:hover label.sk-toggleable__label {background-color: #d4ebff;}#sk-container-id-29 div.sk-serial::before {content: \"\";position: absolute;border-left: 1px solid gray;box-sizing: border-box;top: 0;bottom: 0;left: 50%;z-index: 0;}#sk-container-id-29 div.sk-serial {display: flex;flex-direction: column;align-items: center;background-color: white;padding-right: 0.2em;padding-left: 0.2em;position: relative;}#sk-container-id-29 div.sk-item {position: relative;z-index: 1;}#sk-container-id-29 div.sk-parallel {display: flex;align-items: stretch;justify-content: center;background-color: white;position: relative;}#sk-container-id-29 div.sk-item::before, #sk-container-id-29 div.sk-parallel-item::before {content: \"\";position: absolute;border-left: 1px solid gray;box-sizing: border-box;top: 0;bottom: 0;left: 50%;z-index: -1;}#sk-container-id-29 div.sk-parallel-item {display: flex;flex-direction: column;z-index: 1;position: relative;background-color: white;}#sk-container-id-29 div.sk-parallel-item:first-child::after {align-self: flex-end;width: 50%;}#sk-container-id-29 div.sk-parallel-item:last-child::after {align-self: flex-start;width: 50%;}#sk-container-id-29 div.sk-parallel-item:only-child::after {width: 0;}#sk-container-id-29 div.sk-dashed-wrapped {border: 1px dashed gray;margin: 0 0.4em 0.5em 0.4em;box-sizing: border-box;padding-bottom: 0.4em;background-color: white;}#sk-container-id-29 div.sk-label label {font-family: monospace;font-weight: bold;display: inline-block;line-height: 1.2em;}#sk-container-id-29 div.sk-label-container {text-align: center;}#sk-container-id-29 div.sk-container {/* jupyter's `normalize.less` sets `[hidden] { display: none; }` but bootstrap.min.css set `[hidden] { display: none !important; }` so we also need the `!important` here to be able to override the default hidden behavior on the sphinx rendered scikit-learn.org. See: https://github.com/scikit-learn/scikit-learn/issues/21755 */display: inline-block !important;position: relative;}#sk-container-id-29 div.sk-text-repr-fallback {display: none;}</style><div id=\"sk-container-id-29\" class=\"sk-top-container\"><div class=\"sk-text-repr-fallback\"><pre>SVR(C=11, gamma=1)</pre><b>In a Jupyter environment, please rerun this cell to show the HTML representation or trust the notebook. <br />On GitHub, the HTML representation is unable to render, please try loading this page with nbviewer.org.</b></div><div class=\"sk-container\" hidden><div class=\"sk-item\"><div class=\"sk-estimator sk-toggleable\"><input class=\"sk-toggleable__control sk-hidden--visually\" id=\"sk-estimator-id-53\" type=\"checkbox\" checked><label for=\"sk-estimator-id-53\" class=\"sk-toggleable__label sk-toggleable__label-arrow\">SVR</label><div class=\"sk-toggleable__content\"><pre>SVR(C=11, gamma=1)</pre></div></div></div></div></div>"
      ],
      "text/plain": [
       "SVR(C=11, gamma=1)"
      ]
     },
     "execution_count": 287,
     "metadata": {},
     "output_type": "execute_result"
    }
   ],
   "source": [
    "SVM.fit(X_train,Y_train)"
   ]
  },
  {
   "cell_type": "code",
   "execution_count": 288,
   "id": "8dc57fb4-b648-4ce9-95be-e532263751f4",
   "metadata": {},
   "outputs": [],
   "source": [
    "Pred4 = SVM.predict(X_test)"
   ]
  },
  {
   "cell_type": "code",
   "execution_count": 289,
   "id": "65d56113-9bd8-4619-9967-e47f0f1f9127",
   "metadata": {},
   "outputs": [
    {
     "name": "stdout",
     "output_type": "stream",
     "text": [
      "R2_Score: 0.2781965121982841\n",
      "Mean_Absolute_Error: 17.007299381373976\n",
      "Mean_Squared_Error: 599.3596601625816\n"
     ]
    }
   ],
   "source": [
    "print(\"R2_Score:\",r2_score(Y_test,Pred4))\n",
    "print(\"Mean_Absolute_Error:\",mean_absolute_error(Y_test,Pred4))\n",
    "print(\"Mean_Squared_Error:\",mean_squared_error(Y_test,Pred4))"
   ]
  },
  {
   "cell_type": "code",
   "execution_count": 290,
   "id": "aeadc0c3-a78c-4144-a56b-a401d2a07477",
   "metadata": {},
   "outputs": [],
   "source": [
    "params_grid={\n",
    "    'gamma':[0,0.1,0.01,0.2,1,2,3,4,5,6,7,10,'scale'],\n",
    "    'C':[1,2,3,4,5,10,15,20,25,30,35,50],\n",
    "    'kernel':['rbf']\n",
    "}"
   ]
  },
  {
   "cell_type": "code",
   "execution_count": 291,
   "id": "d93b82cc-08f5-4a6f-a0aa-7d883afc3fbf",
   "metadata": {},
   "outputs": [],
   "source": [
    "grided = SVR()\n",
    "grid_model = GridSearchCV(estimator = SVM, param_grid = params_grid, cv=5,scoring = 'neg_mean_squared_error', n_jobs=-1)"
   ]
  },
  {
   "cell_type": "code",
   "execution_count": 292,
   "id": "b78e360a-060b-4c0a-b9f1-c62eee45d7bd",
   "metadata": {},
   "outputs": [
    {
     "data": {
      "text/html": [
       "<style>#sk-container-id-30 {color: black;background-color: white;}#sk-container-id-30 pre{padding: 0;}#sk-container-id-30 div.sk-toggleable {background-color: white;}#sk-container-id-30 label.sk-toggleable__label {cursor: pointer;display: block;width: 100%;margin-bottom: 0;padding: 0.3em;box-sizing: border-box;text-align: center;}#sk-container-id-30 label.sk-toggleable__label-arrow:before {content: \"▸\";float: left;margin-right: 0.25em;color: #696969;}#sk-container-id-30 label.sk-toggleable__label-arrow:hover:before {color: black;}#sk-container-id-30 div.sk-estimator:hover label.sk-toggleable__label-arrow:before {color: black;}#sk-container-id-30 div.sk-toggleable__content {max-height: 0;max-width: 0;overflow: hidden;text-align: left;background-color: #f0f8ff;}#sk-container-id-30 div.sk-toggleable__content pre {margin: 0.2em;color: black;border-radius: 0.25em;background-color: #f0f8ff;}#sk-container-id-30 input.sk-toggleable__control:checked~div.sk-toggleable__content {max-height: 200px;max-width: 100%;overflow: auto;}#sk-container-id-30 input.sk-toggleable__control:checked~label.sk-toggleable__label-arrow:before {content: \"▾\";}#sk-container-id-30 div.sk-estimator input.sk-toggleable__control:checked~label.sk-toggleable__label {background-color: #d4ebff;}#sk-container-id-30 div.sk-label input.sk-toggleable__control:checked~label.sk-toggleable__label {background-color: #d4ebff;}#sk-container-id-30 input.sk-hidden--visually {border: 0;clip: rect(1px 1px 1px 1px);clip: rect(1px, 1px, 1px, 1px);height: 1px;margin: -1px;overflow: hidden;padding: 0;position: absolute;width: 1px;}#sk-container-id-30 div.sk-estimator {font-family: monospace;background-color: #f0f8ff;border: 1px dotted black;border-radius: 0.25em;box-sizing: border-box;margin-bottom: 0.5em;}#sk-container-id-30 div.sk-estimator:hover {background-color: #d4ebff;}#sk-container-id-30 div.sk-parallel-item::after {content: \"\";width: 100%;border-bottom: 1px solid gray;flex-grow: 1;}#sk-container-id-30 div.sk-label:hover label.sk-toggleable__label {background-color: #d4ebff;}#sk-container-id-30 div.sk-serial::before {content: \"\";position: absolute;border-left: 1px solid gray;box-sizing: border-box;top: 0;bottom: 0;left: 50%;z-index: 0;}#sk-container-id-30 div.sk-serial {display: flex;flex-direction: column;align-items: center;background-color: white;padding-right: 0.2em;padding-left: 0.2em;position: relative;}#sk-container-id-30 div.sk-item {position: relative;z-index: 1;}#sk-container-id-30 div.sk-parallel {display: flex;align-items: stretch;justify-content: center;background-color: white;position: relative;}#sk-container-id-30 div.sk-item::before, #sk-container-id-30 div.sk-parallel-item::before {content: \"\";position: absolute;border-left: 1px solid gray;box-sizing: border-box;top: 0;bottom: 0;left: 50%;z-index: -1;}#sk-container-id-30 div.sk-parallel-item {display: flex;flex-direction: column;z-index: 1;position: relative;background-color: white;}#sk-container-id-30 div.sk-parallel-item:first-child::after {align-self: flex-end;width: 50%;}#sk-container-id-30 div.sk-parallel-item:last-child::after {align-self: flex-start;width: 50%;}#sk-container-id-30 div.sk-parallel-item:only-child::after {width: 0;}#sk-container-id-30 div.sk-dashed-wrapped {border: 1px dashed gray;margin: 0 0.4em 0.5em 0.4em;box-sizing: border-box;padding-bottom: 0.4em;background-color: white;}#sk-container-id-30 div.sk-label label {font-family: monospace;font-weight: bold;display: inline-block;line-height: 1.2em;}#sk-container-id-30 div.sk-label-container {text-align: center;}#sk-container-id-30 div.sk-container {/* jupyter's `normalize.less` sets `[hidden] { display: none; }` but bootstrap.min.css set `[hidden] { display: none !important; }` so we also need the `!important` here to be able to override the default hidden behavior on the sphinx rendered scikit-learn.org. See: https://github.com/scikit-learn/scikit-learn/issues/21755 */display: inline-block !important;position: relative;}#sk-container-id-30 div.sk-text-repr-fallback {display: none;}</style><div id=\"sk-container-id-30\" class=\"sk-top-container\"><div class=\"sk-text-repr-fallback\"><pre>GridSearchCV(cv=5, estimator=SVR(C=11, gamma=1), n_jobs=-1,\n",
       "             param_grid={&#x27;C&#x27;: [1, 2, 3, 4, 5, 10, 15, 20, 25, 30, 35, 50],\n",
       "                         &#x27;gamma&#x27;: [0, 0.1, 0.01, 0.2, 1, 2, 3, 4, 5, 6, 7, 10,\n",
       "                                   &#x27;scale&#x27;],\n",
       "                         &#x27;kernel&#x27;: [&#x27;rbf&#x27;]},\n",
       "             scoring=&#x27;neg_mean_squared_error&#x27;)</pre><b>In a Jupyter environment, please rerun this cell to show the HTML representation or trust the notebook. <br />On GitHub, the HTML representation is unable to render, please try loading this page with nbviewer.org.</b></div><div class=\"sk-container\" hidden><div class=\"sk-item sk-dashed-wrapped\"><div class=\"sk-label-container\"><div class=\"sk-label sk-toggleable\"><input class=\"sk-toggleable__control sk-hidden--visually\" id=\"sk-estimator-id-54\" type=\"checkbox\" ><label for=\"sk-estimator-id-54\" class=\"sk-toggleable__label sk-toggleable__label-arrow\">GridSearchCV</label><div class=\"sk-toggleable__content\"><pre>GridSearchCV(cv=5, estimator=SVR(C=11, gamma=1), n_jobs=-1,\n",
       "             param_grid={&#x27;C&#x27;: [1, 2, 3, 4, 5, 10, 15, 20, 25, 30, 35, 50],\n",
       "                         &#x27;gamma&#x27;: [0, 0.1, 0.01, 0.2, 1, 2, 3, 4, 5, 6, 7, 10,\n",
       "                                   &#x27;scale&#x27;],\n",
       "                         &#x27;kernel&#x27;: [&#x27;rbf&#x27;]},\n",
       "             scoring=&#x27;neg_mean_squared_error&#x27;)</pre></div></div></div><div class=\"sk-parallel\"><div class=\"sk-parallel-item\"><div class=\"sk-item\"><div class=\"sk-label-container\"><div class=\"sk-label sk-toggleable\"><input class=\"sk-toggleable__control sk-hidden--visually\" id=\"sk-estimator-id-55\" type=\"checkbox\" ><label for=\"sk-estimator-id-55\" class=\"sk-toggleable__label sk-toggleable__label-arrow\">estimator: SVR</label><div class=\"sk-toggleable__content\"><pre>SVR(C=11, gamma=1)</pre></div></div></div><div class=\"sk-serial\"><div class=\"sk-item\"><div class=\"sk-estimator sk-toggleable\"><input class=\"sk-toggleable__control sk-hidden--visually\" id=\"sk-estimator-id-56\" type=\"checkbox\" ><label for=\"sk-estimator-id-56\" class=\"sk-toggleable__label sk-toggleable__label-arrow\">SVR</label><div class=\"sk-toggleable__content\"><pre>SVR(C=11, gamma=1)</pre></div></div></div></div></div></div></div></div></div></div>"
      ],
      "text/plain": [
       "GridSearchCV(cv=5, estimator=SVR(C=11, gamma=1), n_jobs=-1,\n",
       "             param_grid={'C': [1, 2, 3, 4, 5, 10, 15, 20, 25, 30, 35, 50],\n",
       "                         'gamma': [0, 0.1, 0.01, 0.2, 1, 2, 3, 4, 5, 6, 7, 10,\n",
       "                                   'scale'],\n",
       "                         'kernel': ['rbf']},\n",
       "             scoring='neg_mean_squared_error')"
      ]
     },
     "execution_count": 292,
     "metadata": {},
     "output_type": "execute_result"
    }
   ],
   "source": [
    "grid_model.fit(X_train,Y_train)"
   ]
  },
  {
   "cell_type": "code",
   "execution_count": 293,
   "id": "4ecce998-28b9-4689-a6a6-fdc728e7869d",
   "metadata": {},
   "outputs": [],
   "source": [
    "NewModel = grid_model.best_estimator_"
   ]
  },
  {
   "cell_type": "code",
   "execution_count": 294,
   "id": "889a796b-9453-435b-a23d-d355adf9b5d3",
   "metadata": {},
   "outputs": [],
   "source": [
    "pred4 = NewModel.predict(X_test)"
   ]
  },
  {
   "cell_type": "code",
   "execution_count": 295,
   "id": "e8d9dc94-aa9a-43e5-8016-b346c3891708",
   "metadata": {},
   "outputs": [
    {
     "name": "stdout",
     "output_type": "stream",
     "text": [
      "Best Parameters: {'C': 35, 'gamma': 'scale', 'kernel': 'rbf'}\n",
      "Best Score: 389.74124661835543\n"
     ]
    }
   ],
   "source": [
    "print(\"Best Parameters:\", grid_model.best_params_)\n",
    "print(\"Best Score:\", -grid_model.best_score_)"
   ]
  },
  {
   "cell_type": "code",
   "execution_count": 296,
   "id": "dc180d45-1737-4d59-a3d3-01341921fdd9",
   "metadata": {},
   "outputs": [
    {
     "name": "stdout",
     "output_type": "stream",
     "text": [
      "R2_Score: 0.562245296613725\n",
      "Mean_Absolute_Error: 15.643108917543291\n",
      "Mean_Squared_Error: 363.49576399975064\n"
     ]
    }
   ],
   "source": [
    "print(\"R2_Score:\",r2_score(Y_test,pred4))\n",
    "print(\"Mean_Absolute_Error:\",mean_absolute_error(Y_test,pred4))\n",
    "print(\"Mean_Squared_Error:\",mean_squared_error(Y_test,pred4))"
   ]
  }
 ],
 "metadata": {
  "kernelspec": {
   "display_name": "Python 3 (ipykernel)",
   "language": "python",
   "name": "python3"
  },
  "language_info": {
   "codemirror_mode": {
    "name": "ipython",
    "version": 3
   },
   "file_extension": ".py",
   "mimetype": "text/x-python",
   "name": "python",
   "nbconvert_exporter": "python",
   "pygments_lexer": "ipython3",
   "version": "3.11.7"
  }
 },
 "nbformat": 4,
 "nbformat_minor": 5
}
